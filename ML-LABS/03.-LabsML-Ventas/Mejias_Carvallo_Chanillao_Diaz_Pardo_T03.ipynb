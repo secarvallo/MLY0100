{
 "cells": [
  {
   "cell_type": "markdown",
   "id": "f2874248",
   "metadata": {
    "id": "f2874248"
   },
   "source": [
    "\n",
    "# Taller de análisis exploratorio"
   ]
  },
  {
   "cell_type": "markdown",
   "id": "07456771",
   "metadata": {
    "id": "07456771"
   },
   "source": [
    "Nombres:\n",
    "\n"
   ]
  },
  {
   "cell_type": "markdown",
   "id": "46371338",
   "metadata": {
    "id": "46371338"
   },
   "source": [
    "Para poder realizar cualquier análisis usaremos siempre estas librerias para empezar\n"
   ]
  },
  {
   "cell_type": "code",
   "id": "588fbe75",
   "metadata": {
    "id": "588fbe75",
    "ExecuteTime": {
     "end_time": "2025-09-07T04:11:00.298723Z",
     "start_time": "2025-09-07T04:11:00.285697Z"
    }
   },
   "source": [
    "import random\n",
    "\n",
    "import numpy as np\n",
    "import pandas as pd\n",
    "import matplotlib.pyplot as plt\n",
    "import seaborn as sns"
   ],
   "outputs": [],
   "execution_count": 190
  },
  {
   "cell_type": "code",
   "id": "e96f0424",
   "metadata": {
    "id": "e96f0424",
    "ExecuteTime": {
     "end_time": "2025-09-07T04:11:00.346264Z",
     "start_time": "2025-09-07T04:11:00.304723Z"
    }
   },
   "source": [
    "# Realizamos la carga de datos.\n",
    "data = pd.read_csv(\"ventas_tienda.csv\")  #archivo a analizar\n"
   ],
   "outputs": [],
   "execution_count": 191
  },
  {
   "cell_type": "markdown",
   "source": [
    "### ID_Venta:Identificador único de la venta\n",
    "### Producto:Nombre del producto\n",
    "### Categoría: Categoría del producto (Electrónica, Ropa, Hogar, etc.)\n",
    "### Precio: Precio unitario\n",
    "### Cantidad: Cantidad vendida\n",
    "### Fecha: Fecha de la venta\n",
    "### Ciudad: Ciudad donde se realizó la venta\n",
    "\n",
    "### Método_Pago: Tarjeta, Transferencia, Efectivo"
   ],
   "metadata": {
    "id": "NS8OlQ_1hoBQ"
   },
   "id": "NS8OlQ_1hoBQ"
  },
  {
   "metadata": {},
   "cell_type": "markdown",
   "source": "#  Intervención de datos\n",
   "id": "cf35cc6e7a5f9684"
  },
  {
   "metadata": {},
   "cell_type": "markdown",
   "source": "### 1.- Importar el dataset y mostrar las primeras 10 filas.",
   "id": "11d07de7261915b6"
  },
  {
   "metadata": {
    "ExecuteTime": {
     "end_time": "2025-09-07T04:11:00.376779Z",
     "start_time": "2025-09-07T04:11:00.354268Z"
    }
   },
   "cell_type": "code",
   "source": [
    "row_10 = data.head(10)\n",
    "row_10"
   ],
   "id": "a07cf4e0194cc4de",
   "outputs": [
    {
     "data": {
      "text/plain": [
       "   ID_Venta     Producto    Categoría  Precio  Cantidad       Fecha  \\\n",
       "0         1      Celular  Electrónica  250000         1  2025-06-15   \n",
       "1         2  Silla Gamer        Hogar  120000         2  2025-01-26   \n",
       "2         3      Celular  Electrónica  250000         5  2025-04-18   \n",
       "3         4      Zapatos         Ropa   35000         1  2025-08-21   \n",
       "4         5  Silla Gamer        Hogar  120000         2  2025-02-23   \n",
       "5         6  Auriculares  Electrónica   15000         5  2024-12-05   \n",
       "6         7    Licuadora        Hogar   45000         4  2024-12-13   \n",
       "7         8    Televisor  Electrónica  300000         3  2024-09-17   \n",
       "8         9      Zapatos         Ropa   35000         3  2025-05-09   \n",
       "9        10  Silla Gamer        Hogar  120000         3  2025-02-24   \n",
       "\n",
       "        Ciudad    Método_Pago  \n",
       "0          NaN       Efectivo  \n",
       "1   Valparaíso  Transferencia  \n",
       "2     Santiago  Transferencia  \n",
       "3     Santiago        Tarjeta  \n",
       "4  Antofagasta  Transferencia  \n",
       "5   Valparaíso  Transferencia  \n",
       "6   Valparaíso       Efectivo  \n",
       "7     Santiago        Tarjeta  \n",
       "8   Concepción        Tarjeta  \n",
       "9     Santiago        Tarjeta  "
      ],
      "text/html": [
       "<div>\n",
       "<style scoped>\n",
       "    .dataframe tbody tr th:only-of-type {\n",
       "        vertical-align: middle;\n",
       "    }\n",
       "\n",
       "    .dataframe tbody tr th {\n",
       "        vertical-align: top;\n",
       "    }\n",
       "\n",
       "    .dataframe thead th {\n",
       "        text-align: right;\n",
       "    }\n",
       "</style>\n",
       "<table border=\"1\" class=\"dataframe\">\n",
       "  <thead>\n",
       "    <tr style=\"text-align: right;\">\n",
       "      <th></th>\n",
       "      <th>ID_Venta</th>\n",
       "      <th>Producto</th>\n",
       "      <th>Categoría</th>\n",
       "      <th>Precio</th>\n",
       "      <th>Cantidad</th>\n",
       "      <th>Fecha</th>\n",
       "      <th>Ciudad</th>\n",
       "      <th>Método_Pago</th>\n",
       "    </tr>\n",
       "  </thead>\n",
       "  <tbody>\n",
       "    <tr>\n",
       "      <th>0</th>\n",
       "      <td>1</td>\n",
       "      <td>Celular</td>\n",
       "      <td>Electrónica</td>\n",
       "      <td>250000</td>\n",
       "      <td>1</td>\n",
       "      <td>2025-06-15</td>\n",
       "      <td>NaN</td>\n",
       "      <td>Efectivo</td>\n",
       "    </tr>\n",
       "    <tr>\n",
       "      <th>1</th>\n",
       "      <td>2</td>\n",
       "      <td>Silla Gamer</td>\n",
       "      <td>Hogar</td>\n",
       "      <td>120000</td>\n",
       "      <td>2</td>\n",
       "      <td>2025-01-26</td>\n",
       "      <td>Valparaíso</td>\n",
       "      <td>Transferencia</td>\n",
       "    </tr>\n",
       "    <tr>\n",
       "      <th>2</th>\n",
       "      <td>3</td>\n",
       "      <td>Celular</td>\n",
       "      <td>Electrónica</td>\n",
       "      <td>250000</td>\n",
       "      <td>5</td>\n",
       "      <td>2025-04-18</td>\n",
       "      <td>Santiago</td>\n",
       "      <td>Transferencia</td>\n",
       "    </tr>\n",
       "    <tr>\n",
       "      <th>3</th>\n",
       "      <td>4</td>\n",
       "      <td>Zapatos</td>\n",
       "      <td>Ropa</td>\n",
       "      <td>35000</td>\n",
       "      <td>1</td>\n",
       "      <td>2025-08-21</td>\n",
       "      <td>Santiago</td>\n",
       "      <td>Tarjeta</td>\n",
       "    </tr>\n",
       "    <tr>\n",
       "      <th>4</th>\n",
       "      <td>5</td>\n",
       "      <td>Silla Gamer</td>\n",
       "      <td>Hogar</td>\n",
       "      <td>120000</td>\n",
       "      <td>2</td>\n",
       "      <td>2025-02-23</td>\n",
       "      <td>Antofagasta</td>\n",
       "      <td>Transferencia</td>\n",
       "    </tr>\n",
       "    <tr>\n",
       "      <th>5</th>\n",
       "      <td>6</td>\n",
       "      <td>Auriculares</td>\n",
       "      <td>Electrónica</td>\n",
       "      <td>15000</td>\n",
       "      <td>5</td>\n",
       "      <td>2024-12-05</td>\n",
       "      <td>Valparaíso</td>\n",
       "      <td>Transferencia</td>\n",
       "    </tr>\n",
       "    <tr>\n",
       "      <th>6</th>\n",
       "      <td>7</td>\n",
       "      <td>Licuadora</td>\n",
       "      <td>Hogar</td>\n",
       "      <td>45000</td>\n",
       "      <td>4</td>\n",
       "      <td>2024-12-13</td>\n",
       "      <td>Valparaíso</td>\n",
       "      <td>Efectivo</td>\n",
       "    </tr>\n",
       "    <tr>\n",
       "      <th>7</th>\n",
       "      <td>8</td>\n",
       "      <td>Televisor</td>\n",
       "      <td>Electrónica</td>\n",
       "      <td>300000</td>\n",
       "      <td>3</td>\n",
       "      <td>2024-09-17</td>\n",
       "      <td>Santiago</td>\n",
       "      <td>Tarjeta</td>\n",
       "    </tr>\n",
       "    <tr>\n",
       "      <th>8</th>\n",
       "      <td>9</td>\n",
       "      <td>Zapatos</td>\n",
       "      <td>Ropa</td>\n",
       "      <td>35000</td>\n",
       "      <td>3</td>\n",
       "      <td>2025-05-09</td>\n",
       "      <td>Concepción</td>\n",
       "      <td>Tarjeta</td>\n",
       "    </tr>\n",
       "    <tr>\n",
       "      <th>9</th>\n",
       "      <td>10</td>\n",
       "      <td>Silla Gamer</td>\n",
       "      <td>Hogar</td>\n",
       "      <td>120000</td>\n",
       "      <td>3</td>\n",
       "      <td>2025-02-24</td>\n",
       "      <td>Santiago</td>\n",
       "      <td>Tarjeta</td>\n",
       "    </tr>\n",
       "  </tbody>\n",
       "</table>\n",
       "</div>"
      ]
     },
     "execution_count": 192,
     "metadata": {},
     "output_type": "execute_result"
    }
   ],
   "execution_count": 192
  },
  {
   "metadata": {},
   "cell_type": "markdown",
   "source": "### 2.- Revisar el tipo de datos de cada columna",
   "id": "c1ed600c874b2710"
  },
  {
   "metadata": {
    "ExecuteTime": {
     "end_time": "2025-09-07T04:11:00.454404Z",
     "start_time": "2025-09-07T04:11:00.434819Z"
    }
   },
   "cell_type": "code",
   "source": [
    "numeric_data = data.select_dtypes(include=[np.number])\n",
    "categorical_data = data.select_dtypes(exclude=[np.number])\n",
    "print('Hay {} columnas numéricas y {} columnas categóricas'.format(numeric_data.shape[1], categorical_data.shape[1]))\n",
    "print(\"Columnas Numericas:\\n\", numeric_data.columns)\n",
    "print(\"\\nColumnas Categoricas:\\n\", categorical_data.columns)"
   ],
   "id": "b78bb782c6cc9ba4",
   "outputs": [
    {
     "name": "stdout",
     "output_type": "stream",
     "text": [
      "Hay 3 columnas numéricas y 5 columnas categóricas\n",
      "Columnas Numericas:\n",
      " Index(['ID_Venta', 'Precio', 'Cantidad'], dtype='object')\n",
      "\n",
      "Columnas Categoricas:\n",
      " Index(['Producto', 'Categoría', 'Fecha', 'Ciudad', 'Método_Pago'], dtype='object')\n"
     ]
    }
   ],
   "execution_count": 193
  },
  {
   "metadata": {
    "ExecuteTime": {
     "end_time": "2025-09-07T04:11:00.610018Z",
     "start_time": "2025-09-07T04:11:00.592030Z"
    }
   },
   "cell_type": "code",
   "source": [
    "data_type = data.info()\n",
    "data_type"
   ],
   "id": "39210bbf976db270",
   "outputs": [
    {
     "name": "stdout",
     "output_type": "stream",
     "text": [
      "<class 'pandas.core.frame.DataFrame'>\n",
      "RangeIndex: 500 entries, 0 to 499\n",
      "Data columns (total 8 columns):\n",
      " #   Column       Non-Null Count  Dtype \n",
      "---  ------       --------------  ----- \n",
      " 0   ID_Venta     500 non-null    int64 \n",
      " 1   Producto     500 non-null    object\n",
      " 2   Categoría    500 non-null    object\n",
      " 3   Precio       500 non-null    int64 \n",
      " 4   Cantidad     500 non-null    int64 \n",
      " 5   Fecha        500 non-null    object\n",
      " 6   Ciudad       408 non-null    object\n",
      " 7   Método_Pago  500 non-null    object\n",
      "dtypes: int64(3), object(5)\n",
      "memory usage: 31.4+ KB\n"
     ]
    }
   ],
   "execution_count": 194
  },
  {
   "metadata": {},
   "cell_type": "markdown",
   "source": "# Limpieza de datos",
   "id": "652101bf80bb4c0f"
  },
  {
   "metadata": {},
   "cell_type": "markdown",
   "source": "### 1.- Identificar valores nulos en las columnas.\n",
   "id": "60156bb8d287c3e5"
  },
  {
   "metadata": {
    "ExecuteTime": {
     "end_time": "2025-09-07T04:11:00.674045Z",
     "start_time": "2025-09-07T04:11:00.659044Z"
    }
   },
   "cell_type": "code",
   "source": [
    "obejct_col = data.select_dtypes(include=['object']).columns\n",
    "for col in obejct_col:\n",
    "    if col == 'Fecha':\n",
    "        continue\n",
    "    uniques = data[col].unique()\n",
    "    print(f\"Columna {col}\\n tiene los siguientes valores únicos: {uniques}\\n\")"
   ],
   "id": "ef5e9f5db4217166",
   "outputs": [
    {
     "name": "stdout",
     "output_type": "stream",
     "text": [
      "Columna Producto\n",
      " tiene los siguientes valores únicos: ['Celular' 'Silla Gamer' 'Zapatos' 'Auriculares' 'Licuadora' 'Televisor'\n",
      " 'Polera' 'Escritorio' 'Camisa' 'Cargador']\n",
      "\n",
      "Columna Categoría\n",
      " tiene los siguientes valores únicos: ['Electrónica' 'Hogar' 'Ropa']\n",
      "\n",
      "Columna Ciudad\n",
      " tiene los siguientes valores únicos: [nan 'Valparaíso' 'Santiago' 'Antofagasta' 'Concepción' 'La Serena']\n",
      "\n",
      "Columna Método_Pago\n",
      " tiene los siguientes valores únicos: ['Efectivo' 'Transferencia' 'Tarjeta']\n",
      "\n"
     ]
    }
   ],
   "execution_count": 195
  },
  {
   "metadata": {
    "ExecuteTime": {
     "end_time": "2025-09-07T04:11:00.705597Z",
     "start_time": "2025-09-07T04:11:00.686562Z"
    }
   },
   "cell_type": "code",
   "source": [
    "columns_isnull = data.columns[data.isnull().any()]\n",
    "columns_isnull"
   ],
   "id": "e670fb6e4a36b6d9",
   "outputs": [
    {
     "data": {
      "text/plain": [
       "Index(['Ciudad'], dtype='object')"
      ]
     },
     "execution_count": 196,
     "metadata": {},
     "output_type": "execute_result"
    }
   ],
   "execution_count": 196
  },
  {
   "metadata": {
    "ExecuteTime": {
     "end_time": "2025-09-07T04:11:00.736861Z",
     "start_time": "2025-09-07T04:11:00.723597Z"
    }
   },
   "cell_type": "code",
   "source": [
    "na = pd.isna(data)\n",
    "na.sum()"
   ],
   "id": "3125c8a8f770b830",
   "outputs": [
    {
     "data": {
      "text/plain": [
       "ID_Venta        0\n",
       "Producto        0\n",
       "Categoría       0\n",
       "Precio          0\n",
       "Cantidad        0\n",
       "Fecha           0\n",
       "Ciudad         92\n",
       "Método_Pago     0\n",
       "dtype: int64"
      ]
     },
     "execution_count": 197,
     "metadata": {},
     "output_type": "execute_result"
    }
   ],
   "execution_count": 197
  },
  {
   "metadata": {
    "ExecuteTime": {
     "end_time": "2025-09-07T04:11:00.799120Z",
     "start_time": "2025-09-07T04:11:00.789968Z"
    }
   },
   "cell_type": "code",
   "source": [
    "for columns_isnull in data:\n",
    "    if data[columns_isnull].isnull().sum() > 0:\n",
    "        print(f'Columna {columns_isnull} tiene {data[columns_isnull].isnull().sum()} valores nulos')\n",
    "missing_values = data[columns_isnull].isnull().sum()"
   ],
   "id": "640b5831d6d0a421",
   "outputs": [
    {
     "name": "stdout",
     "output_type": "stream",
     "text": [
      "Columna Ciudad tiene 92 valores nulos\n"
     ]
    }
   ],
   "execution_count": 198
  },
  {
   "metadata": {
    "ExecuteTime": {
     "end_time": "2025-09-07T04:11:00.905722Z",
     "start_time": "2025-09-07T04:11:00.898207Z"
    }
   },
   "cell_type": "code",
   "source": [
    "missing = data.isnull().sum()/len(data)\n",
    "missing = missing[missing > 0]\n",
    "missing.sort_values(inplace=True)\n",
    "missing"
   ],
   "id": "3a5e1de697f269e3",
   "outputs": [
    {
     "data": {
      "text/plain": [
       "Ciudad    0.184\n",
       "dtype: float64"
      ]
     },
     "execution_count": 199,
     "metadata": {},
     "output_type": "execute_result"
    }
   ],
   "execution_count": 199
  },
  {
   "metadata": {
    "ExecuteTime": {
     "end_time": "2025-09-07T04:11:01.076654Z",
     "start_time": "2025-09-07T04:11:00.979986Z"
    }
   },
   "cell_type": "code",
   "source": [
    "missing_barplot = missing.to_frame()\n",
    "missing_barplot.columns = ['count']\n",
    "missing_barplot['Caracteristica'] = missing.index\n",
    "sns.set(style=\"whitegrid\", color_codes=True)\n",
    "sns.barplot(x=\"Caracteristica\", y=\"count\", data=missing_barplot)\n",
    "plt.show()"
   ],
   "id": "b494c4efe5e8b7c4",
   "outputs": [
    {
     "data": {
      "text/plain": [
       "<Figure size 640x480 with 1 Axes>"
      ],
      "image/png": "[encoded data removed]"
     },
     "metadata": {},
     "output_type": "display_data"
    }
   ],
   "execution_count": 200
  },
  {
   "metadata": {},
   "cell_type": "markdown",
   "source": "### 2.- Reemplazar valores nulos de Ciudad por \"Desconocida\".\n",
   "id": "df9688ab40e398f7"
  },
  {
   "metadata": {
    "ExecuteTime": {
     "end_time": "2025-09-07T04:11:01.137827Z",
     "start_time": "2025-09-07T04:11:01.125312Z"
    }
   },
   "cell_type": "code",
   "source": "data.fillna('Desconocida', inplace=True)",
   "id": "fb9ecec1cdcdb47b",
   "outputs": [],
   "execution_count": 201
  },
  {
   "metadata": {
    "ExecuteTime": {
     "end_time": "2025-09-07T04:11:01.169350Z",
     "start_time": "2025-09-07T04:11:01.150342Z"
    }
   },
   "cell_type": "code",
   "source": [
    "na = pd.isna(data)\n",
    "na.sum()"
   ],
   "id": "50c28467162bf9bc",
   "outputs": [
    {
     "data": {
      "text/plain": [
       "ID_Venta       0\n",
       "Producto       0\n",
       "Categoría      0\n",
       "Precio         0\n",
       "Cantidad       0\n",
       "Fecha          0\n",
       "Ciudad         0\n",
       "Método_Pago    0\n",
       "dtype: int64"
      ]
     },
     "execution_count": 202,
     "metadata": {},
     "output_type": "execute_result"
    }
   ],
   "execution_count": 202
  },
  {
   "metadata": {
    "ExecuteTime": {
     "end_time": "2025-09-07T04:11:01.232871Z",
     "start_time": "2025-09-07T04:11:01.223564Z"
    }
   },
   "cell_type": "code",
   "source": "data['Ciudad'].unique()",
   "id": "82fb7321bcd9d860",
   "outputs": [
    {
     "data": {
      "text/plain": [
       "array(['Desconocida', 'Valparaíso', 'Santiago', 'Antofagasta',\n",
       "       'Concepción', 'La Serena'], dtype=object)"
      ]
     },
     "execution_count": 203,
     "metadata": {},
     "output_type": "execute_result"
    }
   ],
   "execution_count": 203
  },
  {
   "metadata": {},
   "cell_type": "markdown",
   "source": "### 3.- Corregir posibles errores en Método_Pago (ej: \"tarjeta\" → \"Tarjeta\").",
   "id": "a5e6b15f0895158c"
  },
  {
   "metadata": {
    "ExecuteTime": {
     "end_time": "2025-09-07T04:11:01.342133Z",
     "start_time": "2025-09-07T04:11:01.333613Z"
    }
   },
   "cell_type": "code",
   "source": "data['Método_Pago'].unique()",
   "id": "184db44197e052bb",
   "outputs": [
    {
     "data": {
      "text/plain": [
       "array(['Efectivo', 'Transferencia', 'Tarjeta'], dtype=object)"
      ]
     },
     "execution_count": 204,
     "metadata": {},
     "output_type": "execute_result"
    }
   ],
   "execution_count": 204
  },
  {
   "metadata": {
    "ExecuteTime": {
     "end_time": "2025-09-07T04:11:01.387653Z",
     "start_time": "2025-09-07T04:11:01.378652Z"
    }
   },
   "cell_type": "code",
   "source": [
    "for col in ['Método_Pago']:\n",
    "    data[col] = data[col].str.capitalize()"
   ],
   "id": "8b0d7953815cb604",
   "outputs": [],
   "execution_count": 205
  },
  {
   "metadata": {
    "ExecuteTime": {
     "end_time": "2025-09-07T04:11:01.403270Z",
     "start_time": "2025-09-07T04:11:01.395755Z"
    }
   },
   "cell_type": "code",
   "source": "data['Método_Pago'].unique()",
   "id": "5312a2f5dd44705e",
   "outputs": [
    {
     "data": {
      "text/plain": [
       "array(['Efectivo', 'Transferencia', 'Tarjeta'], dtype=object)"
      ]
     },
     "execution_count": 206,
     "metadata": {},
     "output_type": "execute_result"
    }
   ],
   "execution_count": 206
  },
  {
   "metadata": {},
   "cell_type": "markdown",
   "source": "# Transformaciones\n",
   "id": "de18535a0565fa29"
  },
  {
   "metadata": {},
   "cell_type": "markdown",
   "source": "### 1.- Crear una nueva columna Total_Venta = Precio * Cantidad.\n",
   "id": "e91cb23a6a77003"
  },
  {
   "metadata": {
    "ExecuteTime": {
     "end_time": "2025-09-07T04:11:01.433793Z",
     "start_time": "2025-09-07T04:11:01.418275Z"
    }
   },
   "cell_type": "code",
   "source": [
    "data.insert(5, 'Total_Venta', data['Precio'] * data['Cantidad'])\n",
    "data.head(3)"
   ],
   "id": "c892c3f45457d27b",
   "outputs": [
    {
     "data": {
      "text/plain": [
       "   ID_Venta     Producto    Categoría  Precio  Cantidad  Total_Venta  \\\n",
       "0         1      Celular  Electrónica  250000         1       250000   \n",
       "1         2  Silla Gamer        Hogar  120000         2       240000   \n",
       "2         3      Celular  Electrónica  250000         5      1250000   \n",
       "\n",
       "        Fecha       Ciudad    Método_Pago  \n",
       "0  2025-06-15  Desconocida       Efectivo  \n",
       "1  2025-01-26   Valparaíso  Transferencia  \n",
       "2  2025-04-18     Santiago  Transferencia  "
      ],
      "text/html": [
       "<div>\n",
       "<style scoped>\n",
       "    .dataframe tbody tr th:only-of-type {\n",
       "        vertical-align: middle;\n",
       "    }\n",
       "\n",
       "    .dataframe tbody tr th {\n",
       "        vertical-align: top;\n",
       "    }\n",
       "\n",
       "    .dataframe thead th {\n",
       "        text-align: right;\n",
       "    }\n",
       "</style>\n",
       "<table border=\"1\" class=\"dataframe\">\n",
       "  <thead>\n",
       "    <tr style=\"text-align: right;\">\n",
       "      <th></th>\n",
       "      <th>ID_Venta</th>\n",
       "      <th>Producto</th>\n",
       "      <th>Categoría</th>\n",
       "      <th>Precio</th>\n",
       "      <th>Cantidad</th>\n",
       "      <th>Total_Venta</th>\n",
       "      <th>Fecha</th>\n",
       "      <th>Ciudad</th>\n",
       "      <th>Método_Pago</th>\n",
       "    </tr>\n",
       "  </thead>\n",
       "  <tbody>\n",
       "    <tr>\n",
       "      <th>0</th>\n",
       "      <td>1</td>\n",
       "      <td>Celular</td>\n",
       "      <td>Electrónica</td>\n",
       "      <td>250000</td>\n",
       "      <td>1</td>\n",
       "      <td>250000</td>\n",
       "      <td>2025-06-15</td>\n",
       "      <td>Desconocida</td>\n",
       "      <td>Efectivo</td>\n",
       "    </tr>\n",
       "    <tr>\n",
       "      <th>1</th>\n",
       "      <td>2</td>\n",
       "      <td>Silla Gamer</td>\n",
       "      <td>Hogar</td>\n",
       "      <td>120000</td>\n",
       "      <td>2</td>\n",
       "      <td>240000</td>\n",
       "      <td>2025-01-26</td>\n",
       "      <td>Valparaíso</td>\n",
       "      <td>Transferencia</td>\n",
       "    </tr>\n",
       "    <tr>\n",
       "      <th>2</th>\n",
       "      <td>3</td>\n",
       "      <td>Celular</td>\n",
       "      <td>Electrónica</td>\n",
       "      <td>250000</td>\n",
       "      <td>5</td>\n",
       "      <td>1250000</td>\n",
       "      <td>2025-04-18</td>\n",
       "      <td>Santiago</td>\n",
       "      <td>Transferencia</td>\n",
       "    </tr>\n",
       "  </tbody>\n",
       "</table>\n",
       "</div>"
      ]
     },
     "execution_count": 207,
     "metadata": {},
     "output_type": "execute_result"
    }
   ],
   "execution_count": 207
  },
  {
   "metadata": {},
   "cell_type": "markdown",
   "source": "### 2.- Convertir la columna Fecha al tipo datetime.",
   "id": "dd2dd96143573249"
  },
  {
   "metadata": {
    "ExecuteTime": {
     "end_time": "2025-09-07T04:11:01.512700Z",
     "start_time": "2025-09-07T04:11:01.486815Z"
    }
   },
   "cell_type": "code",
   "source": [
    "data['Fecha'] = pd.to_datetime(data['Fecha'], format='%Y-%m-%d')\n",
    "data.info()"
   ],
   "id": "1af7d4aa68a0f242",
   "outputs": [
    {
     "name": "stdout",
     "output_type": "stream",
     "text": [
      "<class 'pandas.core.frame.DataFrame'>\n",
      "RangeIndex: 500 entries, 0 to 499\n",
      "Data columns (total 9 columns):\n",
      " #   Column       Non-Null Count  Dtype         \n",
      "---  ------       --------------  -----         \n",
      " 0   ID_Venta     500 non-null    int64         \n",
      " 1   Producto     500 non-null    object        \n",
      " 2   Categoría    500 non-null    object        \n",
      " 3   Precio       500 non-null    int64         \n",
      " 4   Cantidad     500 non-null    int64         \n",
      " 5   Total_Venta  500 non-null    int64         \n",
      " 6   Fecha        500 non-null    datetime64[ns]\n",
      " 7   Ciudad       500 non-null    object        \n",
      " 8   Método_Pago  500 non-null    object        \n",
      "dtypes: datetime64[ns](1), int64(4), object(4)\n",
      "memory usage: 35.3+ KB\n"
     ]
    }
   ],
   "execution_count": 208
  },
  {
   "metadata": {
    "ExecuteTime": {
     "end_time": "2025-09-07T04:11:01.668882Z",
     "start_time": "2025-09-07T04:11:01.657875Z"
    }
   },
   "cell_type": "code",
   "source": "data['Fecha'].head(3)",
   "id": "636f3097f70b64c9",
   "outputs": [
    {
     "data": {
      "text/plain": [
       "0   2025-06-15\n",
       "1   2025-01-26\n",
       "2   2025-04-18\n",
       "Name: Fecha, dtype: datetime64[ns]"
      ]
     },
     "execution_count": 209,
     "metadata": {},
     "output_type": "execute_result"
    }
   ],
   "execution_count": 209
  },
  {
   "metadata": {},
   "cell_type": "markdown",
   "source": "### 3.- Extraer Mes y Año desde la columna Fecha.",
   "id": "2481eadf5b2ba7a2"
  },
  {
   "metadata": {
    "ExecuteTime": {
     "end_time": "2025-09-07T04:11:01.856875Z",
     "start_time": "2025-09-07T04:11:01.834356Z"
    }
   },
   "cell_type": "code",
   "source": [
    "# mover Fecha columna de ubicación\n",
    "data.insert(0, 'Fecha', data.pop('Fecha'))\n",
    "data.insert(1, 'Año', data['Fecha'].dt.year)\n",
    "data.insert(2, 'Mes', data['Fecha'].dt.month)\n",
    "data.head(3)"
   ],
   "id": "65091b220c97479e",
   "outputs": [
    {
     "data": {
      "text/plain": [
       "       Fecha   Año  Mes  ID_Venta     Producto    Categoría  Precio  Cantidad  \\\n",
       "0 2025-06-15  2025    6         1      Celular  Electrónica  250000         1   \n",
       "1 2025-01-26  2025    1         2  Silla Gamer        Hogar  120000         2   \n",
       "2 2025-04-18  2025    4         3      Celular  Electrónica  250000         5   \n",
       "\n",
       "   Total_Venta       Ciudad    Método_Pago  \n",
       "0       250000  Desconocida       Efectivo  \n",
       "1       240000   Valparaíso  Transferencia  \n",
       "2      1250000     Santiago  Transferencia  "
      ],
      "text/html": [
       "<div>\n",
       "<style scoped>\n",
       "    .dataframe tbody tr th:only-of-type {\n",
       "        vertical-align: middle;\n",
       "    }\n",
       "\n",
       "    .dataframe tbody tr th {\n",
       "        vertical-align: top;\n",
       "    }\n",
       "\n",
       "    .dataframe thead th {\n",
       "        text-align: right;\n",
       "    }\n",
       "</style>\n",
       "<table border=\"1\" class=\"dataframe\">\n",
       "  <thead>\n",
       "    <tr style=\"text-align: right;\">\n",
       "      <th></th>\n",
       "      <th>Fecha</th>\n",
       "      <th>Año</th>\n",
       "      <th>Mes</th>\n",
       "      <th>ID_Venta</th>\n",
       "      <th>Producto</th>\n",
       "      <th>Categoría</th>\n",
       "      <th>Precio</th>\n",
       "      <th>Cantidad</th>\n",
       "      <th>Total_Venta</th>\n",
       "      <th>Ciudad</th>\n",
       "      <th>Método_Pago</th>\n",
       "    </tr>\n",
       "  </thead>\n",
       "  <tbody>\n",
       "    <tr>\n",
       "      <th>0</th>\n",
       "      <td>2025-06-15</td>\n",
       "      <td>2025</td>\n",
       "      <td>6</td>\n",
       "      <td>1</td>\n",
       "      <td>Celular</td>\n",
       "      <td>Electrónica</td>\n",
       "      <td>250000</td>\n",
       "      <td>1</td>\n",
       "      <td>250000</td>\n",
       "      <td>Desconocida</td>\n",
       "      <td>Efectivo</td>\n",
       "    </tr>\n",
       "    <tr>\n",
       "      <th>1</th>\n",
       "      <td>2025-01-26</td>\n",
       "      <td>2025</td>\n",
       "      <td>1</td>\n",
       "      <td>2</td>\n",
       "      <td>Silla Gamer</td>\n",
       "      <td>Hogar</td>\n",
       "      <td>120000</td>\n",
       "      <td>2</td>\n",
       "      <td>240000</td>\n",
       "      <td>Valparaíso</td>\n",
       "      <td>Transferencia</td>\n",
       "    </tr>\n",
       "    <tr>\n",
       "      <th>2</th>\n",
       "      <td>2025-04-18</td>\n",
       "      <td>2025</td>\n",
       "      <td>4</td>\n",
       "      <td>3</td>\n",
       "      <td>Celular</td>\n",
       "      <td>Electrónica</td>\n",
       "      <td>250000</td>\n",
       "      <td>5</td>\n",
       "      <td>1250000</td>\n",
       "      <td>Santiago</td>\n",
       "      <td>Transferencia</td>\n",
       "    </tr>\n",
       "  </tbody>\n",
       "</table>\n",
       "</div>"
      ]
     },
     "execution_count": 210,
     "metadata": {},
     "output_type": "execute_result"
    }
   ],
   "execution_count": 210
  },
  {
   "metadata": {},
   "cell_type": "markdown",
   "source": "# Codificación de datos",
   "id": "98a42bf12334f279"
  },
  {
   "metadata": {},
   "cell_type": "markdown",
   "source": "####  1.- Aplicar Label Encoding a la columna Categoría.\n",
   "id": "307a2262093c8a6"
  },
  {
   "metadata": {
    "ExecuteTime": {
     "end_time": "2025-09-07T04:11:02.104593Z",
     "start_time": "2025-09-07T04:11:02.086181Z"
    }
   },
   "cell_type": "code",
   "source": [
    "# Aplicar Label Encoding a la columna Categoría.\n",
    "from sklearn.preprocessing import LabelEncoder\n",
    "le = LabelEncoder()\n",
    "data.insert(5, 'Producto_le', le.fit_transform(data['Producto']))\n",
    "data.insert(7, 'Categoría_le', le.fit_transform(data['Categoría']))\n",
    "data.insert(12, 'Ciudad_le', le.fit_transform(data['Ciudad']))\n",
    "data.insert(14, 'Método_Pago_le', le.fit_transform(data['Método_Pago']))\n",
    "data.head(3)"
   ],
   "id": "4efbd864ceed42f7",
   "outputs": [
    {
     "data": {
      "text/plain": [
       "       Fecha   Año  Mes  ID_Venta     Producto  Producto_le    Categoría  \\\n",
       "0 2025-06-15  2025    6         1      Celular            3  Electrónica   \n",
       "1 2025-01-26  2025    1         2  Silla Gamer            7        Hogar   \n",
       "2 2025-04-18  2025    4         3      Celular            3  Electrónica   \n",
       "\n",
       "   Categoría_le  Precio  Cantidad  Total_Venta       Ciudad  Ciudad_le  \\\n",
       "0             0  250000         1       250000  Desconocida          2   \n",
       "1             1  120000         2       240000   Valparaíso          5   \n",
       "2             0  250000         5      1250000     Santiago          4   \n",
       "\n",
       "     Método_Pago  Método_Pago_le  \n",
       "0       Efectivo               0  \n",
       "1  Transferencia               2  \n",
       "2  Transferencia               2  "
      ],
      "text/html": [
       "<div>\n",
       "<style scoped>\n",
       "    .dataframe tbody tr th:only-of-type {\n",
       "        vertical-align: middle;\n",
       "    }\n",
       "\n",
       "    .dataframe tbody tr th {\n",
       "        vertical-align: top;\n",
       "    }\n",
       "\n",
       "    .dataframe thead th {\n",
       "        text-align: right;\n",
       "    }\n",
       "</style>\n",
       "<table border=\"1\" class=\"dataframe\">\n",
       "  <thead>\n",
       "    <tr style=\"text-align: right;\">\n",
       "      <th></th>\n",
       "      <th>Fecha</th>\n",
       "      <th>Año</th>\n",
       "      <th>Mes</th>\n",
       "      <th>ID_Venta</th>\n",
       "      <th>Producto</th>\n",
       "      <th>Producto_le</th>\n",
       "      <th>Categoría</th>\n",
       "      <th>Categoría_le</th>\n",
       "      <th>Precio</th>\n",
       "      <th>Cantidad</th>\n",
       "      <th>Total_Venta</th>\n",
       "      <th>Ciudad</th>\n",
       "      <th>Ciudad_le</th>\n",
       "      <th>Método_Pago</th>\n",
       "      <th>Método_Pago_le</th>\n",
       "    </tr>\n",
       "  </thead>\n",
       "  <tbody>\n",
       "    <tr>\n",
       "      <th>0</th>\n",
       "      <td>2025-06-15</td>\n",
       "      <td>2025</td>\n",
       "      <td>6</td>\n",
       "      <td>1</td>\n",
       "      <td>Celular</td>\n",
       "      <td>3</td>\n",
       "      <td>Electrónica</td>\n",
       "      <td>0</td>\n",
       "      <td>250000</td>\n",
       "      <td>1</td>\n",
       "      <td>250000</td>\n",
       "      <td>Desconocida</td>\n",
       "      <td>2</td>\n",
       "      <td>Efectivo</td>\n",
       "      <td>0</td>\n",
       "    </tr>\n",
       "    <tr>\n",
       "      <th>1</th>\n",
       "      <td>2025-01-26</td>\n",
       "      <td>2025</td>\n",
       "      <td>1</td>\n",
       "      <td>2</td>\n",
       "      <td>Silla Gamer</td>\n",
       "      <td>7</td>\n",
       "      <td>Hogar</td>\n",
       "      <td>1</td>\n",
       "      <td>120000</td>\n",
       "      <td>2</td>\n",
       "      <td>240000</td>\n",
       "      <td>Valparaíso</td>\n",
       "      <td>5</td>\n",
       "      <td>Transferencia</td>\n",
       "      <td>2</td>\n",
       "    </tr>\n",
       "    <tr>\n",
       "      <th>2</th>\n",
       "      <td>2025-04-18</td>\n",
       "      <td>2025</td>\n",
       "      <td>4</td>\n",
       "      <td>3</td>\n",
       "      <td>Celular</td>\n",
       "      <td>3</td>\n",
       "      <td>Electrónica</td>\n",
       "      <td>0</td>\n",
       "      <td>250000</td>\n",
       "      <td>5</td>\n",
       "      <td>1250000</td>\n",
       "      <td>Santiago</td>\n",
       "      <td>4</td>\n",
       "      <td>Transferencia</td>\n",
       "      <td>2</td>\n",
       "    </tr>\n",
       "  </tbody>\n",
       "</table>\n",
       "</div>"
      ]
     },
     "execution_count": 211,
     "metadata": {},
     "output_type": "execute_result"
    }
   ],
   "execution_count": 211
  },
  {
   "metadata": {},
   "cell_type": "markdown",
   "source": "### 2.- Aplicar One-Hot Encoding a la columna Método_Pago.",
   "id": "64e5e1f5eb8ce683"
  },
  {
   "metadata": {
    "ExecuteTime": {
     "end_time": "2025-09-07T04:11:02.215703Z",
     "start_time": "2025-09-07T04:11:02.191182Z"
    }
   },
   "cell_type": "code",
   "source": [
    "# Aplicar One-Hot Encoding a la columna Método_Pago\n",
    "from sklearn.preprocessing import OneHotEncoder\n",
    "# Crear instancias de OneHotEncoder para cada columna categórica\n",
    "prod_ohe = OneHotEncoder(sparse_output=False, handle_unknown='ignore')\n",
    "cat_ohe = OneHotEncoder(sparse_output=False, handle_unknown='ignore')\n",
    "ciu_ohe = OneHotEncoder(sparse_output=False, handle_unknown='ignore')\n",
    "met_ohe = OneHotEncoder(sparse_output=False, handle_unknown='ignore')\n",
    "# Ajustar y transformar los datos\n",
    "producto_ohe = prod_ohe.fit_transform(data[['Producto']])\n",
    "categoria_ohe = cat_ohe.fit_transform(data[['Categoría']])\n",
    "ciudad_ohe = ciu_ohe.fit_transform(data[['Ciudad']])\n",
    "metodo_ohe = met_ohe.fit_transform(data[['Método_Pago']])\n",
    "# Combinar los arrays One-Hot Encoding en un solo DataFrame\n",
    "ohe_arr = np.hstack((producto_ohe, categoria_ohe, ciudad_ohe, metodo_ohe))\n",
    "ohe_cols = (list(prod_ohe.get_feature_names_out(['Producto'])) +\n",
    "            list(cat_ohe.get_feature_names_out(['Categoría'])) +\n",
    "            list(ciu_ohe.get_feature_names_out(['Ciudad'])) +\n",
    "            list(met_ohe.get_feature_names_out(['Método_Pago'])))\n",
    "# Crear DataFrame con las columnas One-Hot Encoding\n",
    "data_ohe = pd.DataFrame(ohe_arr, columns=ohe_cols)\n",
    "data_enc = pd.concat([data, data_ohe], axis=1)\n",
    "# Eliminar columnas originales\n",
    "data_enc.drop(columns=['Producto', 'Categoría', 'Ciudad', 'Método_Pago'], inplace=True)\n",
    "data_enc.head(3)"
   ],
   "id": "1cd54c67cc0aff1f",
   "outputs": [
    {
     "data": {
      "text/plain": [
       "       Fecha   Año  Mes  ID_Venta  Producto_le  Categoría_le  Precio  \\\n",
       "0 2025-06-15  2025    6         1            3             0  250000   \n",
       "1 2025-01-26  2025    1         2            7             1  120000   \n",
       "2 2025-04-18  2025    4         3            3             0  250000   \n",
       "\n",
       "   Cantidad  Total_Venta  Ciudad_le  ...  Categoría_Ropa  Ciudad_Antofagasta  \\\n",
       "0         1       250000          2  ...             0.0                 0.0   \n",
       "1         2       240000          5  ...             0.0                 0.0   \n",
       "2         5      1250000          4  ...             0.0                 0.0   \n",
       "\n",
       "   Ciudad_Concepción  Ciudad_Desconocida  Ciudad_La Serena  Ciudad_Santiago  \\\n",
       "0                0.0                 1.0               0.0              0.0   \n",
       "1                0.0                 0.0               0.0              0.0   \n",
       "2                0.0                 0.0               0.0              1.0   \n",
       "\n",
       "   Ciudad_Valparaíso  Método_Pago_Efectivo  Método_Pago_Tarjeta  \\\n",
       "0                0.0                   1.0                  0.0   \n",
       "1                1.0                   0.0                  0.0   \n",
       "2                0.0                   0.0                  0.0   \n",
       "\n",
       "   Método_Pago_Transferencia  \n",
       "0                        0.0  \n",
       "1                        1.0  \n",
       "2                        1.0  \n",
       "\n",
       "[3 rows x 33 columns]"
      ],
      "text/html": [
       "<div>\n",
       "<style scoped>\n",
       "    .dataframe tbody tr th:only-of-type {\n",
       "        vertical-align: middle;\n",
       "    }\n",
       "\n",
       "    .dataframe tbody tr th {\n",
       "        vertical-align: top;\n",
       "    }\n",
       "\n",
       "    .dataframe thead th {\n",
       "        text-align: right;\n",
       "    }\n",
       "</style>\n",
       "<table border=\"1\" class=\"dataframe\">\n",
       "  <thead>\n",
       "    <tr style=\"text-align: right;\">\n",
       "      <th></th>\n",
       "      <th>Fecha</th>\n",
       "      <th>Año</th>\n",
       "      <th>Mes</th>\n",
       "      <th>ID_Venta</th>\n",
       "      <th>Producto_le</th>\n",
       "      <th>Categoría_le</th>\n",
       "      <th>Precio</th>\n",
       "      <th>Cantidad</th>\n",
       "      <th>Total_Venta</th>\n",
       "      <th>Ciudad_le</th>\n",
       "      <th>...</th>\n",
       "      <th>Categoría_Ropa</th>\n",
       "      <th>Ciudad_Antofagasta</th>\n",
       "      <th>Ciudad_Concepción</th>\n",
       "      <th>Ciudad_Desconocida</th>\n",
       "      <th>Ciudad_La Serena</th>\n",
       "      <th>Ciudad_Santiago</th>\n",
       "      <th>Ciudad_Valparaíso</th>\n",
       "      <th>Método_Pago_Efectivo</th>\n",
       "      <th>Método_Pago_Tarjeta</th>\n",
       "      <th>Método_Pago_Transferencia</th>\n",
       "    </tr>\n",
       "  </thead>\n",
       "  <tbody>\n",
       "    <tr>\n",
       "      <th>0</th>\n",
       "      <td>2025-06-15</td>\n",
       "      <td>2025</td>\n",
       "      <td>6</td>\n",
       "      <td>1</td>\n",
       "      <td>3</td>\n",
       "      <td>0</td>\n",
       "      <td>250000</td>\n",
       "      <td>1</td>\n",
       "      <td>250000</td>\n",
       "      <td>2</td>\n",
       "      <td>...</td>\n",
       "      <td>0.0</td>\n",
       "      <td>0.0</td>\n",
       "      <td>0.0</td>\n",
       "      <td>1.0</td>\n",
       "      <td>0.0</td>\n",
       "      <td>0.0</td>\n",
       "      <td>0.0</td>\n",
       "      <td>1.0</td>\n",
       "      <td>0.0</td>\n",
       "      <td>0.0</td>\n",
       "    </tr>\n",
       "    <tr>\n",
       "      <th>1</th>\n",
       "      <td>2025-01-26</td>\n",
       "      <td>2025</td>\n",
       "      <td>1</td>\n",
       "      <td>2</td>\n",
       "      <td>7</td>\n",
       "      <td>1</td>\n",
       "      <td>120000</td>\n",
       "      <td>2</td>\n",
       "      <td>240000</td>\n",
       "      <td>5</td>\n",
       "      <td>...</td>\n",
       "      <td>0.0</td>\n",
       "      <td>0.0</td>\n",
       "      <td>0.0</td>\n",
       "      <td>0.0</td>\n",
       "      <td>0.0</td>\n",
       "      <td>0.0</td>\n",
       "      <td>1.0</td>\n",
       "      <td>0.0</td>\n",
       "      <td>0.0</td>\n",
       "      <td>1.0</td>\n",
       "    </tr>\n",
       "    <tr>\n",
       "      <th>2</th>\n",
       "      <td>2025-04-18</td>\n",
       "      <td>2025</td>\n",
       "      <td>4</td>\n",
       "      <td>3</td>\n",
       "      <td>3</td>\n",
       "      <td>0</td>\n",
       "      <td>250000</td>\n",
       "      <td>5</td>\n",
       "      <td>1250000</td>\n",
       "      <td>4</td>\n",
       "      <td>...</td>\n",
       "      <td>0.0</td>\n",
       "      <td>0.0</td>\n",
       "      <td>0.0</td>\n",
       "      <td>0.0</td>\n",
       "      <td>0.0</td>\n",
       "      <td>1.0</td>\n",
       "      <td>0.0</td>\n",
       "      <td>0.0</td>\n",
       "      <td>0.0</td>\n",
       "      <td>1.0</td>\n",
       "    </tr>\n",
       "  </tbody>\n",
       "</table>\n",
       "<p>3 rows × 33 columns</p>\n",
       "</div>"
      ]
     },
     "execution_count": 212,
     "metadata": {},
     "output_type": "execute_result"
    }
   ],
   "execution_count": 212
  },
  {
   "metadata": {
    "ExecuteTime": {
     "end_time": "2025-09-07T04:11:02.479460Z",
     "start_time": "2025-09-07T04:11:02.454946Z"
    }
   },
   "cell_type": "code",
   "source": "data.head(3)",
   "id": "82f2ee8e547f5063",
   "outputs": [
    {
     "data": {
      "text/plain": [
       "       Fecha   Año  Mes  ID_Venta     Producto  Producto_le    Categoría  \\\n",
       "0 2025-06-15  2025    6         1      Celular            3  Electrónica   \n",
       "1 2025-01-26  2025    1         2  Silla Gamer            7        Hogar   \n",
       "2 2025-04-18  2025    4         3      Celular            3  Electrónica   \n",
       "\n",
       "   Categoría_le  Precio  Cantidad  Total_Venta       Ciudad  Ciudad_le  \\\n",
       "0             0  250000         1       250000  Desconocida          2   \n",
       "1             1  120000         2       240000   Valparaíso          5   \n",
       "2             0  250000         5      1250000     Santiago          4   \n",
       "\n",
       "     Método_Pago  Método_Pago_le  \n",
       "0       Efectivo               0  \n",
       "1  Transferencia               2  \n",
       "2  Transferencia               2  "
      ],
      "text/html": [
       "<div>\n",
       "<style scoped>\n",
       "    .dataframe tbody tr th:only-of-type {\n",
       "        vertical-align: middle;\n",
       "    }\n",
       "\n",
       "    .dataframe tbody tr th {\n",
       "        vertical-align: top;\n",
       "    }\n",
       "\n",
       "    .dataframe thead th {\n",
       "        text-align: right;\n",
       "    }\n",
       "</style>\n",
       "<table border=\"1\" class=\"dataframe\">\n",
       "  <thead>\n",
       "    <tr style=\"text-align: right;\">\n",
       "      <th></th>\n",
       "      <th>Fecha</th>\n",
       "      <th>Año</th>\n",
       "      <th>Mes</th>\n",
       "      <th>ID_Venta</th>\n",
       "      <th>Producto</th>\n",
       "      <th>Producto_le</th>\n",
       "      <th>Categoría</th>\n",
       "      <th>Categoría_le</th>\n",
       "      <th>Precio</th>\n",
       "      <th>Cantidad</th>\n",
       "      <th>Total_Venta</th>\n",
       "      <th>Ciudad</th>\n",
       "      <th>Ciudad_le</th>\n",
       "      <th>Método_Pago</th>\n",
       "      <th>Método_Pago_le</th>\n",
       "    </tr>\n",
       "  </thead>\n",
       "  <tbody>\n",
       "    <tr>\n",
       "      <th>0</th>\n",
       "      <td>2025-06-15</td>\n",
       "      <td>2025</td>\n",
       "      <td>6</td>\n",
       "      <td>1</td>\n",
       "      <td>Celular</td>\n",
       "      <td>3</td>\n",
       "      <td>Electrónica</td>\n",
       "      <td>0</td>\n",
       "      <td>250000</td>\n",
       "      <td>1</td>\n",
       "      <td>250000</td>\n",
       "      <td>Desconocida</td>\n",
       "      <td>2</td>\n",
       "      <td>Efectivo</td>\n",
       "      <td>0</td>\n",
       "    </tr>\n",
       "    <tr>\n",
       "      <th>1</th>\n",
       "      <td>2025-01-26</td>\n",
       "      <td>2025</td>\n",
       "      <td>1</td>\n",
       "      <td>2</td>\n",
       "      <td>Silla Gamer</td>\n",
       "      <td>7</td>\n",
       "      <td>Hogar</td>\n",
       "      <td>1</td>\n",
       "      <td>120000</td>\n",
       "      <td>2</td>\n",
       "      <td>240000</td>\n",
       "      <td>Valparaíso</td>\n",
       "      <td>5</td>\n",
       "      <td>Transferencia</td>\n",
       "      <td>2</td>\n",
       "    </tr>\n",
       "    <tr>\n",
       "      <th>2</th>\n",
       "      <td>2025-04-18</td>\n",
       "      <td>2025</td>\n",
       "      <td>4</td>\n",
       "      <td>3</td>\n",
       "      <td>Celular</td>\n",
       "      <td>3</td>\n",
       "      <td>Electrónica</td>\n",
       "      <td>0</td>\n",
       "      <td>250000</td>\n",
       "      <td>5</td>\n",
       "      <td>1250000</td>\n",
       "      <td>Santiago</td>\n",
       "      <td>4</td>\n",
       "      <td>Transferencia</td>\n",
       "      <td>2</td>\n",
       "    </tr>\n",
       "  </tbody>\n",
       "</table>\n",
       "</div>"
      ]
     },
     "execution_count": 213,
     "metadata": {},
     "output_type": "execute_result"
    }
   ],
   "execution_count": 213
  },
  {
   "metadata": {},
   "cell_type": "markdown",
   "source": [
    "# Análisis simple\n",
    "\n"
   ],
   "id": "bc9af7711dd3bf72"
  },
  {
   "metadata": {},
   "cell_type": "markdown",
   "source": "### ¿Cuál fue la categoría con más ventas en cantidad?\n",
   "id": "89f877125834ba2f"
  },
  {
   "metadata": {
    "ExecuteTime": {
     "end_time": "2025-09-07T04:11:07.685057Z",
     "start_time": "2025-09-07T04:11:07.673538Z"
    }
   },
   "cell_type": "code",
   "source": [
    "cant_ventas_cat = data['Categoría'].value_counts()\n",
    "cant_ventas_cat"
   ],
   "id": "717bed53b1c96fb2",
   "outputs": [
    {
     "data": {
      "text/plain": [
       "Categoría\n",
       "Electrónica    198\n",
       "Ropa           156\n",
       "Hogar          146\n",
       "Name: count, dtype: int64"
      ]
     },
     "execution_count": 218,
     "metadata": {},
     "output_type": "execute_result"
    }
   ],
   "execution_count": 218
  },
  {
   "metadata": {
    "ExecuteTime": {
     "end_time": "2025-09-07T04:11:02.882382Z",
     "start_time": "2025-09-07T04:11:02.803830Z"
    }
   },
   "cell_type": "code",
   "source": "cant_ventas_cat.plot(kind='pie', autopct='%1.1f%%', figsize=(8, 8), title='Ventas por Categoría')",
   "id": "50eb2eb3910bec61",
   "outputs": [
    {
     "data": {
      "text/plain": [
       "<Axes: title={'center': 'Ventas por Categoría'}, ylabel='count'>"
      ]
     },
     "execution_count": 215,
     "metadata": {},
     "output_type": "execute_result"
    },
    {
     "data": {
      "text/plain": [
       "<Figure size 800x800 with 1 Axes>"
      ],
      "image/png": "[encoded data removed]"
     },
     "metadata": {},
     "output_type": "display_data"
    }
   ],
   "execution_count": 215
  },
  {
   "metadata": {},
   "cell_type": "markdown",
   "source": "### ¿Qué ciudad generó más ingresos totales?\n",
   "id": "802b2fe9940b9a28"
  },
  {
   "metadata": {
    "ExecuteTime": {
     "end_time": "2025-09-07T04:11:03.006617Z",
     "start_time": "2025-09-07T04:11:02.998078Z"
    }
   },
   "cell_type": "code",
   "source": [
    "total_ventas_ciudad = data.groupby('Ciudad')['Total_Venta'].sum().sort_values(ascending=False)\n",
    "total_ventas_ciudad"
   ],
   "id": "fc62ef7f826953cf",
   "outputs": [
    {
     "data": {
      "text/plain": [
       "Ciudad\n",
       "Desconocida    29661000\n",
       "Santiago       26649000\n",
       "Concepción     24360000\n",
       "La Serena      23827000\n",
       "Valparaíso     22369000\n",
       "Antofagasta    20610000\n",
       "Name: Total_Venta, dtype: int64"
      ]
     },
     "execution_count": 216,
     "metadata": {},
     "output_type": "execute_result"
    }
   ],
   "execution_count": 216
  },
  {
   "metadata": {
    "ExecuteTime": {
     "end_time": "2025-09-07T04:11:03.228049Z",
     "start_time": "2025-09-07T04:11:03.079367Z"
    }
   },
   "cell_type": "code",
   "source": "data.total_ventas_ciudad = total_ventas_ciudad.plot(kind='bar', figsize=(10, 6), title='Total Ventas por Ciudad')",
   "id": "fd4c4ded29ec71c9",
   "outputs": [
    {
     "data": {
      "text/plain": [
       "<Figure size 1000x600 with 1 Axes>"
      ],
      "image/png": "[encoded data removed]"
     },
     "metadata": {},
     "output_type": "display_data"
    }
   ],
   "execution_count": 217
  },
  {
   "metadata": {},
   "cell_type": "markdown",
   "source": "### ¿Cuál es el método de pago más usado?",
   "id": "ac8ae6428ecf1003"
  },
  {
   "metadata": {
    "ExecuteTime": {
     "end_time": "2025-09-07T04:11:47.782580Z",
     "start_time": "2025-09-07T04:11:47.775418Z"
    }
   },
   "cell_type": "code",
   "source": [
    "cantidad_metodo_pago = data['Método_Pago'].value_counts()\n",
    "cantidad_metodo_pago"
   ],
   "id": "f3ff5063bae63f29",
   "outputs": [
    {
     "data": {
      "text/plain": [
       "Método_Pago\n",
       "Transferencia    169\n",
       "Tarjeta          169\n",
       "Efectivo         162\n",
       "Name: count, dtype: int64"
      ]
     },
     "execution_count": 220,
     "metadata": {},
     "output_type": "execute_result"
    }
   ],
   "execution_count": 220
  },
  {
   "metadata": {
    "ExecuteTime": {
     "end_time": "2025-09-07T04:14:25.639584Z",
     "start_time": "2025-09-07T04:14:25.572979Z"
    }
   },
   "cell_type": "code",
   "source": "cantidad_metodo_pago.plot(kind='pie', figsize=(8, 6), title='Cantidad por Método de Pago', autopct='%1.1f%%')",
   "id": "f96d3979cabacf9e",
   "outputs": [
    {
     "data": {
      "text/plain": [
       "<Axes: title={'center': 'Cantidad por Método de Pago'}, ylabel='count'>"
      ]
     },
     "execution_count": 243,
     "metadata": {},
     "output_type": "execute_result"
    },
    {
     "data": {
      "text/plain": [
       "<Figure size 800x600 with 1 Axes>"
      ],
      "image/png": "[encoded data removed]"
     },
     "metadata": {},
     "output_type": "display_data"
    }
   ],
   "execution_count": 243
  },
  {
   "cell_type": "markdown",
   "source": [
    "\n",
    "\n",
    "* El trabajo debe ser desarrollado y enviado al correo j.guzman@profesor.duoc.cl"
   ],
   "metadata": {
    "id": "Wa8tVhe9i9-8"
   },
   "id": "Wa8tVhe9i9-8"
  }
 ],
 "metadata": {
  "kernelspec": {
   "display_name": "Python 3 (ipykernel)",
   "language": "python",
   "name": "python3"
  },
  "language_info": {
   "codemirror_mode": {
    "name": "ipython",
    "version": 3
   },
   "file_extension": ".py",
   "mimetype": "text/x-python",
   "name": "python",
   "nbconvert_exporter": "python",
   "pygments_lexer": "ipython3",
   "version": "3.9.13"
  },
  "colab": {
   "provenance": []
  }
 },
 "nbformat": 4,
 "nbformat_minor": 5
}
