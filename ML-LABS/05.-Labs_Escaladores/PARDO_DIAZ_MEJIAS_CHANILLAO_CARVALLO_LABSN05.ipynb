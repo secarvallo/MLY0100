{
 "cells": [
  {
   "cell_type": "markdown",
   "id": "82f87eef",
   "metadata": {
    "id": "82f87eef"
   },
   "source": [
    "\n",
    "# Escaladores vs. Estandarizadores (con Boston Housing)\n",
    "\n",
    "**Objetivo:** entender y practicar *escalado de características* y *estandarización* con `scikit-learn`, usando el dataset **Boston Housing** (o un fallback similar si no está disponible).\n",
    "\n",
    "> Este cuaderno incluye teoría, buenas prácticas y experimentos para comparar el efecto de diferentes escaladores en los datos y en el rendimiento de modelos sensibles a la escala (p. ej., KNN) frente a modelos menos sensibles (p. ej., regresión lineal).\n"
   ]
  },
  {
   "cell_type": "markdown",
   "id": "5bbdf3a9",
   "metadata": {
    "id": "5bbdf3a9"
   },
   "source": [
    "\n",
    "## Cómo usar este notebook\n",
    "\n",
    "1. Ejecuta la sección **Carga de datos**; el cuaderno intentará usar `load_boston()`.\n",
    "   - Si tu versión de `scikit-learn` ya no trae `load_boston`, buscará un CSV local (`boston.csv` o `BostonHousing.csv`).\n",
    "   - Si no encuentra ninguno, **generará un dataset sintético** con columnas y rangos similares, suficiente para practicar escalado.\n",
    "2. Sigue las secciones en orden: EDA ➜ Escalado ➜ Comparaciones ➜ Conclusiones.\n"
   ]
  },
  {
   "cell_type": "code",
   "execution_count": 1,
   "id": "d9ec653d",
   "metadata": {
    "language_info": {
     "name": "polyglot-notebook"
    },
    "polyglot_notebook": {
     "kernelName": "csharp"
    }
   },
   "outputs": [
    {
     "name": "stdout",
     "output_type": "stream",
     "text": [
      "Note: you may need to restart the kernel to use updated packages.\n"
     ]
    }
   ],
   "source": [
    "%pip install -q pandas numpy matplotlib scikit-learn\n",
    "\n",
    "import os\n",
    "import numpy as np\n",
    "import pandas as pd\n",
    "import matplotlib.pyplot as plt\n",
    "from scipy import stats\n",
    "from sklearn.preprocessing import StandardScaler, MinMaxScaler, RobustScaler\n",
    "from sklearn.neighbors import KNeighborsClassifier\n",
    "from sklearn.cluster import KMeans\n",
    "from sklearn.svm import SVC\n",
    "from sklearn.neural_network import MLPClassifier\n",
    "from sklearn.metrics import accuracy_score\n",
    "\n",
    "# Visualización básica\n",
    "pd.set_option('display.precision', 4)\n",
    "plt.rcParams['figure.figsize'] = (7, 4)"
   ]
  },
  {
   "cell_type": "markdown",
   "id": "878bc956",
   "metadata": {
    "id": "878bc956"
   },
   "source": [
    "\n",
    "## Teoría breve: ¿por qué escalar? ¿qué significa estandarizar?\n",
    "\n",
    "- **Motivación**: Muchos algoritmos usan distancias (KNN, SVM con kernel RBF, clustering) o gradientes.\n",
    "  Si tus *features* están en **escalas muy distintas** (p. ej., `TAX` vs `RM`), las variables de mayor rango **dominan** los cálculos.\n",
    "  Escalar **homogeneiza** magnitudes y **acelera**/estabiliza el aprendizaje.\n",
    "\n",
    "- **Escalado Min–Max (`MinMaxScaler`)**: reescala cada columna a un rango (típicamente **[0, 1]**).  \n",
    "  Fórmula: \\\\(x' = \\\\frac{x - x_{\\\\min}}{x_{\\\\max} - x_{\\\\min}}\\\\).  \n",
    "  Ventaja: mantiene la **forma** de la distribución y las **proporciones**.  \n",
    "  Cuidado: **muy sensible a outliers** (el mínimo/máximo pueden sesgar todo el rango).\n",
    "\n",
    "- **Estandarización (`StandardScaler`)**: centra en **0** y escala a **desviación estándar 1** (Z-score).  \n",
    "  Fórmula: \\\\(z = \\\\frac{x - \\\\mu}{\\\\sigma}\\\\).  \n",
    "  Ventaja: suele funcionar bien en muchos modelos lineales y métodos basados en distancia; **menos sensible** a outliers que Min–Max, pero **no robusta** si hay outliers extremos.\n",
    "\n",
    "- **Escalado robusto (`RobustScaler`)**: usa **mediana** e **IQR** (rango intercuartílico), por lo que es **más robusto a outliers**.\n",
    "\n",
    "- **Normalización vectorial (`Normalizer`)**: escala **filas** (observaciones) para que su norma (L2 por defecto) sea 1. Útil cuando importa la **dirección** del vector más que su magnitud (texto, conteos, etc.).\n",
    "\n",
    "> Regla práctica:\n",
    "> - Datos con **outliers** marcados → intenta `RobustScaler`.\n",
    "> - Modelos **lineales**/distancia → `StandardScaler` suele ser una primera opción segura.\n",
    "> - Necesitas un **rango acotado** [0,1] (o [a,b]) → `MinMaxScaler`.\n",
    "> - Cuando importa la **dirección** (no la escala absoluta) por **fila** → `Normalizer`.\n"
   ]
  },
  {
   "cell_type": "markdown",
   "id": "100d0bc6",
   "metadata": {
    "id": "100d0bc6"
   },
   "source": [
    "\n",
    "## Carga del dataset (Boston Housing)\n",
    "\n",
    "Intentamos tres estrategias:\n",
    "\n",
    "1) `sklearn.datasets.load_boston()` si tu versión aún lo incluye.  \n",
    "2) Buscar un CSV local (`boston.csv` o `BostonHousing.csv`).  \n",
    "3) **Fallback sintético** con columnas y rangos similares para fines didácticos.\n"
   ]
  },
  {
   "cell_type": "code",
   "execution_count": 2,
   "id": "c97110b7",
   "metadata": {
    "language_info": {
     "name": "polyglot-notebook"
    },
    "polyglot_notebook": {
     "kernelName": "csharp"
    }
   },
   "outputs": [
    {
     "name": "stdout",
     "output_type": "stream",
     "text": [
      "Intentando descargar dataset desde GitHub...\n",
      "Dataset descargado y guardado localmente en BostonHousing.csv\n"
     ]
    }
   ],
   "source": [
    "# Descargar el dataset de Boston Housing desde un repositorio en GitHub\n",
    "try:\n",
    "    url = \"https://raw.githubusercontent.com/selva86/datasets/master/BostonHousing.csv\"\n",
    "    print(\"Intentando descargar dataset desde GitHub...\")\n",
    "    df = pd.read_csv(url)\n",
    "    y = df['medv'].copy()\n",
    "    X = df.drop(columns=['medv']).copy()\n",
    "    origen_datos = \"GitHub repository (descargado)\"\n",
    "    \n",
    "    # Guardar localmente para futuras ejecuciones (usar ruta relativa correcta)\n",
    "    ruta_guardado = \"BostonHousing.csv\"  # Guardar en el directorio actual\n",
    "    df.to_csv(ruta_guardado, index=False)\n",
    "    print(f\"Dataset descargado y guardado localmente en {ruta_guardado}\")\n",
    "except Exception as e:\n",
    "    print(f\"No se pudo descargar el dataset desde GitHub: {e}\")\n",
    "    print(\"Intentando cargar desde archivo local...\")\n",
    "    # Si no se puede descargar, intentar cargar desde archivo local\n",
    "    try:\n",
    "        df = pd.read_csv(\"BostonHousing.csv\")\n",
    "        y = df['medv'].copy()\n",
    "        X = df.drop(columns=['medv']).copy()\n",
    "        origen_datos = \"Archivo local\"\n",
    "        print(\"Dataset cargado desde archivo local\")\n",
    "    except Exception as e2:\n",
    "        print(f\"Error cargando archivo local: {e2}\")\n",
    "        print(\"Asegúrate de que el archivo BostonHousing.csv esté en el directorio actual\")"
   ]
  },
  {
   "cell_type": "markdown",
   "id": "1120895e",
   "metadata": {
    "id": "1120895e"
   },
   "source": [
    "\n",
    "## Exploración rápida (EDA)\n",
    "\n",
    "Revisemos dimensiones, primeras filas y estadísticas básicas.\n"
   ]
  },
  {
   "cell_type": "code",
   "execution_count": 3,
   "id": "9b7d9557",
   "metadata": {
    "language_info": {
     "name": "polyglot-notebook"
    },
    "polyglot_notebook": {
     "kernelName": "csharp"
    }
   },
   "outputs": [
    {
     "data": {
      "text/html": [
       "<div>\n",
       "<style scoped>\n",
       "    .dataframe tbody tr th:only-of-type {\n",
       "        vertical-align: middle;\n",
       "    }\n",
       "\n",
       "    .dataframe tbody tr th {\n",
       "        vertical-align: top;\n",
       "    }\n",
       "\n",
       "    .dataframe thead th {\n",
       "        text-align: right;\n",
       "    }\n",
       "</style>\n",
       "<table border=\"1\" class=\"dataframe\">\n",
       "  <thead>\n",
       "    <tr style=\"text-align: right;\">\n",
       "      <th></th>\n",
       "      <th>crim</th>\n",
       "      <th>zn</th>\n",
       "      <th>indus</th>\n",
       "      <th>chas</th>\n",
       "      <th>nox</th>\n",
       "      <th>rm</th>\n",
       "      <th>age</th>\n",
       "      <th>dis</th>\n",
       "      <th>rad</th>\n",
       "      <th>tax</th>\n",
       "      <th>ptratio</th>\n",
       "      <th>b</th>\n",
       "      <th>lstat</th>\n",
       "      <th>medv</th>\n",
       "    </tr>\n",
       "  </thead>\n",
       "  <tbody>\n",
       "    <tr>\n",
       "      <th>0</th>\n",
       "      <td>0.0063</td>\n",
       "      <td>18.0</td>\n",
       "      <td>2.31</td>\n",
       "      <td>0</td>\n",
       "      <td>0.538</td>\n",
       "      <td>6.575</td>\n",
       "      <td>65.2</td>\n",
       "      <td>4.0900</td>\n",
       "      <td>1</td>\n",
       "      <td>296</td>\n",
       "      <td>15.3</td>\n",
       "      <td>396.90</td>\n",
       "      <td>4.98</td>\n",
       "      <td>24.0</td>\n",
       "    </tr>\n",
       "    <tr>\n",
       "      <th>1</th>\n",
       "      <td>0.0273</td>\n",
       "      <td>0.0</td>\n",
       "      <td>7.07</td>\n",
       "      <td>0</td>\n",
       "      <td>0.469</td>\n",
       "      <td>6.421</td>\n",
       "      <td>78.9</td>\n",
       "      <td>4.9671</td>\n",
       "      <td>2</td>\n",
       "      <td>242</td>\n",
       "      <td>17.8</td>\n",
       "      <td>396.90</td>\n",
       "      <td>9.14</td>\n",
       "      <td>21.6</td>\n",
       "    </tr>\n",
       "    <tr>\n",
       "      <th>2</th>\n",
       "      <td>0.0273</td>\n",
       "      <td>0.0</td>\n",
       "      <td>7.07</td>\n",
       "      <td>0</td>\n",
       "      <td>0.469</td>\n",
       "      <td>7.185</td>\n",
       "      <td>61.1</td>\n",
       "      <td>4.9671</td>\n",
       "      <td>2</td>\n",
       "      <td>242</td>\n",
       "      <td>17.8</td>\n",
       "      <td>392.83</td>\n",
       "      <td>4.03</td>\n",
       "      <td>34.7</td>\n",
       "    </tr>\n",
       "    <tr>\n",
       "      <th>3</th>\n",
       "      <td>0.0324</td>\n",
       "      <td>0.0</td>\n",
       "      <td>2.18</td>\n",
       "      <td>0</td>\n",
       "      <td>0.458</td>\n",
       "      <td>6.998</td>\n",
       "      <td>45.8</td>\n",
       "      <td>6.0622</td>\n",
       "      <td>3</td>\n",
       "      <td>222</td>\n",
       "      <td>18.7</td>\n",
       "      <td>394.63</td>\n",
       "      <td>2.94</td>\n",
       "      <td>33.4</td>\n",
       "    </tr>\n",
       "    <tr>\n",
       "      <th>4</th>\n",
       "      <td>0.0691</td>\n",
       "      <td>0.0</td>\n",
       "      <td>2.18</td>\n",
       "      <td>0</td>\n",
       "      <td>0.458</td>\n",
       "      <td>7.147</td>\n",
       "      <td>54.2</td>\n",
       "      <td>6.0622</td>\n",
       "      <td>3</td>\n",
       "      <td>222</td>\n",
       "      <td>18.7</td>\n",
       "      <td>396.90</td>\n",
       "      <td>5.33</td>\n",
       "      <td>36.2</td>\n",
       "    </tr>\n",
       "  </tbody>\n",
       "</table>\n",
       "</div>"
      ],
      "text/plain": [
       "     crim    zn  indus  chas    nox     rm   age     dis  rad  tax  ptratio  \\\n",
       "0  0.0063  18.0   2.31     0  0.538  6.575  65.2  4.0900    1  296     15.3   \n",
       "1  0.0273   0.0   7.07     0  0.469  6.421  78.9  4.9671    2  242     17.8   \n",
       "2  0.0273   0.0   7.07     0  0.469  7.185  61.1  4.9671    2  242     17.8   \n",
       "3  0.0324   0.0   2.18     0  0.458  6.998  45.8  6.0622    3  222     18.7   \n",
       "4  0.0691   0.0   2.18     0  0.458  7.147  54.2  6.0622    3  222     18.7   \n",
       "\n",
       "        b  lstat  medv  \n",
       "0  396.90   4.98  24.0  \n",
       "1  396.90   9.14  21.6  \n",
       "2  392.83   4.03  34.7  \n",
       "3  394.63   2.94  33.4  \n",
       "4  396.90   5.33  36.2  "
      ]
     },
     "execution_count": 3,
     "metadata": {},
     "output_type": "execute_result"
    }
   ],
   "source": [
    "df.head()"
   ]
  },
  {
   "cell_type": "code",
   "execution_count": 4,
   "id": "d40f1317",
   "metadata": {
    "language_info": {
     "name": "polyglot-notebook"
    },
    "polyglot_notebook": {
     "kernelName": "csharp"
    }
   },
   "outputs": [
    {
     "data": {
      "text/html": [
       "<div>\n",
       "<style scoped>\n",
       "    .dataframe tbody tr th:only-of-type {\n",
       "        vertical-align: middle;\n",
       "    }\n",
       "\n",
       "    .dataframe tbody tr th {\n",
       "        vertical-align: top;\n",
       "    }\n",
       "\n",
       "    .dataframe thead th {\n",
       "        text-align: right;\n",
       "    }\n",
       "</style>\n",
       "<table border=\"1\" class=\"dataframe\">\n",
       "  <thead>\n",
       "    <tr style=\"text-align: right;\">\n",
       "      <th></th>\n",
       "      <th>crim</th>\n",
       "      <th>zn</th>\n",
       "      <th>indus</th>\n",
       "      <th>chas</th>\n",
       "      <th>nox</th>\n",
       "      <th>rm</th>\n",
       "      <th>age</th>\n",
       "      <th>dis</th>\n",
       "      <th>rad</th>\n",
       "      <th>tax</th>\n",
       "      <th>ptratio</th>\n",
       "      <th>b</th>\n",
       "      <th>lstat</th>\n",
       "      <th>medv</th>\n",
       "    </tr>\n",
       "  </thead>\n",
       "  <tbody>\n",
       "    <tr>\n",
       "      <th>501</th>\n",
       "      <td>0.0626</td>\n",
       "      <td>0.0</td>\n",
       "      <td>11.93</td>\n",
       "      <td>0</td>\n",
       "      <td>0.573</td>\n",
       "      <td>6.593</td>\n",
       "      <td>69.1</td>\n",
       "      <td>2.4786</td>\n",
       "      <td>1</td>\n",
       "      <td>273</td>\n",
       "      <td>21.0</td>\n",
       "      <td>391.99</td>\n",
       "      <td>9.67</td>\n",
       "      <td>22.4</td>\n",
       "    </tr>\n",
       "    <tr>\n",
       "      <th>502</th>\n",
       "      <td>0.0453</td>\n",
       "      <td>0.0</td>\n",
       "      <td>11.93</td>\n",
       "      <td>0</td>\n",
       "      <td>0.573</td>\n",
       "      <td>6.120</td>\n",
       "      <td>76.7</td>\n",
       "      <td>2.2875</td>\n",
       "      <td>1</td>\n",
       "      <td>273</td>\n",
       "      <td>21.0</td>\n",
       "      <td>396.90</td>\n",
       "      <td>9.08</td>\n",
       "      <td>20.6</td>\n",
       "    </tr>\n",
       "    <tr>\n",
       "      <th>503</th>\n",
       "      <td>0.0608</td>\n",
       "      <td>0.0</td>\n",
       "      <td>11.93</td>\n",
       "      <td>0</td>\n",
       "      <td>0.573</td>\n",
       "      <td>6.976</td>\n",
       "      <td>91.0</td>\n",
       "      <td>2.1675</td>\n",
       "      <td>1</td>\n",
       "      <td>273</td>\n",
       "      <td>21.0</td>\n",
       "      <td>396.90</td>\n",
       "      <td>5.64</td>\n",
       "      <td>23.9</td>\n",
       "    </tr>\n",
       "    <tr>\n",
       "      <th>504</th>\n",
       "      <td>0.1096</td>\n",
       "      <td>0.0</td>\n",
       "      <td>11.93</td>\n",
       "      <td>0</td>\n",
       "      <td>0.573</td>\n",
       "      <td>6.794</td>\n",
       "      <td>89.3</td>\n",
       "      <td>2.3889</td>\n",
       "      <td>1</td>\n",
       "      <td>273</td>\n",
       "      <td>21.0</td>\n",
       "      <td>393.45</td>\n",
       "      <td>6.48</td>\n",
       "      <td>22.0</td>\n",
       "    </tr>\n",
       "    <tr>\n",
       "      <th>505</th>\n",
       "      <td>0.0474</td>\n",
       "      <td>0.0</td>\n",
       "      <td>11.93</td>\n",
       "      <td>0</td>\n",
       "      <td>0.573</td>\n",
       "      <td>6.030</td>\n",
       "      <td>80.8</td>\n",
       "      <td>2.5050</td>\n",
       "      <td>1</td>\n",
       "      <td>273</td>\n",
       "      <td>21.0</td>\n",
       "      <td>396.90</td>\n",
       "      <td>7.88</td>\n",
       "      <td>11.9</td>\n",
       "    </tr>\n",
       "  </tbody>\n",
       "</table>\n",
       "</div>"
      ],
      "text/plain": [
       "       crim   zn  indus  chas    nox     rm   age     dis  rad  tax  ptratio  \\\n",
       "501  0.0626  0.0  11.93     0  0.573  6.593  69.1  2.4786    1  273     21.0   \n",
       "502  0.0453  0.0  11.93     0  0.573  6.120  76.7  2.2875    1  273     21.0   \n",
       "503  0.0608  0.0  11.93     0  0.573  6.976  91.0  2.1675    1  273     21.0   \n",
       "504  0.1096  0.0  11.93     0  0.573  6.794  89.3  2.3889    1  273     21.0   \n",
       "505  0.0474  0.0  11.93     0  0.573  6.030  80.8  2.5050    1  273     21.0   \n",
       "\n",
       "          b  lstat  medv  \n",
       "501  391.99   9.67  22.4  \n",
       "502  396.90   9.08  20.6  \n",
       "503  396.90   5.64  23.9  \n",
       "504  393.45   6.48  22.0  \n",
       "505  396.90   7.88  11.9  "
      ]
     },
     "execution_count": 4,
     "metadata": {},
     "output_type": "execute_result"
    }
   ],
   "source": [
    "df.tail()"
   ]
  },
  {
   "cell_type": "code",
   "execution_count": 5,
   "id": "1bac177e",
   "metadata": {
    "language_info": {
     "name": "polyglot-notebook"
    },
    "polyglot_notebook": {
     "kernelName": "csharp"
    }
   },
   "outputs": [
    {
     "name": "stdout",
     "output_type": "stream",
     "text": [
      "<class 'pandas.core.frame.DataFrame'>\n",
      "RangeIndex: 506 entries, 0 to 505\n",
      "Data columns (total 14 columns):\n",
      " #   Column   Non-Null Count  Dtype  \n",
      "---  ------   --------------  -----  \n",
      " 0   crim     506 non-null    float64\n",
      " 1   zn       506 non-null    float64\n",
      " 2   indus    506 non-null    float64\n",
      " 3   chas     506 non-null    int64  \n",
      " 4   nox      506 non-null    float64\n",
      " 5   rm       506 non-null    float64\n",
      " 6   age      506 non-null    float64\n",
      " 7   dis      506 non-null    float64\n",
      " 8   rad      506 non-null    int64  \n",
      " 9   tax      506 non-null    int64  \n",
      " 10  ptratio  506 non-null    float64\n",
      " 11  b        506 non-null    float64\n",
      " 12  lstat    506 non-null    float64\n",
      " 13  medv     506 non-null    float64\n",
      "dtypes: float64(11), int64(3)\n",
      "memory usage: 55.5 KB\n"
     ]
    }
   ],
   "source": [
    "df.info()"
   ]
  },
  {
   "cell_type": "markdown",
   "id": "5e83d0d0",
   "metadata": {},
   "source": [
    "# Encoding One-hot y Label Encoding"
   ]
  },
  {
   "cell_type": "code",
   "execution_count": 6,
   "id": "3f89d464",
   "metadata": {
    "language_info": {
     "name": "polyglot-notebook"
    },
    "polyglot_notebook": {
     "kernelName": "csharp"
    }
   },
   "outputs": [
    {
     "data": {
      "text/plain": [
       "['chas', 'rad']"
      ]
     },
     "execution_count": 6,
     "metadata": {},
     "output_type": "execute_result"
    }
   ],
   "source": [
    "# Identificar las variables Categoricas\n",
    "cat_cols = [col for col in X.columns if X[col].nunique() < 10]\n",
    "cat_cols"
   ]
  },
  {
   "cell_type": "code",
   "execution_count": 7,
   "id": "6030ad46",
   "metadata": {
    "language_info": {
     "name": "polyglot-notebook"
    },
    "polyglot_notebook": {
     "kernelName": "csharp"
    }
   },
   "outputs": [
    {
     "name": "stdout",
     "output_type": "stream",
     "text": [
      "Valores únicos en 'rad': [np.int64(1), np.int64(2), np.int64(3), np.int64(4), np.int64(5), np.int64(6), np.int64(7), np.int64(8), np.int64(24)]\n",
      "Claves en el diccionario: [1, 2, 3, 4, 5, 6, 7, 8, 24]\n",
      "\n",
      "Columnas finales del dataset:\n",
      "['crim', 'zn', 'indus', 'nox', 'rm', 'age', 'dis', 'tax', 'ptratio', 'b', 'lstat', 'medv', 'chas_1', 'rad_encoded']\n"
     ]
    },
    {
     "data": {
      "text/html": [
       "<div>\n",
       "<style scoped>\n",
       "    .dataframe tbody tr th:only-of-type {\n",
       "        vertical-align: middle;\n",
       "    }\n",
       "\n",
       "    .dataframe tbody tr th {\n",
       "        vertical-align: top;\n",
       "    }\n",
       "\n",
       "    .dataframe thead th {\n",
       "        text-align: right;\n",
       "    }\n",
       "</style>\n",
       "<table border=\"1\" class=\"dataframe\">\n",
       "  <thead>\n",
       "    <tr style=\"text-align: right;\">\n",
       "      <th></th>\n",
       "      <th>crim</th>\n",
       "      <th>zn</th>\n",
       "      <th>indus</th>\n",
       "      <th>nox</th>\n",
       "      <th>rm</th>\n",
       "      <th>age</th>\n",
       "      <th>dis</th>\n",
       "      <th>tax</th>\n",
       "      <th>ptratio</th>\n",
       "      <th>b</th>\n",
       "      <th>lstat</th>\n",
       "      <th>medv</th>\n",
       "      <th>chas_1</th>\n",
       "      <th>rad_encoded</th>\n",
       "    </tr>\n",
       "  </thead>\n",
       "  <tbody>\n",
       "    <tr>\n",
       "      <th>0</th>\n",
       "      <td>0.0063</td>\n",
       "      <td>18.0</td>\n",
       "      <td>2.31</td>\n",
       "      <td>0.538</td>\n",
       "      <td>6.575</td>\n",
       "      <td>65.2</td>\n",
       "      <td>4.0900</td>\n",
       "      <td>296</td>\n",
       "      <td>15.3</td>\n",
       "      <td>396.90</td>\n",
       "      <td>4.98</td>\n",
       "      <td>24.0</td>\n",
       "      <td>0.0</td>\n",
       "      <td>0</td>\n",
       "    </tr>\n",
       "    <tr>\n",
       "      <th>1</th>\n",
       "      <td>0.0273</td>\n",
       "      <td>0.0</td>\n",
       "      <td>7.07</td>\n",
       "      <td>0.469</td>\n",
       "      <td>6.421</td>\n",
       "      <td>78.9</td>\n",
       "      <td>4.9671</td>\n",
       "      <td>242</td>\n",
       "      <td>17.8</td>\n",
       "      <td>396.90</td>\n",
       "      <td>9.14</td>\n",
       "      <td>21.6</td>\n",
       "      <td>0.0</td>\n",
       "      <td>1</td>\n",
       "    </tr>\n",
       "    <tr>\n",
       "      <th>2</th>\n",
       "      <td>0.0273</td>\n",
       "      <td>0.0</td>\n",
       "      <td>7.07</td>\n",
       "      <td>0.469</td>\n",
       "      <td>7.185</td>\n",
       "      <td>61.1</td>\n",
       "      <td>4.9671</td>\n",
       "      <td>242</td>\n",
       "      <td>17.8</td>\n",
       "      <td>392.83</td>\n",
       "      <td>4.03</td>\n",
       "      <td>34.7</td>\n",
       "      <td>0.0</td>\n",
       "      <td>1</td>\n",
       "    </tr>\n",
       "    <tr>\n",
       "      <th>3</th>\n",
       "      <td>0.0324</td>\n",
       "      <td>0.0</td>\n",
       "      <td>2.18</td>\n",
       "      <td>0.458</td>\n",
       "      <td>6.998</td>\n",
       "      <td>45.8</td>\n",
       "      <td>6.0622</td>\n",
       "      <td>222</td>\n",
       "      <td>18.7</td>\n",
       "      <td>394.63</td>\n",
       "      <td>2.94</td>\n",
       "      <td>33.4</td>\n",
       "      <td>0.0</td>\n",
       "      <td>2</td>\n",
       "    </tr>\n",
       "    <tr>\n",
       "      <th>4</th>\n",
       "      <td>0.0691</td>\n",
       "      <td>0.0</td>\n",
       "      <td>2.18</td>\n",
       "      <td>0.458</td>\n",
       "      <td>7.147</td>\n",
       "      <td>54.2</td>\n",
       "      <td>6.0622</td>\n",
       "      <td>222</td>\n",
       "      <td>18.7</td>\n",
       "      <td>396.90</td>\n",
       "      <td>5.33</td>\n",
       "      <td>36.2</td>\n",
       "      <td>0.0</td>\n",
       "      <td>2</td>\n",
       "    </tr>\n",
       "  </tbody>\n",
       "</table>\n",
       "</div>"
      ],
      "text/plain": [
       "     crim    zn  indus    nox     rm   age     dis  tax  ptratio       b  \\\n",
       "0  0.0063  18.0   2.31  0.538  6.575  65.2  4.0900  296     15.3  396.90   \n",
       "1  0.0273   0.0   7.07  0.469  6.421  78.9  4.9671  242     17.8  396.90   \n",
       "2  0.0273   0.0   7.07  0.469  7.185  61.1  4.9671  242     17.8  392.83   \n",
       "3  0.0324   0.0   2.18  0.458  6.998  45.8  6.0622  222     18.7  394.63   \n",
       "4  0.0691   0.0   2.18  0.458  7.147  54.2  6.0622  222     18.7  396.90   \n",
       "\n",
       "   lstat  medv  chas_1  rad_encoded  \n",
       "0   4.98  24.0     0.0            0  \n",
       "1   9.14  21.6     0.0            1  \n",
       "2   4.03  34.7     0.0            1  \n",
       "3   2.94  33.4     0.0            2  \n",
       "4   5.33  36.2     0.0            2  "
      ]
     },
     "execution_count": 7,
     "metadata": {},
     "output_type": "execute_result"
    }
   ],
   "source": [
    "import warnings\n",
    "warnings.filterwarnings('ignore')\n",
    "from sklearn.preprocessing import OneHotEncoder, LabelEncoder\n",
    "import pandas as pd\n",
    "\n",
    "# Crear diccionario de orden personalizado para 'rad'\n",
    "rad_orden_personalizado = {\n",
    "    1: 0,   # Índice de acceso a radial más bajo\n",
    "    2: 1,\n",
    "    3: 2,\n",
    "    4: 3,\n",
    "    5: 4,\n",
    "    6: 5,\n",
    "    7: 6,\n",
    "    8: 7,\n",
    "    24: 8   # Índice de acceso a radial más alto\n",
    "}\n",
    "\n",
    "# Verificar que todos los valores de 'rad' están en el diccionario\n",
    "valores_rad_unicos = df['rad'].unique()\n",
    "print(\"Valores únicos en 'rad':\", sorted(valores_rad_unicos))\n",
    "print(\"Claves en el diccionario:\", sorted(rad_orden_personalizado.keys()))\n",
    "\n",
    "# Aplicar orden personalizado\n",
    "df['rad_ordered'] = df['rad'].map(rad_orden_personalizado)\n",
    "\n",
    "# One-Hot Encoding para 'chas'\n",
    "onehot_encoder = OneHotEncoder(sparse_output=False, drop='first')  # drop='first' para evitar multicolinealidad\n",
    "chas_encoded = onehot_encoder.fit_transform(df[['chas']])\n",
    "\n",
    "# Concatenar one-hot encoding\n",
    "chas_df = pd.DataFrame(chas_encoded, columns=onehot_encoder.get_feature_names_out(['chas']))\n",
    "df = pd.concat([df, chas_df], axis=1)\n",
    "\n",
    "# Label Encoding para 'rad' (usando el orden personalizado)\n",
    "df['rad_encoded'] = df['rad_ordered']  # Ya está codificado según nuestro diccionario\n",
    "\n",
    "# Eliminar columnas temporales y originales\n",
    "columnas_a_eliminar = ['chas', 'rad', 'rad_ordered']\n",
    "df = df.drop(columnas_a_eliminar, axis=1)\n",
    "\n",
    "print(\"\\nColumnas finales del dataset:\")\n",
    "print(df.columns.tolist())\n",
    "df.head()\n"
   ]
  },
  {
   "cell_type": "code",
   "execution_count": 8,
   "id": "b1a634ea",
   "metadata": {},
   "outputs": [
    {
     "data": {
      "text/html": [
       "<div>\n",
       "<style scoped>\n",
       "    .dataframe tbody tr th:only-of-type {\n",
       "        vertical-align: middle;\n",
       "    }\n",
       "\n",
       "    .dataframe tbody tr th {\n",
       "        vertical-align: top;\n",
       "    }\n",
       "\n",
       "    .dataframe thead th {\n",
       "        text-align: right;\n",
       "    }\n",
       "</style>\n",
       "<table border=\"1\" class=\"dataframe\">\n",
       "  <thead>\n",
       "    <tr style=\"text-align: right;\">\n",
       "      <th></th>\n",
       "      <th>crim</th>\n",
       "      <th>zn</th>\n",
       "      <th>indus</th>\n",
       "      <th>nox</th>\n",
       "      <th>rm</th>\n",
       "      <th>age</th>\n",
       "      <th>dis</th>\n",
       "      <th>tax</th>\n",
       "      <th>ptratio</th>\n",
       "      <th>b</th>\n",
       "      <th>lstat</th>\n",
       "      <th>medv</th>\n",
       "      <th>chas_1</th>\n",
       "      <th>rad_encoded</th>\n",
       "    </tr>\n",
       "  </thead>\n",
       "  <tbody>\n",
       "    <tr>\n",
       "      <th>0</th>\n",
       "      <td>0.0063</td>\n",
       "      <td>18.0</td>\n",
       "      <td>2.31</td>\n",
       "      <td>0.538</td>\n",
       "      <td>6.575</td>\n",
       "      <td>65.2</td>\n",
       "      <td>4.0900</td>\n",
       "      <td>296</td>\n",
       "      <td>15.3</td>\n",
       "      <td>396.90</td>\n",
       "      <td>4.98</td>\n",
       "      <td>24.0</td>\n",
       "      <td>0.0</td>\n",
       "      <td>0</td>\n",
       "    </tr>\n",
       "    <tr>\n",
       "      <th>1</th>\n",
       "      <td>0.0273</td>\n",
       "      <td>0.0</td>\n",
       "      <td>7.07</td>\n",
       "      <td>0.469</td>\n",
       "      <td>6.421</td>\n",
       "      <td>78.9</td>\n",
       "      <td>4.9671</td>\n",
       "      <td>242</td>\n",
       "      <td>17.8</td>\n",
       "      <td>396.90</td>\n",
       "      <td>9.14</td>\n",
       "      <td>21.6</td>\n",
       "      <td>0.0</td>\n",
       "      <td>1</td>\n",
       "    </tr>\n",
       "    <tr>\n",
       "      <th>2</th>\n",
       "      <td>0.0273</td>\n",
       "      <td>0.0</td>\n",
       "      <td>7.07</td>\n",
       "      <td>0.469</td>\n",
       "      <td>7.185</td>\n",
       "      <td>61.1</td>\n",
       "      <td>4.9671</td>\n",
       "      <td>242</td>\n",
       "      <td>17.8</td>\n",
       "      <td>392.83</td>\n",
       "      <td>4.03</td>\n",
       "      <td>34.7</td>\n",
       "      <td>0.0</td>\n",
       "      <td>1</td>\n",
       "    </tr>\n",
       "    <tr>\n",
       "      <th>3</th>\n",
       "      <td>0.0324</td>\n",
       "      <td>0.0</td>\n",
       "      <td>2.18</td>\n",
       "      <td>0.458</td>\n",
       "      <td>6.998</td>\n",
       "      <td>45.8</td>\n",
       "      <td>6.0622</td>\n",
       "      <td>222</td>\n",
       "      <td>18.7</td>\n",
       "      <td>394.63</td>\n",
       "      <td>2.94</td>\n",
       "      <td>33.4</td>\n",
       "      <td>0.0</td>\n",
       "      <td>2</td>\n",
       "    </tr>\n",
       "    <tr>\n",
       "      <th>4</th>\n",
       "      <td>0.0691</td>\n",
       "      <td>0.0</td>\n",
       "      <td>2.18</td>\n",
       "      <td>0.458</td>\n",
       "      <td>7.147</td>\n",
       "      <td>54.2</td>\n",
       "      <td>6.0622</td>\n",
       "      <td>222</td>\n",
       "      <td>18.7</td>\n",
       "      <td>396.90</td>\n",
       "      <td>5.33</td>\n",
       "      <td>36.2</td>\n",
       "      <td>0.0</td>\n",
       "      <td>2</td>\n",
       "    </tr>\n",
       "  </tbody>\n",
       "</table>\n",
       "</div>"
      ],
      "text/plain": [
       "     crim    zn  indus    nox     rm   age     dis  tax  ptratio       b  \\\n",
       "0  0.0063  18.0   2.31  0.538  6.575  65.2  4.0900  296     15.3  396.90   \n",
       "1  0.0273   0.0   7.07  0.469  6.421  78.9  4.9671  242     17.8  396.90   \n",
       "2  0.0273   0.0   7.07  0.469  7.185  61.1  4.9671  242     17.8  392.83   \n",
       "3  0.0324   0.0   2.18  0.458  6.998  45.8  6.0622  222     18.7  394.63   \n",
       "4  0.0691   0.0   2.18  0.458  7.147  54.2  6.0622  222     18.7  396.90   \n",
       "\n",
       "   lstat  medv  chas_1  rad_encoded  \n",
       "0   4.98  24.0     0.0            0  \n",
       "1   9.14  21.6     0.0            1  \n",
       "2   4.03  34.7     0.0            1  \n",
       "3   2.94  33.4     0.0            2  \n",
       "4   5.33  36.2     0.0            2  "
      ]
     },
     "execution_count": 8,
     "metadata": {},
     "output_type": "execute_result"
    }
   ],
   "source": [
    "df.head()"
   ]
  },
  {
   "cell_type": "markdown",
   "id": "52ee8191",
   "metadata": {
    "id": "52ee8191"
   },
   "source": [
    "\n",
    "### Distribuciones antes de escalar\n",
    "\n",
    "Graficamos algunas variables con diferentes rangos/skew para apreciar el impacto del escalado.\n"
   ]
  },
  {
   "cell_type": "code",
   "execution_count": 9,
   "id": "169aedab",
   "metadata": {
    "language_info": {
     "name": "polyglot-notebook"
    },
    "polyglot_notebook": {
     "kernelName": "csharp"
    }
   },
   "outputs": [
    {
     "data": {
      "image/png": "[encoded data removed]",
      "text/plain": [
       "<Figure size 1200x800 with 12 Axes>"
      ]
     },
     "metadata": {},
     "output_type": "display_data"
    }
   ],
   "source": [
    "# caracteristicas_demo = ['CRIM','ZN','INDUS','NOX','RM','DIS','RAD','TAX','PTRATIO','B','LSTAT']\n",
    "caracteristicas_demo = [col for col in df if col in X.columns]\n",
    "fig, axes = plt.subplots(nrows=3, ncols=4, figsize=(12, 8))\n",
    "axes = axes.ravel()\n",
    "for i, col in enumerate(caracteristicas_demo[:len(axes)]):\n",
    "    axes[i].hist(X[col].dropna(), bins=30)\n",
    "    axes[i].set_title(col)\n",
    "for j in range(i+1, len(axes)):\n",
    "    axes[j].axis('off')\n",
    "plt.tight_layout()\n",
    "plt.show()"
   ]
  },
  {
   "cell_type": "markdown",
   "id": "9f1a84a6",
   "metadata": {
    "id": "9f1a84a6"
   },
   "source": [
    "\n",
    "## Aplicación de escaladores\n",
    "\n",
    "Probamos `MinMaxScaler`, `StandardScaler`, `RobustScaler` y `Normalizer` (L2).  \n",
    "Luego comparamos estadísticas de salida: mínimo, máximo, media y desviación estándar por columna.\n"
   ]
  },
  {
   "cell_type": "code",
   "execution_count": 10,
   "id": "e48f3251",
   "metadata": {
    "language_info": {
     "name": "polyglot-notebook"
    },
    "polyglot_notebook": {
     "kernelName": "csharp"
    }
   },
   "outputs": [],
   "source": [
    "\n",
    "from sklearn.preprocessing import MinMaxScaler, StandardScaler, RobustScaler, Normalizer\n",
    "\n",
    "scalers = {\n",
    "    'MinMaxScaler': MinMaxScaler(),\n",
    "    'StandardScaler': StandardScaler(),\n",
    "    'RobustScaler': RobustScaler(),\n",
    "    'Normalizer(L2 por fila)': Normalizer(norm='l2')\n",
    "}\n",
    "\n",
    "scaled = {}\n",
    "for name, scaler in scalers.items():\n",
    "    if \"Normalizer\" in name:\n",
    "        # Normalizer escala por FILA, así que el resultado no conserva columnas originales al 100% para stats clásicas\n",
    "        X_scaled = pd.DataFrame(scaler.fit_transform(X), columns=X.columns)\n",
    "    else:\n",
    "        X_scaled = pd.DataFrame(scaler.fit_transform(X), columns=X.columns)\n",
    "    scaled[name] = X_scaled\n",
    "\n",
    "# Tabla comparativa de estadísticas\n",
    "def resumir_stats(df, tag):\n",
    "    desc = pd.DataFrame({\n",
    "        ('min', tag): df.min(),\n",
    "        ('max', tag): df.max(),\n",
    "        ('mean', tag): df.mean(),\n",
    "        ('std', tag): df.std(ddof=0)\n",
    "    })\n",
    "    return desc\n",
    "\n",
    "resumen = {}\n",
    "resumen['Original'] = resumir_stats(X, 'Original')\n",
    "for name, df_s in scaled.items():\n",
    "    resumen[name] = resumir_stats(df_s, name)\n",
    "\n"
   ]
  },
  {
   "cell_type": "code",
   "execution_count": 11,
   "id": "abda2cc6",
   "metadata": {
    "language_info": {
     "name": "polyglot-notebook"
    },
    "polyglot_notebook": {
     "kernelName": "csharp"
    }
   },
   "outputs": [],
   "source": [
    "from sklearn.preprocessing import MinMaxScaler, StandardScaler, RobustScaler, Normalizer\n",
    "from sklearn.model_selection import train_test_split\n",
    "import pandas as pd\n",
    "\n",
    "# Dividir el dataset en train y test\n",
    "X_train, X_test = train_test_split(X, test_size=0.2, random_state=42)\n"
   ]
  },
  {
   "cell_type": "code",
   "execution_count": 12,
   "id": "9c939989",
   "metadata": {
    "language_info": {
     "name": "polyglot-notebook"
    },
    "polyglot_notebook": {
     "kernelName": "csharp"
    }
   },
   "outputs": [
    {
     "data": {
      "text/html": [
       "<div>\n",
       "<style scoped>\n",
       "    .dataframe tbody tr th:only-of-type {\n",
       "        vertical-align: middle;\n",
       "    }\n",
       "\n",
       "    .dataframe tbody tr th {\n",
       "        vertical-align: top;\n",
       "    }\n",
       "\n",
       "    .dataframe thead tr th {\n",
       "        text-align: left;\n",
       "    }\n",
       "</style>\n",
       "<table border=\"1\" class=\"dataframe\">\n",
       "  <thead>\n",
       "    <tr>\n",
       "      <th></th>\n",
       "      <th colspan=\"4\" halign=\"left\">Original</th>\n",
       "      <th colspan=\"4\" halign=\"left\">MinMaxScaler</th>\n",
       "      <th colspan=\"4\" halign=\"left\">StandardScaler</th>\n",
       "      <th colspan=\"4\" halign=\"left\">RobustScaler</th>\n",
       "      <th colspan=\"4\" halign=\"left\">Normalizer(L2 por fila)</th>\n",
       "    </tr>\n",
       "    <tr>\n",
       "      <th></th>\n",
       "      <th>min</th>\n",
       "      <th>max</th>\n",
       "      <th>mean</th>\n",
       "      <th>std</th>\n",
       "      <th>min</th>\n",
       "      <th>max</th>\n",
       "      <th>mean</th>\n",
       "      <th>std</th>\n",
       "      <th>min</th>\n",
       "      <th>max</th>\n",
       "      <th>mean</th>\n",
       "      <th>std</th>\n",
       "      <th>min</th>\n",
       "      <th>max</th>\n",
       "      <th>mean</th>\n",
       "      <th>std</th>\n",
       "      <th>min</th>\n",
       "      <th>max</th>\n",
       "      <th>mean</th>\n",
       "      <th>std</th>\n",
       "    </tr>\n",
       "    <tr>\n",
       "      <th></th>\n",
       "      <th>Original</th>\n",
       "      <th>Original</th>\n",
       "      <th>Original</th>\n",
       "      <th>Original</th>\n",
       "      <th>MinMaxScaler</th>\n",
       "      <th>MinMaxScaler</th>\n",
       "      <th>MinMaxScaler</th>\n",
       "      <th>MinMaxScaler</th>\n",
       "      <th>StandardScaler</th>\n",
       "      <th>StandardScaler</th>\n",
       "      <th>StandardScaler</th>\n",
       "      <th>StandardScaler</th>\n",
       "      <th>RobustScaler</th>\n",
       "      <th>RobustScaler</th>\n",
       "      <th>RobustScaler</th>\n",
       "      <th>RobustScaler</th>\n",
       "      <th>Normalizer(L2 por fila)</th>\n",
       "      <th>Normalizer(L2 por fila)</th>\n",
       "      <th>Normalizer(L2 por fila)</th>\n",
       "      <th>Normalizer(L2 por fila)</th>\n",
       "    </tr>\n",
       "  </thead>\n",
       "  <tbody>\n",
       "    <tr>\n",
       "      <th>crim</th>\n",
       "      <td>0.0091</td>\n",
       "      <td>88.9762</td>\n",
       "      <td>3.6091</td>\n",
       "      <td>8.8641</td>\n",
       "      <td>0.0</td>\n",
       "      <td>1.0</td>\n",
       "      <td>0.0405</td>\n",
       "      <td>0.0996</td>\n",
       "      <td>-0.4061</td>\n",
       "      <td>9.6307</td>\n",
       "      <td>-2.6382e-17</td>\n",
       "      <td>1.0</td>\n",
       "      <td>-0.0808</td>\n",
       "      <td>28.4203</td>\n",
       "      <td>1.0725</td>\n",
       "      <td>2.8397</td>\n",
       "      <td>1.8268e-05</td>\n",
       "      <td>0.1131</td>\n",
       "      <td>0.0051</td>\n",
       "      <td>0.0120</td>\n",
       "    </tr>\n",
       "    <tr>\n",
       "      <th>zn</th>\n",
       "      <td>0.0000</td>\n",
       "      <td>100.0000</td>\n",
       "      <td>11.5693</td>\n",
       "      <td>23.1238</td>\n",
       "      <td>0.0</td>\n",
       "      <td>1.0</td>\n",
       "      <td>0.1157</td>\n",
       "      <td>0.2312</td>\n",
       "      <td>-0.5003</td>\n",
       "      <td>3.8242</td>\n",
       "      <td>0.0000e+00</td>\n",
       "      <td>1.0</td>\n",
       "      <td>0.0000</td>\n",
       "      <td>5.0000</td>\n",
       "      <td>0.5785</td>\n",
       "      <td>1.1562</td>\n",
       "      <td>0.0000e+00</td>\n",
       "      <td>0.2076</td>\n",
       "      <td>0.0231</td>\n",
       "      <td>0.0460</td>\n",
       "    </tr>\n",
       "    <tr>\n",
       "      <th>indus</th>\n",
       "      <td>0.7400</td>\n",
       "      <td>27.7400</td>\n",
       "      <td>10.9850</td>\n",
       "      <td>6.8861</td>\n",
       "      <td>0.0</td>\n",
       "      <td>1.0</td>\n",
       "      <td>0.3794</td>\n",
       "      <td>0.2550</td>\n",
       "      <td>-1.4878</td>\n",
       "      <td>2.4332</td>\n",
       "      <td>-4.1771e-17</td>\n",
       "      <td>1.0</td>\n",
       "      <td>-0.6029</td>\n",
       "      <td>1.4788</td>\n",
       "      <td>0.1870</td>\n",
       "      <td>0.5309</td>\n",
       "      <td>1.4390e-03</td>\n",
       "      <td>0.0612</td>\n",
       "      <td>0.0187</td>\n",
       "      <td>0.0110</td>\n",
       "    </tr>\n",
       "    <tr>\n",
       "      <th>chas</th>\n",
       "      <td>0.0000</td>\n",
       "      <td>1.0000</td>\n",
       "      <td>0.0718</td>\n",
       "      <td>0.2581</td>\n",
       "      <td>0.0</td>\n",
       "      <td>1.0</td>\n",
       "      <td>0.0718</td>\n",
       "      <td>0.2581</td>\n",
       "      <td>-0.2781</td>\n",
       "      <td>3.5960</td>\n",
       "      <td>1.3191e-17</td>\n",
       "      <td>1.0</td>\n",
       "      <td>0.0000</td>\n",
       "      <td>1.0000</td>\n",
       "      <td>0.0718</td>\n",
       "      <td>0.2581</td>\n",
       "      <td>0.0000e+00</td>\n",
       "      <td>0.0024</td>\n",
       "      <td>0.0001</td>\n",
       "      <td>0.0005</td>\n",
       "    </tr>\n",
       "    <tr>\n",
       "      <th>nox</th>\n",
       "      <td>0.3850</td>\n",
       "      <td>0.8710</td>\n",
       "      <td>0.5565</td>\n",
       "      <td>0.1176</td>\n",
       "      <td>0.0</td>\n",
       "      <td>1.0</td>\n",
       "      <td>0.3528</td>\n",
       "      <td>0.2419</td>\n",
       "      <td>-1.4587</td>\n",
       "      <td>2.6754</td>\n",
       "      <td>-5.1114e-16</td>\n",
       "      <td>1.0</td>\n",
       "      <td>-0.8547</td>\n",
       "      <td>1.8603</td>\n",
       "      <td>0.1033</td>\n",
       "      <td>0.6568</td>\n",
       "      <td>6.5978e-04</td>\n",
       "      <td>0.0021</td>\n",
       "      <td>0.0010</td>\n",
       "      <td>0.0002</td>\n",
       "    </tr>\n",
       "    <tr>\n",
       "      <th>rm</th>\n",
       "      <td>3.8630</td>\n",
       "      <td>8.7800</td>\n",
       "      <td>6.3159</td>\n",
       "      <td>0.7086</td>\n",
       "      <td>0.0</td>\n",
       "      <td>1.0</td>\n",
       "      <td>0.4989</td>\n",
       "      <td>0.1441</td>\n",
       "      <td>-3.4617</td>\n",
       "      <td>3.4776</td>\n",
       "      <td>-2.6162e-16</td>\n",
       "      <td>1.0</td>\n",
       "      <td>-3.1451</td>\n",
       "      <td>3.4439</td>\n",
       "      <td>0.1419</td>\n",
       "      <td>0.9495</td>\n",
       "      <td>5.2800e-03</td>\n",
       "      <td>0.0182</td>\n",
       "      <td>0.0116</td>\n",
       "      <td>0.0027</td>\n",
       "    </tr>\n",
       "    <tr>\n",
       "      <th>age</th>\n",
       "      <td>2.9000</td>\n",
       "      <td>100.0000</td>\n",
       "      <td>68.5564</td>\n",
       "      <td>27.9603</td>\n",
       "      <td>0.0</td>\n",
       "      <td>1.0</td>\n",
       "      <td>0.6762</td>\n",
       "      <td>0.2880</td>\n",
       "      <td>-2.3482</td>\n",
       "      <td>1.1246</td>\n",
       "      <td>-4.8586e-16</td>\n",
       "      <td>1.0</td>\n",
       "      <td>-1.5551</td>\n",
       "      <td>0.4636</td>\n",
       "      <td>-0.1901</td>\n",
       "      <td>0.5813</td>\n",
       "      <td>6.4315e-03</td>\n",
       "      <td>0.2376</td>\n",
       "      <td>0.1218</td>\n",
       "      <td>0.0492</td>\n",
       "    </tr>\n",
       "    <tr>\n",
       "      <th>dis</th>\n",
       "      <td>1.1296</td>\n",
       "      <td>12.1265</td>\n",
       "      <td>3.8082</td>\n",
       "      <td>2.1286</td>\n",
       "      <td>0.0</td>\n",
       "      <td>1.0</td>\n",
       "      <td>0.2436</td>\n",
       "      <td>0.1936</td>\n",
       "      <td>-1.2584</td>\n",
       "      <td>3.9079</td>\n",
       "      <td>5.2488e-17</td>\n",
       "      <td>1.0</td>\n",
       "      <td>-0.6176</td>\n",
       "      <td>2.7018</td>\n",
       "      <td>0.1909</td>\n",
       "      <td>0.6425</td>\n",
       "      <td>1.4508e-03</td>\n",
       "      <td>0.0276</td>\n",
       "      <td>0.0073</td>\n",
       "      <td>0.0046</td>\n",
       "    </tr>\n",
       "    <tr>\n",
       "      <th>rad</th>\n",
       "      <td>1.0000</td>\n",
       "      <td>24.0000</td>\n",
       "      <td>9.3564</td>\n",
       "      <td>8.5791</td>\n",
       "      <td>0.0</td>\n",
       "      <td>1.0</td>\n",
       "      <td>0.3633</td>\n",
       "      <td>0.3730</td>\n",
       "      <td>-0.9740</td>\n",
       "      <td>1.7069</td>\n",
       "      <td>-9.4534e-17</td>\n",
       "      <td>1.0</td>\n",
       "      <td>-0.5000</td>\n",
       "      <td>2.3750</td>\n",
       "      <td>0.5446</td>\n",
       "      <td>1.0724</td>\n",
       "      <td>1.7300e-03</td>\n",
       "      <td>0.0358</td>\n",
       "      <td>0.0147</td>\n",
       "      <td>0.0106</td>\n",
       "    </tr>\n",
       "    <tr>\n",
       "      <th>tax</th>\n",
       "      <td>187.0000</td>\n",
       "      <td>711.0000</td>\n",
       "      <td>404.0322</td>\n",
       "      <td>165.9669</td>\n",
       "      <td>0.0</td>\n",
       "      <td>1.0</td>\n",
       "      <td>0.4142</td>\n",
       "      <td>0.3167</td>\n",
       "      <td>-1.3077</td>\n",
       "      <td>1.8496</td>\n",
       "      <td>-1.5169e-16</td>\n",
       "      <td>1.0</td>\n",
       "      <td>-0.3695</td>\n",
       "      <td>0.9845</td>\n",
       "      <td>0.1913</td>\n",
       "      <td>0.4289</td>\n",
       "      <td>4.2598e-01</td>\n",
       "      <td>0.9934</td>\n",
       "      <td>0.6889</td>\n",
       "      <td>0.1511</td>\n",
       "    </tr>\n",
       "    <tr>\n",
       "      <th>ptratio</th>\n",
       "      <td>12.6000</td>\n",
       "      <td>22.0000</td>\n",
       "      <td>18.3183</td>\n",
       "      <td>2.2259</td>\n",
       "      <td>0.0</td>\n",
       "      <td>1.0</td>\n",
       "      <td>0.6083</td>\n",
       "      <td>0.2368</td>\n",
       "      <td>-2.5689</td>\n",
       "      <td>1.6540</td>\n",
       "      <td>8.5190e-16</td>\n",
       "      <td>1.0</td>\n",
       "      <td>-1.7941</td>\n",
       "      <td>0.9706</td>\n",
       "      <td>-0.1123</td>\n",
       "      <td>0.6547</td>\n",
       "      <td>2.4088e-02</td>\n",
       "      <td>0.0531</td>\n",
       "      <td>0.0333</td>\n",
       "      <td>0.0060</td>\n",
       "    </tr>\n",
       "    <tr>\n",
       "      <th>b</th>\n",
       "      <td>0.3200</td>\n",
       "      <td>396.9000</td>\n",
       "      <td>356.2783</td>\n",
       "      <td>91.4531</td>\n",
       "      <td>0.0</td>\n",
       "      <td>1.0</td>\n",
       "      <td>0.8976</td>\n",
       "      <td>0.2306</td>\n",
       "      <td>-3.8922</td>\n",
       "      <td>0.4442</td>\n",
       "      <td>-4.9465e-16</td>\n",
       "      <td>1.0</td>\n",
       "      <td>-19.2770</td>\n",
       "      <td>0.2759</td>\n",
       "      <td>-1.7269</td>\n",
       "      <td>4.5090</td>\n",
       "      <td>4.7500e-04</td>\n",
       "      <td>0.8906</td>\n",
       "      <td>0.6601</td>\n",
       "      <td>0.2096</td>\n",
       "    </tr>\n",
       "    <tr>\n",
       "      <th>lstat</th>\n",
       "      <td>1.7300</td>\n",
       "      <td>37.9700</td>\n",
       "      <td>12.4574</td>\n",
       "      <td>7.1016</td>\n",
       "      <td>0.0</td>\n",
       "      <td>1.0</td>\n",
       "      <td>0.2960</td>\n",
       "      <td>0.1960</td>\n",
       "      <td>-1.5106</td>\n",
       "      <td>3.5925</td>\n",
       "      <td>-1.7917e-16</td>\n",
       "      <td>1.0</td>\n",
       "      <td>-0.9578</td>\n",
       "      <td>2.8172</td>\n",
       "      <td>0.1596</td>\n",
       "      <td>0.7397</td>\n",
       "      <td>3.0995e-03</td>\n",
       "      <td>0.0701</td>\n",
       "      <td>0.0218</td>\n",
       "      <td>0.0114</td>\n",
       "    </tr>\n",
       "  </tbody>\n",
       "</table>\n",
       "</div>"
      ],
      "text/plain": [
       "         Original                               MinMaxScaler               \\\n",
       "              min       max      mean       std          min          max   \n",
       "         Original  Original  Original  Original MinMaxScaler MinMaxScaler   \n",
       "crim       0.0091   88.9762    3.6091    8.8641          0.0          1.0   \n",
       "zn         0.0000  100.0000   11.5693   23.1238          0.0          1.0   \n",
       "indus      0.7400   27.7400   10.9850    6.8861          0.0          1.0   \n",
       "chas       0.0000    1.0000    0.0718    0.2581          0.0          1.0   \n",
       "nox        0.3850    0.8710    0.5565    0.1176          0.0          1.0   \n",
       "rm         3.8630    8.7800    6.3159    0.7086          0.0          1.0   \n",
       "age        2.9000  100.0000   68.5564   27.9603          0.0          1.0   \n",
       "dis        1.1296   12.1265    3.8082    2.1286          0.0          1.0   \n",
       "rad        1.0000   24.0000    9.3564    8.5791          0.0          1.0   \n",
       "tax      187.0000  711.0000  404.0322  165.9669          0.0          1.0   \n",
       "ptratio   12.6000   22.0000   18.3183    2.2259          0.0          1.0   \n",
       "b          0.3200  396.9000  356.2783   91.4531          0.0          1.0   \n",
       "lstat      1.7300   37.9700   12.4574    7.1016          0.0          1.0   \n",
       "\n",
       "                                  StandardScaler                 \\\n",
       "                mean          std            min            max   \n",
       "        MinMaxScaler MinMaxScaler StandardScaler StandardScaler   \n",
       "crim          0.0405       0.0996        -0.4061         9.6307   \n",
       "zn            0.1157       0.2312        -0.5003         3.8242   \n",
       "indus         0.3794       0.2550        -1.4878         2.4332   \n",
       "chas          0.0718       0.2581        -0.2781         3.5960   \n",
       "nox           0.3528       0.2419        -1.4587         2.6754   \n",
       "rm            0.4989       0.1441        -3.4617         3.4776   \n",
       "age           0.6762       0.2880        -2.3482         1.1246   \n",
       "dis           0.2436       0.1936        -1.2584         3.9079   \n",
       "rad           0.3633       0.3730        -0.9740         1.7069   \n",
       "tax           0.4142       0.3167        -1.3077         1.8496   \n",
       "ptratio       0.6083       0.2368        -2.5689         1.6540   \n",
       "b             0.8976       0.2306        -3.8922         0.4442   \n",
       "lstat         0.2960       0.1960        -1.5106         3.5925   \n",
       "\n",
       "                                      RobustScaler                            \\\n",
       "                  mean            std          min          max         mean   \n",
       "        StandardScaler StandardScaler RobustScaler RobustScaler RobustScaler   \n",
       "crim       -2.6382e-17            1.0      -0.0808      28.4203       1.0725   \n",
       "zn          0.0000e+00            1.0       0.0000       5.0000       0.5785   \n",
       "indus      -4.1771e-17            1.0      -0.6029       1.4788       0.1870   \n",
       "chas        1.3191e-17            1.0       0.0000       1.0000       0.0718   \n",
       "nox        -5.1114e-16            1.0      -0.8547       1.8603       0.1033   \n",
       "rm         -2.6162e-16            1.0      -3.1451       3.4439       0.1419   \n",
       "age        -4.8586e-16            1.0      -1.5551       0.4636      -0.1901   \n",
       "dis         5.2488e-17            1.0      -0.6176       2.7018       0.1909   \n",
       "rad        -9.4534e-17            1.0      -0.5000       2.3750       0.5446   \n",
       "tax        -1.5169e-16            1.0      -0.3695       0.9845       0.1913   \n",
       "ptratio     8.5190e-16            1.0      -1.7941       0.9706      -0.1123   \n",
       "b          -4.9465e-16            1.0     -19.2770       0.2759      -1.7269   \n",
       "lstat      -1.7917e-16            1.0      -0.9578       2.8172       0.1596   \n",
       "\n",
       "                     Normalizer(L2 por fila)                          \\\n",
       "                 std                     min                     max   \n",
       "        RobustScaler Normalizer(L2 por fila) Normalizer(L2 por fila)   \n",
       "crim          2.8397              1.8268e-05                  0.1131   \n",
       "zn            1.1562              0.0000e+00                  0.2076   \n",
       "indus         0.5309              1.4390e-03                  0.0612   \n",
       "chas          0.2581              0.0000e+00                  0.0024   \n",
       "nox           0.6568              6.5978e-04                  0.0021   \n",
       "rm            0.9495              5.2800e-03                  0.0182   \n",
       "age           0.5813              6.4315e-03                  0.2376   \n",
       "dis           0.6425              1.4508e-03                  0.0276   \n",
       "rad           1.0724              1.7300e-03                  0.0358   \n",
       "tax           0.4289              4.2598e-01                  0.9934   \n",
       "ptratio       0.6547              2.4088e-02                  0.0531   \n",
       "b             4.5090              4.7500e-04                  0.8906   \n",
       "lstat         0.7397              3.0995e-03                  0.0701   \n",
       "\n",
       "                                                         \n",
       "                           mean                     std  \n",
       "        Normalizer(L2 por fila) Normalizer(L2 por fila)  \n",
       "crim                     0.0051                  0.0120  \n",
       "zn                       0.0231                  0.0460  \n",
       "indus                    0.0187                  0.0110  \n",
       "chas                     0.0001                  0.0005  \n",
       "nox                      0.0010                  0.0002  \n",
       "rm                       0.0116                  0.0027  \n",
       "age                      0.1218                  0.0492  \n",
       "dis                      0.0073                  0.0046  \n",
       "rad                      0.0147                  0.0106  \n",
       "tax                      0.6889                  0.1511  \n",
       "ptratio                  0.0333                  0.0060  \n",
       "b                        0.6601                  0.2096  \n",
       "lstat                    0.0218                  0.0114  "
      ]
     },
     "execution_count": 12,
     "metadata": {},
     "output_type": "execute_result"
    }
   ],
   "source": [
    "\n",
    "scalers = {\n",
    "    'MinMaxScaler': MinMaxScaler(),\n",
    "    'StandardScaler': StandardScaler(),\n",
    "    'RobustScaler': RobustScaler(),\n",
    "    'Normalizer(L2 por fila)': Normalizer(norm='l2')\n",
    "}\n",
    "\n",
    "# Diccionarios para almacenar los datos escalados\n",
    "scaled_train = {}\n",
    "scaled_test = {}\n",
    "\n",
    "for name, scaler in scalers.items():\n",
    "    if \"Normalizer\" in name:\n",
    "        # Normalizer escala por FILA\n",
    "        X_train_scaled = pd.DataFrame(scaler.fit_transform(X_train), \n",
    "                                    columns=X_train.columns, \n",
    "                                    index=X_train.index)\n",
    "\n",
    "    else:\n",
    "        # Para otros scalers: fit solo con train, transform a ambos\n",
    "        X_train_scaled = pd.DataFrame(scaler.fit_transform(X_train), \n",
    "                                    columns=X_train.columns, \n",
    "                                    index=X_train.index)\n",
    "    \n",
    "    scaled_train[name] = X_train_scaled\n",
    "\n",
    "# Función para resumir estadísticas\n",
    "def resumir_stats(df, tag):\n",
    "    desc = pd.DataFrame({\n",
    "        ('min', tag): df.min(),\n",
    "        ('max', tag): df.max(),\n",
    "        ('mean', tag): df.mean(),\n",
    "        ('std', tag): df.std(ddof=0)\n",
    "    })\n",
    "    return desc\n",
    "\n",
    "# Crear comparativa solo con los datos de entrenamiento (original vs escalados)\n",
    "resumen = {}\n",
    "resumen['Original'] = resumir_stats(X_train, 'Original')\n",
    "\n",
    "for name, df_s in scaled_train.items():\n",
    "    resumen[name] = resumir_stats(df_s, name)\n",
    "\n",
    "# Unir por columnas multi-índice\n",
    "comparativa_train = pd.concat(resumen.values(), axis=1, keys=resumen.keys())\n",
    "comparativa_train\n"
   ]
  },
  {
   "cell_type": "markdown",
   "id": "9e4ab44a",
   "metadata": {
    "id": "9e4ab44a"
   },
   "source": [
    "\n",
    "### Efecto en una variable con outliers (ej.: `CRIM` o `LSTAT`)\n",
    "\n",
    "Comparamos histogramas **antes vs. después** con `MinMaxScaler`, `StandardScaler` y `RobustScaler`.\n"
   ]
  },
  {
   "cell_type": "code",
   "execution_count": 13,
   "id": "9792cf09",
   "metadata": {
    "language_info": {
     "name": "polyglot-notebook"
    },
    "polyglot_notebook": {
     "kernelName": "csharp"
    }
   },
   "outputs": [
    {
     "data": {
      "image/png": "[encoded data removed]",
      "text/plain": [
       "<Figure size 1400x300 with 4 Axes>"
      ]
     },
     "metadata": {},
     "output_type": "display_data"
    }
   ],
   "source": [
    "feature = 'CRIM' if 'CRIM' in X.columns else X.columns[0]\n",
    "\n",
    "fig, axes = plt.subplots(1, 4, figsize=(14, 3))\n",
    "axes[0].hist(X[feature], bins=30)\n",
    "axes[0].set_title(f'{feature} (Original)')\n",
    "\n",
    "for ax, (name, df_s) in zip(axes[1:], [('MinMax', scaled['MinMaxScaler']),\n",
    "                                       ('Standard', scaled['StandardScaler']),\n",
    "                                       ('Robust', scaled['RobustScaler'])],):\n",
    "    ax.hist(df_s[feature], bins=30)\n",
    "    ax.set_title(f'{feature} ({name})')\n",
    "\n",
    "plt.tight_layout()\n",
    "plt.show()\n"
   ]
  },
  {
   "cell_type": "markdown",
   "id": "4234702f",
   "metadata": {
    "id": "4234702f"
   },
   "source": [
    "\n",
    "## Impacto del escalado en modelos\n",
    "\n",
    "Comparamos un modelo **sensible a la escala** (KNN) y uno **menos sensible** (regresión lineal).  \n",
    "Medimos RMSE en *hold-out* simple y/o con validación cruzada.\n"
   ]
  },
  {
   "cell_type": "code",
   "execution_count": 14,
   "id": "691ff4e4",
   "metadata": {
    "language_info": {
     "name": "polyglot-notebook"
    },
    "polyglot_notebook": {
     "kernelName": "csharp"
    }
   },
   "outputs": [
    {
     "name": "stdout",
     "output_type": "stream",
     "text": [
      "== KNN Regressor ==\n",
      "KNN SIN escalado                     RMSE = 5.085\n",
      "KNN con StandardScaler               RMSE = 4.539\n",
      "KNN con MinMaxScaler                 RMSE = 4.660\n",
      "KNN con RobustScaler                 RMSE = 4.615\n",
      "\n",
      "== Regresión Lineal ==\n",
      "LinearRegression SIN escalado        RMSE = 4.929\n",
      "LinearRegression con StandardScaler  RMSE = 4.929\n"
     ]
    }
   ],
   "source": [
    "\n",
    "from sklearn.model_selection import train_test_split, cross_val_score\n",
    "from sklearn.pipeline import Pipeline\n",
    "from sklearn.neighbors import KNeighborsRegressor\n",
    "from sklearn.linear_model import LinearRegression\n",
    "from sklearn.metrics import mean_squared_error\n",
    "import numpy as np\n",
    "from sklearn.metrics import mean_squared_error\n",
    "\n",
    "# Dividir en conjunto de entrenamiento y prueba\n",
    "X_train, X_test, y_train, y_test = train_test_split(X, y, test_size=0.2, random_state=42)\n",
    "\n",
    "\n",
    "def evaluar(modelo, X_tr, X_te, y_tr, y_te, label):\n",
    "    modelo.fit(X_tr, y_tr)\n",
    "    pred = modelo.predict(X_te)\n",
    "    # Compatibilidad universal: RMSE = sqrt(MSE)\n",
    "    rmse = np.sqrt(mean_squared_error(y_te, pred))\n",
    "    print(f\"{label:35s}  RMSE = {rmse:.3f}\")\n",
    "    return rmse\n",
    "\n",
    "\n",
    "print(\"== KNN Regressor ==\")\n",
    "rmse_knn_sin = evaluar(KNeighborsRegressor(n_neighbors=5), X_train, X_test, y_train, y_test, \"KNN SIN escalado\")\n",
    "rmse_knn_std = evaluar(Pipeline([('scaler', StandardScaler()), ('knn', KNeighborsRegressor(n_neighbors=5))]),\n",
    "                       X_train, X_test, y_train, y_test, \"KNN con StandardScaler\")\n",
    "rmse_knn_mm = evaluar(Pipeline([('scaler', MinMaxScaler()), ('knn', KNeighborsRegressor(n_neighbors=5))]),\n",
    "                      X_train, X_test, y_train, y_test, \"KNN con MinMaxScaler\")\n",
    "rmse_knn_rob = evaluar(Pipeline([('scaler', RobustScaler()), ('knn', KNeighborsRegressor(n_neighbors=5))]),\n",
    "                       X_train, X_test, y_train, y_test, \"KNN con RobustScaler\")\n",
    "\n",
    "print(\"\\n== Regresión Lineal ==\")\n",
    "rmse_lr_sin = evaluar(LinearRegression(), X_train, X_test, y_train, y_test, \"LinearRegression SIN escalado\")\n",
    "rmse_lr_std = evaluar(Pipeline([('scaler', StandardScaler()), ('lr', LinearRegression())]),\n",
    "                      X_train, X_test, y_train, y_test, \"LinearRegression con StandardScaler\")\n"
   ]
  },
  {
   "cell_type": "markdown",
   "id": "8f41293b",
   "metadata": {
    "id": "8f41293b"
   },
   "source": [
    "\n",
    "## Buenas prácticas (checklist)\n",
    "\n",
    "- **Divide** siempre en *train/test* (y opcionalmente *validation* o *CV*), y ajusta el **escalador solo con `train`**.  \n",
    "  Aplica la transformación a `test` usando los **parámetros del train** (evita *data leakage*).\n",
    "- En producción, guarda el escalador (p. ej., `Pipeline` o `sklearn.preprocessing` + `joblib`).  \n",
    "- Prueba **varios escaladores** si hay outliers; evalúa impacto en métricas y **estabilidad**.\n",
    "- Para modelos lineales regularizados (Ridge/Lasso/ElasticNet), la estandarización facilita la **interpretación** de coeficientes y la correcta **regularización**.\n",
    "- Para KNN/SVM/clustering, la **escala** es crítica: usa `Pipeline` con `StandardScaler` o `RobustScaler`.\n"
   ]
  },
  {
   "cell_type": "markdown",
   "id": "33f26f19",
   "metadata": {
    "id": "33f26f19"
   },
   "source": [
    "\n",
    "## Conclusiones\n",
    "\n",
    "- **Escalar** reduce el sesgo de variables con gran rango y **mejora** modelos basados en distancia.  \n",
    "- **Estandarizar (Z-score)** es un punto de partida sólido; considera `RobustScaler` si hay outliers.  \n",
    "- **Min–Max** es útil cuando necesitas rango acotado o redes neuronales con activaciones sensibles a rangos.  \n",
    "- **Normalizer** es otra herramienta útil cuando la **dirección** del vector es lo más importante.\n"
   ]
  },
  {
   "cell_type": "markdown",
   "id": "fdTj3miIQiC_",
   "metadata": {
    "id": "fdTj3miIQiC_"
   },
   "source": [
    "# ACTIVIDADES DEL TALLER:"
   ]
  },
  {
   "cell_type": "markdown",
   "id": "f9507de3",
   "metadata": {},
   "source": [
    "# BOSTON HOUSING DATASET"
   ]
  },
  {
   "cell_type": "code",
   "execution_count": 15,
   "id": "708afe7a",
   "metadata": {
    "language_info": {
     "name": "polyglot-notebook"
    },
    "polyglot_notebook": {
     "kernelName": "csharp"
    }
   },
   "outputs": [],
   "source": [
    "import pandas as pd\n",
    "import numpy as np\n",
    "from sklearn.preprocessing import StandardScaler, MinMaxScaler\n",
    "from sklearn.neighbors import KNeighborsClassifier\n",
    "from sklearn.cluster import KMeans\n",
    "from sklearn.svm import SVC\n",
    "from sklearn.neural_network import MLPClassifier\n",
    "from sklearn.metrics import accuracy_score"
   ]
  },
  {
   "cell_type": "code",
   "execution_count": 16,
   "id": "0e1a11d4",
   "metadata": {
    "language_info": {
     "name": "polyglot-notebook"
    },
    "polyglot_notebook": {
     "kernelName": "csharp"
    }
   },
   "outputs": [
    {
     "name": "stdout",
     "output_type": "stream",
     "text": [
      "\n",
      "DETECCION DE VALORES ATIPICOS (Metodo IQR):\n",
      "   crim    :  66 valores atipicos (13.0%)\n",
      "   zn      :  68 valores atipicos (13.4%)\n",
      "   rm      :  30 valores atipicos (5.9%)\n",
      "   dis     :   5 valores atipicos (1.0%)\n",
      "   ptratio :  15 valores atipicos (3.0%)\n",
      "   b       :  77 valores atipicos (15.2%)\n",
      "   lstat   :   7 valores atipicos (1.4%)\n",
      "   medv    :  40 valores atipicos (7.9%)\n",
      "   chas_1  :  35 valores atipicos (6.9%)\n"
     ]
    }
   ],
   "source": [
    "# Identificar columnas numericas\n",
    "numeric_cols = df.select_dtypes(include=[np.number]).columns.tolist()\n",
    "\n",
    "# Deteccion de valores atipicos (metodo IQR)\n",
    "print(f\"\\nDETECCION DE VALORES ATIPICOS (Metodo IQR):\")\n",
    "outliers_found = False\n",
    "for col in numeric_cols:\n",
    "    Q1 = df[col].quantile(0.25)\n",
    "    Q3 = df[col].quantile(0.75)\n",
    "    IQR = Q3 - Q1\n",
    "    lower_bound = Q1 - 1.5 * IQR\n",
    "    upper_bound = Q3 + 1.5 * IQR\n",
    "    outliers_mask = (df[col] < lower_bound) | (df[col] > upper_bound)\n",
    "    outliers_count = outliers_mask.sum()\n",
    "    if outliers_count > 0:\n",
    "        outliers_pct = outliers_count / len(df) * 100\n",
    "        print(f\"   {col:8s}: {outliers_count:3d} valores atipicos ({outliers_pct:.1f}%)\")\n",
    "        outliers_found = True\n",
    "\n",
    "if not outliers_found:\n",
    "    print(\"   No se detectaron valores atipicos usando el metodo IQR\")"
   ]
  },
  {
   "cell_type": "code",
   "execution_count": 17,
   "id": "9b881090",
   "metadata": {
    "language_info": {
     "name": "polyglot-notebook"
    },
    "polyglot_notebook": {
     "kernelName": "csharp"
    }
   },
   "outputs": [
    {
     "name": "stdout",
     "output_type": "stream",
     "text": [
      "\n",
      "RESUMEN DE CALIDAD DE DATOS:\n",
      "   Total de celdas: 7,084\n",
      "   Celdas faltantes: 0 (0.00%)\n",
      "   Filas duplicadas: 0 (0.00%)\n",
      "   Completitud de datos: 100.00%\n",
      "\n",
      "============================================================\n",
      "Perfilado completo finalizado\n",
      "============================================================\n"
     ]
    }
   ],
   "source": [
    "\n",
    "\n",
    "# 5. ANALISIS DE VARIABLES CATEGORICAS\n",
    "cat_cols = df.select_dtypes(include=['object', 'category']).columns.tolist()\n",
    "if cat_cols:\n",
    "    print(f\"\\nANALISIS DE VARIABLES CATEGORICAS ({len(cat_cols)} columnas):\")\n",
    "    for col in cat_cols:\n",
    "        unique_count = df[col].nunique()\n",
    "        most_frequent = df[col].mode().iloc[0] if len(df[col].mode()) > 0 else 'N/A'\n",
    "        print(f\"\\n   {col}:\")\n",
    "        print(f\"     - Valores unicos: {unique_count}\")\n",
    "        print(f\"     - Mas frecuente: {most_frequent}\")\n",
    "        \n",
    "        if unique_count <= 20:  # Mostrar distribucion para cardinalidad baja\n",
    "            value_counts = df[col].value_counts().head(10)\n",
    "            print(f\"     - Valores principales:\")\n",
    "            for val, count in value_counts.items():\n",
    "                pct = count / len(df) * 100\n",
    "                print(f\"       {val}: {count} ({pct:.1f}%)\")\n",
    "\n",
    "# 6. RESUMEN DE CALIDAD DE DATOS\n",
    "print(f\"\\nRESUMEN DE CALIDAD DE DATOS:\")\n",
    "total_cells = df.shape[0] * df.shape[1]\n",
    "missing_cells = df.isnull().sum().sum()\n",
    "duplicate_rows = df.duplicated().sum()\n",
    "\n",
    "print(f\"   Total de celdas: {total_cells:,}\")\n",
    "print(f\"   Celdas faltantes: {missing_cells:,} ({missing_cells/total_cells*100:.2f}%)\")\n",
    "print(f\"   Filas duplicadas: {duplicate_rows:,} ({duplicate_rows/len(df)*100:.2f}%)\")\n",
    "print(f\"   Completitud de datos: {(1-missing_cells/total_cells)*100:.2f}%\")\n",
    "\n",
    "print(f\"\\n{'=' * 60}\")\n",
    "print(\"Perfilado completo finalizado\")\n",
    "print(f\"{'=' * 60}\")"
   ]
  },
  {
   "cell_type": "markdown",
   "id": "9abd2e6f",
   "metadata": {},
   "source": [
    "# Responda las siguientes preguntas con EVIDENCIA DE EJECUCIÓN:"
   ]
  },
  {
   "cell_type": "markdown",
   "id": "9d68e37d",
   "metadata": {},
   "source": [
    "¿Por qué KNN mejora significativamente con escalado, mientras que la regresión lineal casi no cambia?\n",
    "\n",
    "¿En qué situaciones prácticas de la vida real te preocuparía más la escala de los datos?\n",
    "\n",
    "¿Qué riesgos existen si escalas mal (ej. aplicas fit_transform al conjunto completo antes de dividir en train/test)?\n",
    "\n",
    "¿Cuál escalador recomendarías si tu dataset tiene muchos outliers? ¿Y si necesitas que tus datos estén entre [0,1]?"
   ]
  },
  {
   "cell_type": "markdown",
   "id": "1e1c4f1f",
   "metadata": {},
   "source": [
    "# RESPUESTAS A LAS PREGUNTAS DEL TALLER CON EVIDENCIA\n",
    "\n",
    "A continuación se presentan las respuestas detalladas con evidencia de ejecución para cada pregunta del taller."
   ]
  },
  {
   "cell_type": "markdown",
   "id": "d1d7fcd6",
   "metadata": {},
   "source": [
    "# PREGUNTA 1: ¿Por qué KNN mejora significativamente con escalado, mientras que la regresión lineal casi no cambia?"
   ]
  },
  {
   "cell_type": "markdown",
   "id": "c9799cd5",
   "metadata": {},
   "source": [
    "#### POR QUÉ KNN ES SENSIBLE AL ESCALADO:\n",
    "\n",
    "KNN usa DISTANCIA EUCLIDIANA para encontrar vecinos cercanos\n",
    "La distancia euclidiana = √[(x₁-y₁)² + (x₂-y₂)² + ... + (xₙ-yₙ)²]\n",
    "Variables con rangos grandes DOMINAN el cálculo de distancia\n",
    "\n",
    "**Ejemplo con nuestros datos:**\n",
    "- 'TAX' tiene rango ~524 (muy grande)\n",
    "- 'NOX' tiene rango ~0.49 (muy pequeño)\n",
    "\n",
    "**Sin escalado:** 'TAX' controla la distancia, 'NOX' se ignora prácticamente\n",
    "**Con escalado:** todas las variables contribuyen equitativamente\n",
    "\n",
    "#### POR QUÉ REGRESIÓN LINEAL ES MENOS SENSIBLE:\n",
    "\n",
    "Regresión lineal: y = β₀ + β₁x₁ + β₂x₂ + ... + βₙxₙ\n",
    "Los coeficientes β se AJUSTAN automáticamente a la escala de cada variable\n",
    "Una variable con rango grande tendrá un coeficiente pequeño\n",
    "Una variable con rango pequeño tendrá un coeficiente grande\n",
    "\n",
    "**El modelo se auto-compensa, reduciendo el impacto del escalado**"
   ]
  },
  {
   "cell_type": "code",
   "execution_count": 18,
   "id": "73cfa908",
   "metadata": {
    "language_info": {
     "name": "polyglot-notebook"
    },
    "polyglot_notebook": {
     "kernelName": "csharp"
    }
   },
   "outputs": [
    {
     "name": "stdout",
     "output_type": "stream",
     "text": [
      "\n",
      "COMPARACION DE RENDIMIENTO:\n",
      "\n",
      "KNN Regressor:\n",
      "   Sin escalado:          RMSE = 5.085\n",
      "   Con StandardScaler:    RMSE = 4.539\n",
      "   Con MinMaxScaler:      RMSE = 4.660\n",
      "   Con RobustScaler:      RMSE = 4.615\n",
      "\n",
      "Mejoras en KNN:\n",
      "   StandardScaler: 10.7% de mejora\n",
      "   MinMaxScaler:   8.4% de mejora\n",
      "   RobustScaler:   9.2% de mejora\n",
      "\n",
      "Regresion Lineal:\n",
      "   Sin escalado:          RMSE = 4.929\n",
      "   Con StandardScaler:    RMSE = 4.929\n",
      "\n",
      "Mejora en Regresion Lineal:\n",
      "   StandardScaler: 0.0% de mejora\n"
     ]
    }
   ],
   "source": [
    "# Comparacion de resultados (ya calculados anteriormente)\n",
    "print(f\"\\nCOMPARACION DE RENDIMIENTO:\")\n",
    "print(f\"\\nKNN Regressor:\")\n",
    "print(f\"   Sin escalado:          RMSE = {rmse_knn_sin:.3f}\")\n",
    "print(f\"   Con StandardScaler:    RMSE = {rmse_knn_std:.3f}\")\n",
    "print(f\"   Con MinMaxScaler:      RMSE = {rmse_knn_mm:.3f}\")\n",
    "print(f\"   Con RobustScaler:      RMSE = {rmse_knn_rob:.3f}\")\n",
    "\n",
    "mejora_knn_std = ((rmse_knn_sin - rmse_knn_std) / rmse_knn_sin) * 100\n",
    "mejora_knn_mm = ((rmse_knn_sin - rmse_knn_mm) / rmse_knn_sin) * 100\n",
    "mejora_knn_rob = ((rmse_knn_sin - rmse_knn_rob) / rmse_knn_sin) * 100\n",
    "\n",
    "print(f\"\\nMejoras en KNN:\")\n",
    "print(f\"   StandardScaler: {mejora_knn_std:.1f}% de mejora\")\n",
    "print(f\"   MinMaxScaler:   {mejora_knn_mm:.1f}% de mejora\")\n",
    "print(f\"   RobustScaler:   {mejora_knn_rob:.1f}% de mejora\")\n",
    "\n",
    "print(f\"\\nRegresion Lineal:\")\n",
    "print(f\"   Sin escalado:          RMSE = {rmse_lr_sin:.3f}\")\n",
    "print(f\"   Con StandardScaler:    RMSE = {rmse_lr_std:.3f}\")\n",
    "\n",
    "mejora_lr = ((rmse_lr_sin - rmse_lr_std) / rmse_lr_sin) * 100\n",
    "print(f\"\\nMejora en Regresion Lineal:\")\n",
    "print(f\"   StandardScaler: {mejora_lr:.1f}% de mejora\")"
   ]
  },
  {
   "cell_type": "markdown",
   "id": "c2ae6dd0",
   "metadata": {},
   "source": [
    "# PREGUNTA 2: ¿En qué situaciones prácticas de la vida real te preocuparía más la escala de los datos?"
   ]
  },
  {
   "cell_type": "markdown",
   "id": "301de6ba",
   "metadata": {},
   "source": [
    "\n",
    "## Indicadores de que Necesitas Escalado\n",
    "\n",
    "- **Diferentes unidades de medida** (euros, metros, días, porcentajes)\n",
    "- **Rangos de magnitudes muy diferentes** (1-10 vs 1000-100000)\n",
    "- **Uso de algoritmos basados en distancia** (KNN, SVM, clustering)\n",
    "- **Redes neuronales o algoritmos de gradiente descendente**\n",
    "- **Variables importantes con rangos pequeños siendo ignoradas**\n",
    "- **Necesidad de convergencia rápida en optimización**\n",
    "- **Análisis de componentes principales (PCA)**\n",
    "- **Detección de anomalías o outliers**\n",
    "\n",
    "## Casos donde la Escala es Más Crítica\n",
    "\n",
    "- **Salud**: Diagnósticos automáticos, dosificación de medicamentos\n",
    "- **Finanzas**: Detección de fraude, evaluación crediticia, trading algorítmico\n",
    "- **Transporte**: Vehículos autónomos, optimización de rutas\n",
    "- **Seguridad**: Detección de intrusiones, reconocimiento biométrico\n",
    "- **Tecnología**: Sistemas de recomendación, reconocimiento de patrones\n",
    "- **Industria**: Control de calidad, mantenimiento predictivo\n",
    "- **Marketing**: Segmentación de clientes, personalización\n",
    "- **Investigación**: Análisis de datos científicos, estudios clínicos"
   ]
  },
  {
   "cell_type": "code",
   "execution_count": 19,
   "id": "6419b11f",
   "metadata": {
    "language_info": {
     "name": "polyglot-notebook"
    },
    "polyglot_notebook": {
     "kernelName": "csharp"
    }
   },
   "outputs": [
    {
     "name": "stdout",
     "output_type": "stream",
     "text": [
      "\n",
      "EJEMPLO PRACTICO: DETECCION DE FRAUDE BANCARIO\n",
      "============================================================\n",
      "RANGOS DE VARIABLES (Deteccion Fraude):\n",
      "   monto_transaccion   : [     1.0 -  10000.0]\n",
      "   frecuencia_diaria   : [     0.0 -     19.0]\n",
      "   dias_desde_ultima   : [     0.0 -     16.1]\n",
      "   ubicaciones_diferentes: [     0.0 -      8.0]\n",
      "   hora_transaccion    : [     0.0 -     24.0]\n",
      "\n",
      "IMPACTO EN DETECCION:\n",
      "   Algoritmos de distancia priorizaran 'monto_transaccion'\n",
      "   Patrones temporales ('hora_transaccion') se perderian\n",
      "   Falsos negativos en fraudes de bajo monto pero alta frecuencia\n"
     ]
    }
   ],
   "source": [
    "print(\"\\nEJEMPLO PRACTICO: DETECCION DE FRAUDE BANCARIO\")\n",
    "print(\"=\" * 60)\n",
    "\n",
    "# Simulemos transacciones bancarias\n",
    "fraude_data = pd.DataFrame({\n",
    "    'monto_transaccion': np.random.lognormal(4, 2, 1000).clip(1, 10000),\n",
    "    'frecuencia_diaria': np.random.poisson(8, 1000),\n",
    "    'dias_desde_ultima': np.random.exponential(2, 1000).clip(0, 30),\n",
    "    'ubicaciones_diferentes': np.random.poisson(2, 1000),\n",
    "    'hora_transaccion': np.random.uniform(0, 24, 1000)\n",
    "})\n",
    "\n",
    "print(\"RANGOS DE VARIABLES (Deteccion Fraude):\")\n",
    "for col in fraude_data.columns:\n",
    "    min_val = fraude_data[col].min()\n",
    "    max_val = fraude_data[col].max()\n",
    "    print(f\"   {col:20s}: [{min_val:8.1f} - {max_val:8.1f}]\")\n",
    "\n",
    "print(f\"\\nIMPACTO EN DETECCION:\")\n",
    "print(f\"   Algoritmos de distancia priorizaran 'monto_transaccion'\")\n",
    "print(f\"   Patrones temporales ('hora_transaccion') se perderian\")\n",
    "print(f\"   Falsos negativos en fraudes de bajo monto pero alta frecuencia\")"
   ]
  },
  {
   "cell_type": "code",
   "execution_count": 20,
   "id": "abaee931",
   "metadata": {
    "language_info": {
     "name": "polyglot-notebook"
    },
    "polyglot_notebook": {
     "kernelName": "csharp"
    }
   },
   "outputs": [
    {
     "name": "stdout",
     "output_type": "stream",
     "text": [
      "\n",
      "EJEMPLO PRACTICO: DIAGNOSTICO MEDICO\n",
      "============================================================\n",
      "RANGOS DE VARIABLES (Diagnostico Medico):\n",
      "   edad_paciente     : [  18.0 -   90.0]\n",
      "   presion_sistolica : [  90.0 -  189.4]\n",
      "   colesterol        : [ 120.0 -  307.0]\n",
      "   glucosa           : [  70.0 -  181.0]\n",
      "   imc               : [  15.0 -   38.1]\n",
      "   frecuencia_cardiaca: [  50.0 -  114.7]\n",
      "\n",
      "RIESGO CLINICO:\n",
      "   'colesterol' podria dominar diagnosticos de enfermedades cardiacas\n",
      "   'frecuencia_cardiaca' seria subvalorada\n",
      "   Errores diagnosticos con consecuencias graves\n",
      "============================================================\n"
     ]
    }
   ],
   "source": [
    "print(\"\\nEJEMPLO PRACTICO: DIAGNOSTICO MEDICO\")\n",
    "print(\"=\" * 60)\n",
    "\n",
    "# Simulemos datos medicos\n",
    "medico_data = pd.DataFrame({\n",
    "    'edad_paciente': np.random.normal(45, 15, 500).clip(18, 90),\n",
    "    'presion_sistolica': np.random.normal(130, 20, 500).clip(90, 200),\n",
    "    'colesterol': np.random.normal(200, 40, 500).clip(120, 350),\n",
    "    'glucosa': np.random.normal(100, 25, 500).clip(70, 200),\n",
    "    'imc': np.random.normal(26, 5, 500).clip(15, 45),\n",
    "    'frecuencia_cardiaca': np.random.normal(75, 12, 500).clip(50, 120)\n",
    "})\n",
    "\n",
    "print(\"RANGOS DE VARIABLES (Diagnostico Medico):\")\n",
    "for col in medico_data.columns:\n",
    "    min_val = medico_data[col].min()\n",
    "    max_val = medico_data[col].max()\n",
    "    print(f\"   {col:18s}: [{min_val:6.1f} - {max_val:6.1f}]\")\n",
    "    \n",
    "print(f\"\\nRIESGO CLINICO:\")\n",
    "print(f\"   'colesterol' podria dominar diagnosticos de enfermedades cardiacas\")\n",
    "print(f\"   'frecuencia_cardiaca' seria subvalorada\")\n",
    "print(f\"   Errores diagnosticos con consecuencias graves\")\n",
    "print(\"=\" * 60)"
   ]
  },
  {
   "cell_type": "markdown",
   "id": "fba0388d",
   "metadata": {},
   "source": [
    "# PREGUNTA 3: ¿Qué riesgos existen si escalas mal (ej. aplicas fit_transform al conjunto completo antes de dividir en train/test)?"
   ]
  },
  {
   "cell_type": "markdown",
   "id": "c64e93a5",
   "metadata": {},
   "source": [
    "El principal riesgo es el data leakage (fuga de datos): los parámetros del escalador (ej. media, min/max) se calculan con información del test set, lo que \"filtra\" conocimiento futuro al entrenamiento, inflando artificialmente el rendimiento en validación (overfitting aparente)."
   ]
  },
  {
   "cell_type": "code",
   "execution_count": 21,
   "id": "76af731c",
   "metadata": {
    "language_info": {
     "name": "polyglot-notebook"
    },
    "polyglot_notebook": {
     "kernelName": "csharp"
    }
   },
   "outputs": [
    {
     "name": "stdout",
     "output_type": "stream",
     "text": [
      "================================================================================\n",
      "RIESGOS DEL ESCALADO INCORRECTO: DATA LEAKAGE\n",
      "================================================================================\n",
      "\n",
      "EXPERIMENTO: Comparando escalado correcto vs. incorrecto\n",
      "============================================================\n",
      "Dataset: Boston Housing (506 muestras, 13 caracteristicas)\n",
      "\n",
      "METODO INCORRECTO (Data Leakage):\n",
      "   1. Aplicar fit_transform() a TODO el dataset\n",
      "   2. Dividir en train/test despues del escalado\n",
      "   RMSE con escalado INCORRECTO: 4.545\n"
     ]
    }
   ],
   "source": [
    "# ==================================================\n",
    "# EVIDENCIA PREGUNTA 3: Demostracion del Data Leakage por escalado incorrecto\n",
    "# ==================================================\n",
    "\n",
    "print(\"=\" * 80)\n",
    "print(\"RIESGOS DEL ESCALADO INCORRECTO: DATA LEAKAGE\")\n",
    "print(\"=\" * 80)\n",
    "\n",
    "print(\"\\nEXPERIMENTO: Comparando escalado correcto vs. incorrecto\")\n",
    "print(\"=\" * 60)\n",
    "\n",
    "# Usaremos nuestros datos de Boston Housing\n",
    "print(f\"Dataset: Boston Housing ({X.shape[0]} muestras, {X.shape[1]} caracteristicas)\")\n",
    "\n",
    "# METODO INCORRECTO: Escalar todo el dataset antes de dividir\n",
    "print(\"\\nMETODO INCORRECTO (Data Leakage):\")\n",
    "print(\"   1. Aplicar fit_transform() a TODO el dataset\")\n",
    "print(\"   2. Dividir en train/test despues del escalado\")\n",
    "\n",
    "# Escalado incorrecto\n",
    "scaler_incorrecto = StandardScaler()\n",
    "X_scaled_incorrecto = scaler_incorrecto.fit_transform(X)  # ESCALADO EN TODO EL DATASET\n",
    "X_train_inc, X_test_inc, y_train_inc, y_test_inc = train_test_split(X_scaled_incorrecto, y, test_size=0.2, random_state=42)\n",
    "\n",
    "model_incorrecto = KNeighborsRegressor(n_neighbors=5)\n",
    "model_incorrecto.fit(X_train_inc, y_train_inc)\n",
    "pred_incorrecto = model_incorrecto.predict(X_test_inc)\n",
    "rmse_incorrecto = np.sqrt(mean_squared_error(y_test_inc, pred_incorrecto))\n",
    "\n",
    "print(f\"   RMSE con escalado INCORRECTO: {rmse_incorrecto:.3f}\")"
   ]
  },
  {
   "cell_type": "markdown",
   "id": "4c18ff22",
   "metadata": {},
   "source": [
    "### MÉTODO CORRECTO (Sin Data Leakage)\n",
    "\n",
    "1. Dividir dataset en train/test PRIMERO\n",
    "2. fit() el escalador SOLO en train\n",
    "3. transform() tanto train como test con parámetros de train"
   ]
  },
  {
   "cell_type": "code",
   "execution_count": 22,
   "id": "3bd9071a",
   "metadata": {
    "language_info": {
     "name": "polyglot-notebook"
    },
    "polyglot_notebook": {
     "kernelName": "csharp"
    }
   },
   "outputs": [
    {
     "name": "stdout",
     "output_type": "stream",
     "text": [
      "RMSE con escalado CORRECTO: 4.539\n"
     ]
    }
   ],
   "source": [
    "# Division correcta primero\n",
    "X_train_corr, X_test_corr, y_train_corr, y_test_corr = train_test_split( X, y, test_size=0.2, random_state=42)\n",
    "\n",
    "# Escalado correcto\n",
    "scaler_correcto = StandardScaler()\n",
    "X_train_scaled_corr = scaler_correcto.fit_transform(X_train_corr)      # FIT solo en train\n",
    "X_test_scaled_corr = scaler_correcto.transform(X_test_corr)            # TRANSFORM en test\n",
    "\n",
    "model_correcto = KNeighborsRegressor(n_neighbors=5)\n",
    "model_correcto.fit(X_train_scaled_corr, y_train_corr)\n",
    "pred_correcto = model_correcto.predict(X_test_scaled_corr)\n",
    "rmse_correcto = np.sqrt(mean_squared_error(y_test_corr, pred_correcto))\n",
    "\n",
    "print(f\"RMSE con escalado CORRECTO: {rmse_correcto:.3f}\")"
   ]
  },
  {
   "cell_type": "code",
   "execution_count": 23,
   "id": "a006a8f1",
   "metadata": {
    "language_info": {
     "name": "polyglot-notebook"
    },
    "polyglot_notebook": {
     "kernelName": "csharp"
    }
   },
   "outputs": [
    {
     "name": "stdout",
     "output_type": "stream",
     "text": [
      "\n",
      "COMPARACION:\n",
      "   Diferencia en RMSE: 0.006\n",
      "   Mejora aparente (incorrecta): 0.1%\n",
      "   El metodo correcto es mejor o igual\n",
      "\n",
      "ANALISIS TECNICO DEL DATA LEAKAGE:\n",
      "============================================================\n"
     ]
    }
   ],
   "source": [
    "# Comparacion\n",
    "diferencia = rmse_incorrecto - rmse_correcto\n",
    "print(f\"\\nCOMPARACION:\")\n",
    "print(f\"   Diferencia en RMSE: {diferencia:.3f}\")\n",
    "print(f\"   Mejora aparente (incorrecta): {diferencia/rmse_correcto*100:.1f}%\")\n",
    "\n",
    "if rmse_incorrecto < rmse_correcto:\n",
    "    print(f\"   El metodo INCORRECTO parece 'mejor' - esto es data leakage!\")\n",
    "else:\n",
    "    print(f\"   El metodo correcto es mejor o igual\")\n",
    "\n",
    "print(f\"\\nANALISIS TECNICO DEL DATA LEAKAGE:\")\n",
    "print(\"=\" * 60)"
   ]
  },
  {
   "cell_type": "markdown",
   "id": "2f602a3f",
   "metadata": {},
   "source": [
    "## Data Leakage en Machine Learning\n",
    "### Definición\n",
    "\n",
    "Data Leakage (Filtrado de Datos) ocurre cuando información del conjunto de prueba se \"filtra\" inadvertidamente en el proceso de entrenamiento del modelo, resultando en métricas de rendimiento optimistas pero no generalizables."
   ]
  },
  {
   "cell_type": "markdown",
   "id": "5882748a",
   "metadata": {},
   "source": [
    "## Tipos de Data Leakage en Escalado\n",
    "\n",
    "### Leakage Estadístico\n",
    "- Los parámetros de escalado (media, std) incluyen información del test set\n",
    "- El modelo 'conoce' indirectamente los datos de prueba\n",
    "- Estimación optimista del rendimiento\n",
    "\n",
    "### Leakage Temporal\n",
    "- En series temporales: usar datos futuros para escalar datos pasados\n",
    "- Ejemplo: usar estadísticas de 2023 para escalar datos de 2020\n",
    "- Imposible en producción real\n",
    "\n",
    "### Leakage de Outliers\n",
    "- Outliers en test set afectan el escalado de train set\n",
    "- MinMaxScaler especialmente vulnerable\n",
    "- Sesgos en la detección de anomalías\n",
    "\n",
    "### Leakage en Validación Cruzada\n",
    "- Escalar antes de hacer CV folds\n",
    "- Cada fold 'conoce' datos de otros folds\n",
    "- Métricas de validación no confiables"
   ]
  },
  {
   "cell_type": "markdown",
   "id": "6401f6ad",
   "metadata": {},
   "source": [
    "## Buenas Prácticas para Evitar Data Leakage\n",
    "\n",
    "1. **SIEMPRE dividir en train/test ANTES de cualquier preprocesamiento**\n",
    "2. **fit() escaladores SOLO en datos de entrenamiento**\n",
    "3. **transform() test set con parámetros aprendidos del train**\n",
    "4. **En producción: guardar el escalador entrenado para nuevos datos**\n",
    "5. **En validación cruzada: incluir escalado DENTRO de cada fold**\n",
    "6. **Para series temporales: usar escalado móvil o expanding window**\n",
    "7. **Documentar y validar el pipeline de preprocesamiento**\n",
    "8. **Usar Pipeline de sklearn para automatizar el proceso**"
   ]
  },
  {
   "cell_type": "markdown",
   "id": "8550a332",
   "metadata": {},
   "source": [
    "# PREGUNTA 4: ¿Cuál escalador recomendarías si tu dataset tiene muchos outliers? ¿Y si necesitas que tus datos estén entre [0,1]?"
   ]
  },
  {
   "cell_type": "markdown",
   "id": "b33bff4b",
   "metadata": {},
   "source": [
    "Cuando hay outliers (valores muy alejados del resto), algunos escaladores pueden verse muy afectados:\n",
    "\n",
    "__RobustScaler:__ Es el más recomendado en este caso, porque usa la mediana y el rango intercuartílico (IQR), que no se ven tan afectados por los outliers. Así, la mayoría de los datos se escalan de forma más representativa.\n",
    "\n",
    "__StandardScaler:__ Escala usando la media y desviación estándar. Si hay outliers, la media y la desviación se distorsionan, y la mayoría de los datos quedan “apretados” cerca de 0.\n",
    "\n",
    "__MinMaxScaler:__ Escala usando el valor mínimo y máximo. Si hay outliers, el rango se amplía mucho y la mayoría de los datos quedan cerca de 0.\n",
    "\n",
    "__Normalizer__ (L2): Este escalador no es para columnas, sino para filas (cada muestra). Es útil cuando lo importante es la dirección del vector de características, no su magnitud (por ejemplo, en texto o conteos).\n",
    "\n",
    "Ejemplo con BostonHousing:\n",
    "Columnas como CRIM y LSTAT tienen outliers. Al usar RobustScaler, la forma de la distribución central se mantiene y los valores extremos no afectan tanto.\n",
    "\n"
   ]
  },
  {
   "cell_type": "markdown",
   "id": "1c590b8f",
   "metadata": {},
   "source": [
    "Datos estén entre [0,1]\n",
    "\n",
    "__MinMaxScaler__ es el más adecuado, porque transforma todos los valores para que el mínimo sea 0 y el máximo sea 1.\n",
    "\n",
    "**Precaución:** Si hay outliers, la mayoría de los datos quedarán cerca de 0.\n",
    "\n",
    "__StandardScaler__ y __RobustScaler__ no garantizan el rango [0,1], pero sí ayudan a que los datos tengan una escala comparable.\n",
    "\n",
    "__Normalizer (L2)__ tampoco garantiza [0,1] por columna, sino que cada fila tendrá norma 1.\n"
   ]
  },
  {
   "cell_type": "markdown",
   "id": "28e2e24e",
   "metadata": {},
   "source": [
    "| Escalador           | ¿Robusto a outliers? | ¿Rango [0,1]? | ¿Cuándo usarlo?                           |\n",
    "|---------------------|---------------------|---------------|-------------------------------------------|\n",
    "| StandardScaler      | No                  | No            | Datos normales, sin muchos outliers       |\n",
    "| MinMaxScaler        | No                  | Sí            | Cuando necesitas [0,1] y no hay outliers fuertes |\n",
    "| RobustScaler        | Sí                  | No            | Cuando hay outliers                       |\n",
    "| Normalizer (L2)     | No                  | No            | Cuando importa la dirección del vector (por fila) |"
   ]
  },
  {
   "cell_type": "markdown",
   "id": "1c06e9a7",
   "metadata": {},
   "source": [
    "### Para Datasets con Muchos Outliers\n",
    "\n",
    "**Recomendado: RobustScaler**\n",
    "- Usa mediana e IQR (menos sensible a outliers)\n",
    "- Mantiene la forma de la distribución central\n",
    "- No garantiza rango específico\n",
    "\n",
    "**Evitar: MinMaxScaler**\n",
    "- Muy sensible a outliers\n",
    "- Un solo outlier puede comprimir todos los demás valores"
   ]
  }
 ],
 "metadata": {
  "colab": {
   "provenance": []
  },
  "kernelspec": {
   "display_name": ".venv",
   "language": "python",
   "name": "python3"
  },
  "language_info": {
   "codemirror_mode": {
    "name": "ipython",
    "version": 3
   },
   "file_extension": ".py",
   "mimetype": "text/x-python",
   "name": "python",
   "nbconvert_exporter": "python",
   "pygments_lexer": "ipython3",
   "version": "3.13.7"
  },
  "polyglot_notebook": {
   "kernelInfo": {
    "defaultKernelName": "csharp",
    "items": [
     {
      "aliases": [],
      "name": "csharp"
     }
    ]
   }
  }
 },
 "nbformat": 4,
 "nbformat_minor": 5
}
