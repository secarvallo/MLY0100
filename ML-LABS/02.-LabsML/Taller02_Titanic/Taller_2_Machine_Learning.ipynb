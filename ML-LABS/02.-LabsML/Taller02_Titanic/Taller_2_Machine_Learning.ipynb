{
 "cells": [
  {
   "cell_type": "markdown",
   "id": "f2874248",
   "metadata": {
    "id": "f2874248"
   },
   "source": [
    "\n",
    "# Taller de análisis exploratorio"
   ]
  },
  {
   "cell_type": "markdown",
   "id": "07456771",
   "metadata": {
    "id": "07456771"
   },
   "source": [
    "Nombres:\n",
    "\n"
   ]
  },
  {
   "cell_type": "markdown",
   "id": "46371338",
   "metadata": {
    "id": "46371338"
   },
   "source": [
    "Para poder realizar cualquier análisis usaremos siempre estas librerias para empezar\n"
   ]
  },
  {
   "cell_type": "code",
   "id": "588fbe75",
   "metadata": {
    "id": "588fbe75",
    "ExecuteTime": {
     "end_time": "2025-09-01T23:11:05.314588Z",
     "start_time": "2025-09-01T23:11:05.302073Z"
    }
   },
   "source": [
    "import numpy as np\n",
    "import pandas as pd\n",
    "import matplotlib.pyplot as plt\n",
    "import seaborn as sns"
   ],
   "outputs": [],
   "execution_count": 2
  },
  {
   "cell_type": "code",
   "id": "e96f0424",
   "metadata": {
    "id": "e96f0424",
    "ExecuteTime": {
     "end_time": "2025-09-01T23:11:07.322120Z",
     "start_time": "2025-09-01T23:11:07.288983Z"
    }
   },
   "source": [
    "# Realizamos la carga de datos.\n",
    "data = pd.read_csv(\"titanic3.csv\")\n"
   ],
   "outputs": [],
   "execution_count": 3
  },
  {
   "cell_type": "code",
   "id": "a31beb7b",
   "metadata": {
    "id": "a31beb7b",
    "outputId": "421b0b83-3c94-4860-f1c3-d9aa43640fd4",
    "ExecuteTime": {
     "end_time": "2025-08-30T17:33:25.266294Z",
     "start_time": "2025-08-30T17:33:25.256295Z"
    }
   },
   "source": [
    "# Revisar los tipos de datos.\n",
    "data.dtypes"
   ],
   "outputs": [
    {
     "data": {
      "text/plain": [
       "pclass         int64\n",
       "survived       int64\n",
       "name          object\n",
       "sex           object\n",
       "age          float64\n",
       "sibsp          int64\n",
       "parch          int64\n",
       "ticket        object\n",
       "fare         float64\n",
       "cabin         object\n",
       "embarked      object\n",
       "boat          object\n",
       "body         float64\n",
       "home.dest     object\n",
       "dtype: object"
      ]
     },
     "execution_count": 3,
     "metadata": {},
     "output_type": "execute_result"
    }
   ],
   "execution_count": 3
  },
  {
   "cell_type": "code",
   "id": "5f87b44c",
   "metadata": {
    "id": "5f87b44c",
    "outputId": "cbb773d9-bfff-41ea-e39b-1e5ba3fe1495",
    "ExecuteTime": {
     "end_time": "2025-08-30T17:33:25.344542Z",
     "start_time": "2025-08-30T17:33:25.316949Z"
    }
   },
   "source": [
    "# Obtención de algunas medidas estadísticas\n",
    "data.describe()\n"
   ],
   "outputs": [
    {
     "data": {
      "text/plain": [
       "            pclass     survived          age        sibsp        parch  \\\n",
       "count  1309.000000  1309.000000  1046.000000  1309.000000  1309.000000   \n",
       "mean      2.294882     0.381971    29.881135     0.498854     0.385027   \n",
       "std       0.837836     0.486055    14.413500     1.041658     0.865560   \n",
       "min       1.000000     0.000000     0.166700     0.000000     0.000000   \n",
       "25%       2.000000     0.000000    21.000000     0.000000     0.000000   \n",
       "50%       3.000000     0.000000    28.000000     0.000000     0.000000   \n",
       "75%       3.000000     1.000000    39.000000     1.000000     0.000000   \n",
       "max       3.000000     1.000000    80.000000     8.000000     9.000000   \n",
       "\n",
       "              fare        body  \n",
       "count  1308.000000  121.000000  \n",
       "mean     33.295479  160.809917  \n",
       "std      51.758668   97.696922  \n",
       "min       0.000000    1.000000  \n",
       "25%       7.895800   72.000000  \n",
       "50%      14.454200  155.000000  \n",
       "75%      31.275000  256.000000  \n",
       "max     512.329200  328.000000  "
      ],
      "text/html": [
       "<div>\n",
       "<style scoped>\n",
       "    .dataframe tbody tr th:only-of-type {\n",
       "        vertical-align: middle;\n",
       "    }\n",
       "\n",
       "    .dataframe tbody tr th {\n",
       "        vertical-align: top;\n",
       "    }\n",
       "\n",
       "    .dataframe thead th {\n",
       "        text-align: right;\n",
       "    }\n",
       "</style>\n",
       "<table border=\"1\" class=\"dataframe\">\n",
       "  <thead>\n",
       "    <tr style=\"text-align: right;\">\n",
       "      <th></th>\n",
       "      <th>pclass</th>\n",
       "      <th>survived</th>\n",
       "      <th>age</th>\n",
       "      <th>sibsp</th>\n",
       "      <th>parch</th>\n",
       "      <th>fare</th>\n",
       "      <th>body</th>\n",
       "    </tr>\n",
       "  </thead>\n",
       "  <tbody>\n",
       "    <tr>\n",
       "      <th>count</th>\n",
       "      <td>1309.000000</td>\n",
       "      <td>1309.000000</td>\n",
       "      <td>1046.000000</td>\n",
       "      <td>1309.000000</td>\n",
       "      <td>1309.000000</td>\n",
       "      <td>1308.000000</td>\n",
       "      <td>121.000000</td>\n",
       "    </tr>\n",
       "    <tr>\n",
       "      <th>mean</th>\n",
       "      <td>2.294882</td>\n",
       "      <td>0.381971</td>\n",
       "      <td>29.881135</td>\n",
       "      <td>0.498854</td>\n",
       "      <td>0.385027</td>\n",
       "      <td>33.295479</td>\n",
       "      <td>160.809917</td>\n",
       "    </tr>\n",
       "    <tr>\n",
       "      <th>std</th>\n",
       "      <td>0.837836</td>\n",
       "      <td>0.486055</td>\n",
       "      <td>14.413500</td>\n",
       "      <td>1.041658</td>\n",
       "      <td>0.865560</td>\n",
       "      <td>51.758668</td>\n",
       "      <td>97.696922</td>\n",
       "    </tr>\n",
       "    <tr>\n",
       "      <th>min</th>\n",
       "      <td>1.000000</td>\n",
       "      <td>0.000000</td>\n",
       "      <td>0.166700</td>\n",
       "      <td>0.000000</td>\n",
       "      <td>0.000000</td>\n",
       "      <td>0.000000</td>\n",
       "      <td>1.000000</td>\n",
       "    </tr>\n",
       "    <tr>\n",
       "      <th>25%</th>\n",
       "      <td>2.000000</td>\n",
       "      <td>0.000000</td>\n",
       "      <td>21.000000</td>\n",
       "      <td>0.000000</td>\n",
       "      <td>0.000000</td>\n",
       "      <td>7.895800</td>\n",
       "      <td>72.000000</td>\n",
       "    </tr>\n",
       "    <tr>\n",
       "      <th>50%</th>\n",
       "      <td>3.000000</td>\n",
       "      <td>0.000000</td>\n",
       "      <td>28.000000</td>\n",
       "      <td>0.000000</td>\n",
       "      <td>0.000000</td>\n",
       "      <td>14.454200</td>\n",
       "      <td>155.000000</td>\n",
       "    </tr>\n",
       "    <tr>\n",
       "      <th>75%</th>\n",
       "      <td>3.000000</td>\n",
       "      <td>1.000000</td>\n",
       "      <td>39.000000</td>\n",
       "      <td>1.000000</td>\n",
       "      <td>0.000000</td>\n",
       "      <td>31.275000</td>\n",
       "      <td>256.000000</td>\n",
       "    </tr>\n",
       "    <tr>\n",
       "      <th>max</th>\n",
       "      <td>3.000000</td>\n",
       "      <td>1.000000</td>\n",
       "      <td>80.000000</td>\n",
       "      <td>8.000000</td>\n",
       "      <td>9.000000</td>\n",
       "      <td>512.329200</td>\n",
       "      <td>328.000000</td>\n",
       "    </tr>\n",
       "  </tbody>\n",
       "</table>\n",
       "</div>"
      ]
     },
     "execution_count": 4,
     "metadata": {},
     "output_type": "execute_result"
    }
   ],
   "execution_count": 4
  },
  {
   "cell_type": "code",
   "id": "b6b15da8",
   "metadata": {
    "id": "b6b15da8",
    "outputId": "0463c59a-4bfe-4302-c41a-9d0b9c1fa0b1",
    "ExecuteTime": {
     "end_time": "2025-08-30T17:33:25.531506Z",
     "start_time": "2025-08-30T17:33:25.513998Z"
    }
   },
   "source": [
    "data.sample(3)"
   ],
   "outputs": [
    {
     "data": {
      "text/plain": [
       "     pclass  survived                       name   sex   age  sibsp  parch  \\\n",
       "578       2         0       Ware, Mr. John James  male  30.0      1      0   \n",
       "561       2         0  Sjostedt, Mr. Ernst Adolf  male  59.0      0      0   \n",
       "855       3         0   Hassan, Mr. Houssein G N  male  11.0      0      0   \n",
       "\n",
       "       ticket     fare cabin embarked boat  body  \\\n",
       "578  CA 31352  21.0000   NaN        S  NaN   NaN   \n",
       "561    237442  13.5000   NaN        S  NaN   NaN   \n",
       "855      2699  18.7875   NaN        C  NaN   NaN   \n",
       "\n",
       "                              home.dest  \n",
       "578  Bristol, England / New Britain, CT  \n",
       "561                  Sault St Marie, ON  \n",
       "855                                 NaN  "
      ],
      "text/html": [
       "<div>\n",
       "<style scoped>\n",
       "    .dataframe tbody tr th:only-of-type {\n",
       "        vertical-align: middle;\n",
       "    }\n",
       "\n",
       "    .dataframe tbody tr th {\n",
       "        vertical-align: top;\n",
       "    }\n",
       "\n",
       "    .dataframe thead th {\n",
       "        text-align: right;\n",
       "    }\n",
       "</style>\n",
       "<table border=\"1\" class=\"dataframe\">\n",
       "  <thead>\n",
       "    <tr style=\"text-align: right;\">\n",
       "      <th></th>\n",
       "      <th>pclass</th>\n",
       "      <th>survived</th>\n",
       "      <th>name</th>\n",
       "      <th>sex</th>\n",
       "      <th>age</th>\n",
       "      <th>sibsp</th>\n",
       "      <th>parch</th>\n",
       "      <th>ticket</th>\n",
       "      <th>fare</th>\n",
       "      <th>cabin</th>\n",
       "      <th>embarked</th>\n",
       "      <th>boat</th>\n",
       "      <th>body</th>\n",
       "      <th>home.dest</th>\n",
       "    </tr>\n",
       "  </thead>\n",
       "  <tbody>\n",
       "    <tr>\n",
       "      <th>578</th>\n",
       "      <td>2</td>\n",
       "      <td>0</td>\n",
       "      <td>Ware, Mr. John James</td>\n",
       "      <td>male</td>\n",
       "      <td>30.0</td>\n",
       "      <td>1</td>\n",
       "      <td>0</td>\n",
       "      <td>CA 31352</td>\n",
       "      <td>21.0000</td>\n",
       "      <td>NaN</td>\n",
       "      <td>S</td>\n",
       "      <td>NaN</td>\n",
       "      <td>NaN</td>\n",
       "      <td>Bristol, England / New Britain, CT</td>\n",
       "    </tr>\n",
       "    <tr>\n",
       "      <th>561</th>\n",
       "      <td>2</td>\n",
       "      <td>0</td>\n",
       "      <td>Sjostedt, Mr. Ernst Adolf</td>\n",
       "      <td>male</td>\n",
       "      <td>59.0</td>\n",
       "      <td>0</td>\n",
       "      <td>0</td>\n",
       "      <td>237442</td>\n",
       "      <td>13.5000</td>\n",
       "      <td>NaN</td>\n",
       "      <td>S</td>\n",
       "      <td>NaN</td>\n",
       "      <td>NaN</td>\n",
       "      <td>Sault St Marie, ON</td>\n",
       "    </tr>\n",
       "    <tr>\n",
       "      <th>855</th>\n",
       "      <td>3</td>\n",
       "      <td>0</td>\n",
       "      <td>Hassan, Mr. Houssein G N</td>\n",
       "      <td>male</td>\n",
       "      <td>11.0</td>\n",
       "      <td>0</td>\n",
       "      <td>0</td>\n",
       "      <td>2699</td>\n",
       "      <td>18.7875</td>\n",
       "      <td>NaN</td>\n",
       "      <td>C</td>\n",
       "      <td>NaN</td>\n",
       "      <td>NaN</td>\n",
       "      <td>NaN</td>\n",
       "    </tr>\n",
       "  </tbody>\n",
       "</table>\n",
       "</div>"
      ]
     },
     "execution_count": 5,
     "metadata": {},
     "output_type": "execute_result"
    }
   ],
   "execution_count": 5
  },
  {
   "cell_type": "code",
   "id": "36e59b38",
   "metadata": {
    "id": "36e59b38",
    "outputId": "851bdd84-5916-409e-838e-0f7bcf213e73",
    "ExecuteTime": {
     "end_time": "2025-08-30T17:33:25.626781Z",
     "start_time": "2025-08-30T17:33:25.620678Z"
    }
   },
   "source": [
    "data.shape[0], data.shape[1]  #  = data.shape"
   ],
   "outputs": [
    {
     "data": {
      "text/plain": [
       "(1309, 14)"
      ]
     },
     "execution_count": 6,
     "metadata": {},
     "output_type": "execute_result"
    }
   ],
   "execution_count": 6
  },
  {
   "cell_type": "code",
   "id": "72d8dcd6",
   "metadata": {
    "id": "72d8dcd6",
    "outputId": "fc601682-04dd-4638-ea1f-067891a86a2a",
    "ExecuteTime": {
     "end_time": "2025-08-30T17:33:25.752492Z",
     "start_time": "2025-08-30T17:33:25.742494Z"
    }
   },
   "source": [
    "data.shape   # data.shape[0], data.shape[1]"
   ],
   "outputs": [
    {
     "data": {
      "text/plain": [
       "(1309, 14)"
      ]
     },
     "execution_count": 7,
     "metadata": {},
     "output_type": "execute_result"
    }
   ],
   "execution_count": 7
  },
  {
   "cell_type": "code",
   "id": "0609cb95",
   "metadata": {
    "id": "0609cb95",
    "outputId": "7c846f61-272c-4c7d-e460-aa233375be1e",
    "ExecuteTime": {
     "end_time": "2025-08-30T17:33:25.814775Z",
     "start_time": "2025-08-30T17:33:25.793763Z"
    }
   },
   "source": [
    "# Consulta para saber si existen valores vacíos en todo el dataframe.\n",
    "data.isna().sum()"
   ],
   "outputs": [
    {
     "data": {
      "text/plain": [
       "pclass          0\n",
       "survived        0\n",
       "name            0\n",
       "sex             0\n",
       "age           263\n",
       "sibsp           0\n",
       "parch           0\n",
       "ticket          0\n",
       "fare            1\n",
       "cabin        1014\n",
       "embarked        2\n",
       "boat          823\n",
       "body         1188\n",
       "home.dest     564\n",
       "dtype: int64"
      ]
     },
     "execution_count": 8,
     "metadata": {},
     "output_type": "execute_result"
    }
   ],
   "execution_count": 8
  },
  {
   "cell_type": "code",
   "id": "5b808059",
   "metadata": {
    "id": "5b808059",
    "outputId": "23c06b60-edb6-4c63-9db4-c7478c423259",
    "ExecuteTime": {
     "end_time": "2025-08-30T17:33:25.891341Z",
     "start_time": "2025-08-30T17:33:25.881827Z"
    }
   },
   "source": [
    "# las variables categoricas del dataframe.\n",
    "variables_categoricas= data.select_dtypes(exclude=np.number).columns.to_list()\n",
    "variables_categoricas"
   ],
   "outputs": [
    {
     "data": {
      "text/plain": [
       "['name', 'sex', 'ticket', 'cabin', 'embarked', 'boat', 'home.dest']"
      ]
     },
     "execution_count": 9,
     "metadata": {},
     "output_type": "execute_result"
    }
   ],
   "execution_count": 9
  },
  {
   "cell_type": "code",
   "id": "67152dbd",
   "metadata": {
    "id": "67152dbd",
    "outputId": "d3b01e94-baa5-46cb-d57d-898624af4bdf",
    "ExecuteTime": {
     "end_time": "2025-08-30T17:33:26.015987Z",
     "start_time": "2025-08-30T17:33:26.001978Z"
    }
   },
   "source": [
    "# Las variables numéricas del dataframe.\n",
    "variables_numericas= data.select_dtypes(include=np.number).columns.to_list()\n",
    "variables_numericas"
   ],
   "outputs": [
    {
     "data": {
      "text/plain": [
       "['pclass', 'survived', 'age', 'sibsp', 'parch', 'fare', 'body']"
      ]
     },
     "execution_count": 10,
     "metadata": {},
     "output_type": "execute_result"
    }
   ],
   "execution_count": 10
  },
  {
   "cell_type": "code",
   "id": "ab1102fb",
   "metadata": {
    "id": "ab1102fb",
    "outputId": "61a4b6a2-8b3f-4fc1-9a77-eabd61a95eb1",
    "ExecuteTime": {
     "end_time": "2025-08-30T17:33:26.077792Z",
     "start_time": "2025-08-30T17:33:26.064029Z"
    }
   },
   "source": [
    "# Filas unicas de una variable en particular, en este caso de pclass\"\"\n",
    "valores_unicos = data['pclass'].unique()\n",
    "valores_unicos"
   ],
   "outputs": [
    {
     "data": {
      "text/plain": [
       "array([1, 2, 3])"
      ]
     },
     "execution_count": 11,
     "metadata": {},
     "output_type": "execute_result"
    }
   ],
   "execution_count": 11
  },
  {
   "cell_type": "code",
   "id": "7a6ae7b5",
   "metadata": {
    "id": "7a6ae7b5",
    "outputId": "5594bf66-23c2-49ff-ffea-6804c60e8036",
    "ExecuteTime": {
     "end_time": "2025-08-30T17:33:26.278741Z",
     "start_time": "2025-08-30T17:33:26.106314Z"
    }
   },
   "source": [
    "#Gráfico 1 de barras\n",
    "k = int(np.ceil(1+np.log2(data.shape[0]))) # código de la ley de sturges!!!!\n",
    "data['age'].hist(bins=k, figsize=(8,6)).set_title(\"Distribución edad\")\n",
    "plt.xlabel('Edad')\n",
    "plt.ylabel('Frecuencia')\n",
    "plt.show()"
   ],
   "outputs": [
    {
     "data": {
      "text/plain": [
       "<Figure size 800x600 with 1 Axes>"
      ],
      "image/png": "[encoded data removed]"
     },
     "metadata": {},
     "output_type": "display_data"
    }
   ],
   "execution_count": 12
  },
  {
   "cell_type": "code",
   "id": "c5fb720c",
   "metadata": {
    "id": "c5fb720c",
    "outputId": "f15e0dda-cf67-46fb-b6a1-717bad25e800",
    "ExecuteTime": {
     "end_time": "2025-08-30T17:33:26.341280Z",
     "start_time": "2025-08-30T17:33:26.284741Z"
    }
   },
   "source": [
    "#Gráfico 2 torta\n",
    "data['sex'].value_counts().plot.pie(figsize=(5,5), autopct=\"%0.1f %%\");"
   ],
   "outputs": [
    {
     "data": {
      "text/plain": [
       "<Figure size 500x500 with 1 Axes>"
      ],
      "image/png": "[encoded data removed]"
     },
     "metadata": {},
     "output_type": "display_data"
    }
   ],
   "execution_count": 13
  },
  {
   "cell_type": "code",
   "id": "b0436b86",
   "metadata": {
    "id": "b0436b86",
    "outputId": "88a7c105-61a9-48cb-9dd4-b1de1ad8709b",
    "ExecuteTime": {
     "end_time": "2025-08-30T17:33:26.467321Z",
     "start_time": "2025-08-30T17:33:26.347280Z"
    }
   },
   "source": [
    "#Gráfico 3 histograma\n",
    "data['survived'].plot.hist();"
   ],
   "outputs": [
    {
     "data": {
      "text/plain": [
       "<Figure size 640x480 with 1 Axes>"
      ],
      "image/png": "[encoded data removed]"
     },
     "metadata": {},
     "output_type": "display_data"
    }
   ],
   "execution_count": 14
  },
  {
   "cell_type": "code",
   "id": "118f5cbc",
   "metadata": {
    "id": "118f5cbc",
    "outputId": "48929dd2-b5bc-4e4a-f4df-8f8744728875",
    "ExecuteTime": {
     "end_time": "2025-08-30T17:33:26.529058Z",
     "start_time": "2025-08-30T17:33:26.506547Z"
    }
   },
   "source": [
    "#Tablas pivote\n",
    "superviviente_por_genero= data[['survived', 'sex']].groupby(['sex'], as_index=False).count().sort_values(by='survived', ascending=False)\n",
    "superviviente_por_genero\n",
    "\n"
   ],
   "outputs": [
    {
     "data": {
      "text/plain": [
       "      sex  survived\n",
       "1    male       843\n",
       "0  female       466"
      ],
      "text/html": [
       "<div>\n",
       "<style scoped>\n",
       "    .dataframe tbody tr th:only-of-type {\n",
       "        vertical-align: middle;\n",
       "    }\n",
       "\n",
       "    .dataframe tbody tr th {\n",
       "        vertical-align: top;\n",
       "    }\n",
       "\n",
       "    .dataframe thead th {\n",
       "        text-align: right;\n",
       "    }\n",
       "</style>\n",
       "<table border=\"1\" class=\"dataframe\">\n",
       "  <thead>\n",
       "    <tr style=\"text-align: right;\">\n",
       "      <th></th>\n",
       "      <th>sex</th>\n",
       "      <th>survived</th>\n",
       "    </tr>\n",
       "  </thead>\n",
       "  <tbody>\n",
       "    <tr>\n",
       "      <th>1</th>\n",
       "      <td>male</td>\n",
       "      <td>843</td>\n",
       "    </tr>\n",
       "    <tr>\n",
       "      <th>0</th>\n",
       "      <td>female</td>\n",
       "      <td>466</td>\n",
       "    </tr>\n",
       "  </tbody>\n",
       "</table>\n",
       "</div>"
      ]
     },
     "execution_count": 15,
     "metadata": {},
     "output_type": "execute_result"
    }
   ],
   "execution_count": 15
  },
  {
   "cell_type": "code",
   "id": "77b58875",
   "metadata": {
    "id": "77b58875",
    "outputId": "87a5ba51-30b5-42e6-e9a0-3f47f4a2ec53",
    "ExecuteTime": {
     "end_time": "2025-08-30T17:33:26.731982Z",
     "start_time": "2025-08-30T17:33:26.623841Z"
    }
   },
   "source": [
    "#grafico 4 de box plot para identificación de outliers\n",
    "plt.figure(figsize=(15,2))\n",
    "sns.boxplot(x=data['age'], fliersize=5, width=0.5);"
   ],
   "outputs": [
    {
     "data": {
      "text/plain": [
       "<Figure size 1500x200 with 1 Axes>"
      ],
      "image/png": "[encoded data removed]"
     },
     "metadata": {},
     "output_type": "display_data"
    }
   ],
   "execution_count": 16
  },
  {
   "cell_type": "code",
   "id": "da7c4b20",
   "metadata": {
    "id": "da7c4b20",
    "outputId": "99822ec0-54a3-4830-9c87-d27dc076bd3b",
    "ExecuteTime": {
     "end_time": "2025-08-30T17:33:26.903836Z",
     "start_time": "2025-08-30T17:33:26.810058Z"
    }
   },
   "source": [
    "#Grafico 5 de barras horizontales\n",
    "data['embarked'].value_counts().plot.barh()\n"
   ],
   "outputs": [
    {
     "data": {
      "text/plain": [
       "<Axes: ylabel='embarked'>"
      ]
     },
     "execution_count": 17,
     "metadata": {},
     "output_type": "execute_result"
    },
    {
     "data": {
      "text/plain": [
       "<Figure size 640x480 with 1 Axes>"
      ],
      "image/png": "[encoded data removed]"
     },
     "metadata": {},
     "output_type": "display_data"
    }
   ],
   "execution_count": 17
  },
  {
   "cell_type": "markdown",
   "id": "1188bf55",
   "metadata": {
    "id": "1188bf55"
   },
   "source": [
    "# Para finalizar los ejemplos realizaremos una matriz de correlación"
   ]
  },
  {
   "metadata": {
    "id": "eef79423",
    "outputId": "21cc3329-1b9f-40db-faad-53d1fccc47f1"
   },
   "cell_type": "code",
   "source": [
    "corr = data.corr(method ='pearson')\n",
    "plt.figure(figsize=(10,10))  # tamaño del gráfico\n",
    "sns.heatmap(data=corr,square=True, annot=True,cmap='coolwarm');"
   ],
   "id": "eef79423",
   "outputs": [],
   "execution_count": null
  },
  {
   "metadata": {
    "ExecuteTime": {
     "end_time": "2025-08-30T17:34:28.286855Z",
     "start_time": "2025-08-30T17:34:28.104835Z"
    }
   },
   "cell_type": "code",
   "source": [
    "numeric_data = data.select_dtypes(include=np.number)\n",
    "corr = numeric_data.corr(method='pearson')\n",
    "\n",
    "plt.figure(figsize=(10,10))\n",
    "sns.heatmap(data=corr, square=True, annot=True, cmap='coolwarm')\n",
    "plt.show()"
   ],
   "id": "2820a75fda57b435",
   "outputs": [
    {
     "data": {
      "text/plain": [
       "<Figure size 1000x1000 with 2 Axes>"
      ],
      "image/png": "[encoded data removed]"
     },
     "metadata": {},
     "output_type": "display_data"
    }
   ],
   "execution_count": 22
  },
  {
   "cell_type": "markdown",
   "id": "266bf181",
   "metadata": {
    "id": "266bf181"
   },
   "source": [
    "* Deben crear al menos 15 gráficos y 3 tablas que expliquen la data de la mejor manera.\n",
    "\n",
    "* Cada grafico debe tener observaciones relevantes a su diseño.\n",
    "\n",
    "* El trabajo debe ser desarrollado y enviado al correo j.guzman@profesor.duoc.cl"
   ]
  },
  {
   "cell_type": "code",
   "id": "f701c2e5",
   "metadata": {
    "id": "f701c2e5"
   },
   "source": [],
   "outputs": [],
   "execution_count": null
  }
 ],
 "metadata": {
  "kernelspec": {
   "display_name": "Python 3 (ipykernel)",
   "language": "python",
   "name": "python3"
  },
  "language_info": {
   "codemirror_mode": {
    "name": "ipython",
    "version": 3
   },
   "file_extension": ".py",
   "mimetype": "text/x-python",
   "name": "python",
   "nbconvert_exporter": "python",
   "pygments_lexer": "ipython3",
   "version": "3.9.13"
  },
  "colab": {
   "provenance": []
  }
 },
 "nbformat": 4,
 "nbformat_minor": 5
}
