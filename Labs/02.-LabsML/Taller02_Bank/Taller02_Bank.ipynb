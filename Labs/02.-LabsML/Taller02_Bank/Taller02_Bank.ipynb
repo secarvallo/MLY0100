{
 "cells": [
  {
   "cell_type": "code",
   "metadata": {
    "colab": {
     "base_uri": "https://localhost:8080/",
     "height": 560
    },
    "executionInfo": {
     "status": "ok",
     "timestamp": 1756752063442,
     "user_tz": 240,
     "elapsed": 664,
     "user": {
      "displayName": "SERGIO . CARVALLO TAPIA",
      "userId": "10733440839390506501"
     }
    },
    "outputId": "0bdde8db-e5c1-4e72-ff88-2d2932ecc522",
    "id": "4lK8lIyuhjzE"
   },
   "source": [
    "from IPython.display import Image\n",
    "from django.conf.urls import include\n",
    "\n",
    "Image(filename='/content/drive/MyDrive/MACHINE_LEARNING_704V/Labs/02.-LabsML/Taller02_Bank/bco-estado-cl.png')"
   ],
   "id": "4lK8lIyuhjzE",
   "outputs": [],
   "execution_count": null
  },
  {
   "metadata": {
    "id": "4fa9c28e629f854d",
    "executionInfo": {
     "status": "ok",
     "timestamp": 1756752063454,
     "user_tz": 240,
     "elapsed": 2,
     "user": {
      "displayName": "SERGIO . CARVALLO TAPIA",
      "userId": "10733440839390506501"
     }
    }
   },
   "cell_type": "code",
   "source": [
    "import numpy as np\n",
    "import pandas as pd\n",
    "import matplotlib.pyplot as plt\n",
    "import seaborn as sns"
   ],
   "id": "4fa9c28e629f854d",
   "outputs": [],
   "execution_count": null
  },
  {
   "metadata": {
    "id": "eba899c90422325a",
    "executionInfo": {
     "status": "ok",
     "timestamp": 1756752063791,
     "user_tz": 240,
     "elapsed": 335,
     "user": {
      "displayName": "SERGIO . CARVALLO TAPIA",
      "userId": "10733440839390506501"
     }
    }
   },
   "cell_type": "code",
   "source": [
    "# Carga de datos\n",
    "data = pd.read_csv(\"https://raw.githubusercontent.com/secarvallo/MLY0100/refs/heads/main/Labs/02.-LabsML/Taller02_Bank/bank.csv\", sep=\";\")"
   ],
   "id": "eba899c90422325a",
   "outputs": [],
   "execution_count": null
  },
  {
   "metadata": {},
   "cell_type": "code",
   "source": "data = pd.read_csv('bank.csv', sep=\";\")",
   "id": "d5f2e711a4a16174",
   "outputs": [],
   "execution_count": null
  },
  {
   "cell_type": "markdown",
   "source": [
    "# Business Understanding\n",
    "\n",
    "### Contexto:\n",
    "El banco busca promover un producto financiero específico: el **depósito a plazo fijo (term deposit)**.  \n",
    "Para esto, se realizaron campañas de marketing directo principalmente por vía telefónica, donde se contactó a clientes con el fin de ofrecerles este producto.  \n",
    "\n",
    "El desafío principal es que el costo de estas campañas es alto (tiempo y recursos), y la mayoría de los clientes contactados no acepta la oferta. Por lo tanto, es clave entender qué perfiles de clientes son más propensos a aceptar, así como las condiciones externas y del proceso de contacto que influyen en el éxito.  \n",
    "\n",
    "### Objetivo:\n",
    "El objetivo es **analizar y comprender los datos de clientes, campañas de marketing y contexto socioeconómico**, con el fin de:  \n",
    "- Identificar **patrones de comportamiento** que distingan a los clientes que aceptan el depósito a plazo.  \n",
    "- Reconocer qué **variables tienen mayor impacto en la decisión** (ejemplo: edad, tipo de empleo, duración de la llamada, historial crediticio, contexto económico).  \n",
    "- Sentar las bases para un **modelo predictivo de machine learning** que permita al banco optimizar futuras campañas, enfocándose en los clientes con mayor probabilidad de éxito."
   ],
   "metadata": {
    "id": "k-H4JJQoOh3h"
   },
   "id": "k-H4JJQoOh3h"
  },
  {
   "metadata": {},
   "cell_type": "markdown",
   "source": "# Data Understanding",
   "id": "a4deea33c1cc6c96"
  },
  {
   "metadata": {
    "ExecuteTime": {
     "end_time": "2025-09-01T21:02:16.172230Z",
     "start_time": "2025-09-01T21:02:16.157200Z"
    }
   },
   "cell_type": "markdown",
   "source": "###  Listado detallado de Atributos del del dataset",
   "id": "6e0516a685420534"
  },
  {
   "cell_type": "code",
   "source": [
    "excel_file_path = '/content/drive/MyDrive/MACHINE_LEARNING_704V/Labs/02.-LabsML/Taller02_Bank/Bank-data-dictionary.xlsx'\n",
    "df_excel = pd.read_excel(excel_file_path)\n",
    "display(df_excel)"
   ],
   "metadata": {
    "colab": {
     "base_uri": "https://localhost:8080/",
     "height": 771
    },
    "id": "9LAQFMDMh5zT",
    "executionInfo": {
     "status": "ok",
     "timestamp": 1756752063851,
     "user_tz": 240,
     "elapsed": 6,
     "user": {
      "displayName": "SERGIO . CARVALLO TAPIA",
      "userId": "10733440839390506501"
     }
    },
    "outputId": "efcf769d-545c-456c-8e2e-dad3c423aef9"
   },
   "id": "9LAQFMDMh5zT",
   "outputs": [],
   "execution_count": null
  },
  {
   "metadata": {
    "id": "c654abd23a677756",
    "colab": {
     "base_uri": "https://localhost:8080/",
     "height": 743
    },
    "outputId": "bfb6dd08-f57b-4948-fad2-7bfdf6e2f6ca",
    "executionInfo": {
     "status": "ok",
     "timestamp": 1756752063847,
     "user_tz": 240,
     "elapsed": 59,
     "user": {
      "displayName": "SERGIO . CARVALLO TAPIA",
      "userId": "10733440839390506501"
     }
    },
    "ExecuteTime": {
     "end_time": "2025-09-01T21:13:38.591411Z",
     "start_time": "2025-09-01T21:13:38.576904Z"
    }
   },
   "cell_type": "code",
   "source": [
    "types = data.dtypes\n",
    "print('Listado de atributos según sus tipos de datos\\n\\n',types)"
   ],
   "id": "c654abd23a677756",
   "outputs": [
    {
     "name": "stdout",
     "output_type": "stream",
     "text": [
      "Listado de atributos según sus tipos de datos\n",
      "\n",
      " age                 int64\n",
      "job                object\n",
      "marital            object\n",
      "education          object\n",
      "default            object\n",
      "housing            object\n",
      "loan               object\n",
      "contact            object\n",
      "month              object\n",
      "day_of_week        object\n",
      "duration            int64\n",
      "campaign            int64\n",
      "pdays               int64\n",
      "previous            int64\n",
      "poutcome           object\n",
      "emp.var.rate      float64\n",
      "cons.price.idx    float64\n",
      "cons.conf.idx     float64\n",
      "euribor3m         float64\n",
      "nr.employed       float64\n",
      "y                  object\n",
      "dtype: object\n"
     ]
    }
   ],
   "execution_count": 84
  },
  {
   "metadata": {
    "id": "9386786b509b8e70",
    "colab": {
     "base_uri": "https://localhost:8080/",
     "height": 300
    },
    "outputId": "b4f194fd-d947-431c-ab74-95d524cc4608",
    "executionInfo": {
     "status": "ok",
     "timestamp": 1756752063927,
     "user_tz": 240,
     "elapsed": 76,
     "user": {
      "displayName": "SERGIO . CARVALLO TAPIA",
      "userId": "10733440839390506501"
     }
    },
    "ExecuteTime": {
     "end_time": "2025-09-01T21:15:35.129666Z",
     "start_time": "2025-09-01T21:15:35.109100Z"
    }
   },
   "cell_type": "code",
   "source": [
    "int64 = data.describe(include='int64')\n",
    "print('Tipo int64\\n',int64)"
   ],
   "id": "9386786b509b8e70",
   "outputs": [
    {
     "name": "stdout",
     "output_type": "stream",
     "text": [
      "Tipo int64\n",
      "                age     duration     campaign        pdays     previous\n",
      "count  4119.000000  4119.000000  4119.000000  4119.000000  4119.000000\n",
      "mean     40.113620   256.788055     2.537266   960.422190     0.190337\n",
      "std      10.313362   254.703736     2.568159   191.922786     0.541788\n",
      "min      18.000000     0.000000     1.000000     0.000000     0.000000\n",
      "25%      32.000000   103.000000     1.000000   999.000000     0.000000\n",
      "50%      38.000000   181.000000     2.000000   999.000000     0.000000\n",
      "75%      47.000000   317.000000     3.000000   999.000000     0.000000\n",
      "max      88.000000  3643.000000    35.000000   999.000000     6.000000\n"
     ]
    }
   ],
   "execution_count": 89
  },
  {
   "metadata": {
    "ExecuteTime": {
     "end_time": "2025-09-01T21:15:47.995917Z",
     "start_time": "2025-09-01T21:15:47.967400Z"
    }
   },
   "cell_type": "code",
   "source": [
    "object =data.describe(include='object')\n",
    "print('Tipo object\\n',object)"
   ],
   "id": "fe733116a19aaee6",
   "outputs": [
    {
     "name": "stdout",
     "output_type": "stream",
     "text": [
      "Tipo object\n",
      "            job  marital          education default housing  loan   contact  \\\n",
      "count     4119     4119               4119    4119    4119  4119      4119   \n",
      "unique      12        4                  8       3       3     3         2   \n",
      "top     admin.  married  university.degree      no     yes    no  cellular   \n",
      "freq      1012     2509               1264    3315    2175  3349      2652   \n",
      "\n",
      "       month day_of_week     poutcome     y  \n",
      "count   4119        4119         4119  4119  \n",
      "unique    10           5            3     2  \n",
      "top      may         thu  nonexistent    no  \n",
      "freq    1378         860         3523  3668  \n"
     ]
    }
   ],
   "execution_count": 90
  },
  {
   "metadata": {
    "ExecuteTime": {
     "end_time": "2025-09-01T21:16:03.730115Z",
     "start_time": "2025-09-01T21:16:03.710208Z"
    }
   },
   "cell_type": "code",
   "source": [
    "float = data.describe(include='float64')\n",
    "print('Tipo float\\n',float)"
   ],
   "id": "6ef9beb2e29049a2",
   "outputs": [
    {
     "name": "stdout",
     "output_type": "stream",
     "text": [
      "Tipo float\n",
      "        emp.var.rate  cons.price.idx  cons.conf.idx    euribor3m  nr.employed\n",
      "count   4119.000000     4119.000000    4119.000000  4119.000000  4119.000000\n",
      "mean       0.084972       93.579704     -40.499102     3.621356  5166.481695\n",
      "std        1.563114        0.579349       4.594578     1.733591    73.667904\n",
      "min       -3.400000       92.201000     -50.800000     0.635000  4963.600000\n",
      "25%       -1.800000       93.075000     -42.700000     1.334000  5099.100000\n",
      "50%        1.100000       93.749000     -41.800000     4.857000  5191.000000\n",
      "75%        1.400000       93.994000     -36.400000     4.961000  5228.100000\n",
      "max        1.400000       94.767000     -26.900000     5.045000  5228.100000\n"
     ]
    }
   ],
   "execution_count": 91
  },
  {
   "metadata": {
    "id": "8a0dfb702ef56ebe",
    "colab": {
     "base_uri": "https://localhost:8080/"
    },
    "outputId": "abf3cc72-5589-42e8-f250-c54ac9b3494f",
    "executionInfo": {
     "status": "ok",
     "timestamp": 1756752064263,
     "user_tz": 240,
     "elapsed": 328,
     "user": {
      "displayName": "SERGIO . CARVALLO TAPIA",
      "userId": "10733440839390506501"
     }
    }
   },
   "cell_type": "code",
   "source": [
    "data.shape[0], data.shape[1]"
   ],
   "id": "8a0dfb702ef56ebe",
   "outputs": [],
   "execution_count": null
  },
  {
   "metadata": {
    "id": "88e3adf3ceb47d8d",
    "colab": {
     "base_uri": "https://localhost:8080/"
    },
    "outputId": "cfa4c8a9-1ac6-4e97-dc2b-1f83a83e77d3",
    "executionInfo": {
     "status": "ok",
     "timestamp": 1756752064270,
     "user_tz": 240,
     "elapsed": 6,
     "user": {
      "displayName": "SERGIO . CARVALLO TAPIA",
      "userId": "10733440839390506501"
     }
    }
   },
   "cell_type": "code",
   "source": [
    "data.shape"
   ],
   "id": "88e3adf3ceb47d8d",
   "outputs": [],
   "execution_count": null
  },
  {
   "metadata": {
    "id": "651f9988619ddcf6",
    "colab": {
     "base_uri": "https://localhost:8080/",
     "height": 743
    },
    "outputId": "7c33c290-0f80-41a2-c2db-4f7d982f8921",
    "executionInfo": {
     "status": "ok",
     "timestamp": 1756752064326,
     "user_tz": 240,
     "elapsed": 55,
     "user": {
      "displayName": "SERGIO . CARVALLO TAPIA",
      "userId": "10733440839390506501"
     }
    }
   },
   "cell_type": "code",
   "source": "data.isna().sum()",
   "id": "651f9988619ddcf6",
   "outputs": [],
   "execution_count": null
  },
  {
   "metadata": {
    "id": "fd320529f87f07b4",
    "colab": {
     "base_uri": "https://localhost:8080/"
    },
    "outputId": "3f503b91-1605-42a5-e927-7721588529df",
    "executionInfo": {
     "status": "ok",
     "timestamp": 1756752064327,
     "user_tz": 240,
     "elapsed": 50,
     "user": {
      "displayName": "SERGIO . CARVALLO TAPIA",
      "userId": "10733440839390506501"
     }
    }
   },
   "cell_type": "code",
   "source": [
    "categorical_vars = data.select_dtypes(exclude=np.number).columns.to_list()\n",
    "categorical_vars"
   ],
   "id": "fd320529f87f07b4",
   "outputs": [],
   "execution_count": null
  },
  {
   "metadata": {
    "id": "4f9856b71709d185",
    "colab": {
     "base_uri": "https://localhost:8080/"
    },
    "outputId": "f48a9b25-02bd-4843-d5f2-5bb7ccacc3ba",
    "executionInfo": {
     "status": "ok",
     "timestamp": 1756752064328,
     "user_tz": 240,
     "elapsed": 11,
     "user": {
      "displayName": "SERGIO . CARVALLO TAPIA",
      "userId": "10733440839390506501"
     }
    }
   },
   "cell_type": "code",
   "source": [
    "numerical_vars = data.select_dtypes(include=np.number).columns.to_list()\n",
    "numerical_vars"
   ],
   "id": "4f9856b71709d185",
   "outputs": [],
   "execution_count": null
  },
  {
   "metadata": {
    "id": "1ed1bf0bd52a7d64",
    "colab": {
     "base_uri": "https://localhost:8080/"
    },
    "outputId": "5f8fe26a-138e-4874-9a0d-ad1a8fcd4e31",
    "executionInfo": {
     "status": "ok",
     "timestamp": 1756752064328,
     "user_tz": 240,
     "elapsed": 6,
     "user": {
      "displayName": "SERGIO . CARVALLO TAPIA",
      "userId": "10733440839390506501"
     }
    }
   },
   "cell_type": "code",
   "source": [
    "valores_unicos = data['job'].unique()\n",
    "valores_unicos"
   ],
   "id": "1ed1bf0bd52a7d64",
   "outputs": [],
   "execution_count": null
  },
  {
   "metadata": {
    "id": "fd64d06552956af0",
    "colab": {
     "base_uri": "https://localhost:8080/",
     "height": 564
    },
    "outputId": "ee78d37a-956d-4694-a572-72fccb30cb97",
    "executionInfo": {
     "status": "ok",
     "timestamp": 1756752064339,
     "user_tz": 240,
     "elapsed": 10,
     "user": {
      "displayName": "SERGIO . CARVALLO TAPIA",
      "userId": "10733440839390506501"
     }
    }
   },
   "cell_type": "code",
   "source": [
    "k = int(np.ceil(1+np.log2(data.shape[0])))\n",
    "data['age'].hist(bins=k, figsize=(8,6)).set_title(\"Distribución de Edad\")\n",
    "plt.xlabel('Edad')\n",
    "plt.ylabel('Frecuencia')\n",
    "plt.show()"
   ],
   "id": "fd64d06552956af0",
   "outputs": [],
   "execution_count": null
  },
  {
   "cell_type": "markdown",
   "source": [
    "Distribución de Edad de los Clientes\n",
    "\n",
    "Este gráfico muestra cómo se distribuyen las edades de las personas que fueron contactadas en la campaña para ofrecer depósitos a plazo fijo.\n",
    "\n",
    "Lo que se busca con esto es ver si hay más clientes concentrados en ciertos rangos de edad. Esto importa porque la edad puede influir mucho en la decisión: los más jóvenes suelen estar menos interesados en ahorrar a largo plazo, mientras que personas de mediana edad o mayores tienden a valorar más este tipo de productos.\n",
    "\n",
    "Para el banco, este análisis ayuda a enfocar mejor las campañas, dirigiéndolas hacia los grupos etarios que tienen más posibilidades de aceptar la oferta y así gastar menos recursos en llamadas que probablemente no resulten"
   ],
   "metadata": {
    "id": "4i8TkFDL4Wtp"
   },
   "id": "4i8TkFDL4Wtp"
  },
  {
   "cell_type": "code",
   "source": [
    "k = int(np.ceil(1+np.log2(data.shape[0])))\n",
    "data['education'].hist(bins=k, figsize=(8,6)).set_title(\"Distribución de Edad\")\n",
    "plt.xlabel('education')\n",
    "plt.ylabel('Frecuencia')\n",
    "plt.xticks(rotation=45, ha='right')"
   ],
   "metadata": {
    "colab": {
     "base_uri": "https://localhost:8080/",
     "height": 816
    },
    "id": "HZtdsrMWwmJo",
    "outputId": "9b52e0eb-b972-4cbc-c3ee-3a21fe1f4808",
    "executionInfo": {
     "status": "ok",
     "timestamp": 1756752064526,
     "user_tz": 240,
     "elapsed": 193,
     "user": {
      "displayName": "SERGIO . CARVALLO TAPIA",
      "userId": "10733440839390506501"
     }
    }
   },
   "id": "HZtdsrMWwmJo",
   "outputs": [],
   "execution_count": null
  },
  {
   "cell_type": "markdown",
   "source": [
    "Distribución del Nivel Educativo\n",
    "\n",
    "Este gráfico muestra cuántos clientes contactados tienen distintos niveles de educación (básica, media, universitaria, etc.).\n",
    "\n",
    "La idea de verlo es entender si el nivel de estudios influye en aceptar o no el depósito a plazo. Por ejemplo, alguien con estudios más altos puede conocer mejor este tipo de productos y estar más dispuesto, mientras que otros pueden ser más desconfiados o no verlo tan útil.\n",
    "\n",
    "Para el banco, esto ayuda a adaptar el mensaje según el perfil y a enfocar las campañas donde haya más probabilidad de éxito"
   ],
   "metadata": {
    "id": "9codSOoE4tcT"
   },
   "id": "9codSOoE4tcT"
  },
  {
   "cell_type": "code",
   "source": [
    "k = int(np.ceil(1+np.log2(data.shape[0])))\n",
    "data['job'].hist(bins=k, figsize=(8,6)).set_title(\"Distribución de Edad\")\n",
    "plt.xlabel('job')\n",
    "plt.ylabel('Frecuencia')\n",
    "plt.xticks(rotation=45, ha='right')"
   ],
   "metadata": {
    "colab": {
     "base_uri": "https://localhost:8080/",
     "height": 861
    },
    "id": "XeuFfDkixEZl",
    "outputId": "87d786e2-8eaa-4bf6-e67e-39644adabd06",
    "executionInfo": {
     "status": "ok",
     "timestamp": 1756752064661,
     "user_tz": 240,
     "elapsed": 136,
     "user": {
      "displayName": "SERGIO . CARVALLO TAPIA",
      "userId": "10733440839390506501"
     }
    }
   },
   "id": "XeuFfDkixEZl",
   "outputs": [],
   "execution_count": null
  },
  {
   "cell_type": "markdown",
   "source": [
    "Distribución del Tipo de Empleo\n",
    "\n",
    "Aquí se ve en qué tipo de trabajo están los clientes: administrativo, técnico, servicios, desempleado, jubilado, etc. Cada barra representa cuántos clientes hay en cada categoría laboral.\n",
    "\n",
    "Esto es clave porque la situación laboral suele estar muy relacionada con el interés por un depósito a plazo. Por ejemplo:\n",
    "\n",
    "Un jubilado podría estar más interesado en ahorrar de manera segura.\n",
    "\n",
    "Un trabajador independiente o desempleado quizás no tenga tanta estabilidad para invertir.\n",
    "\n",
    "Profesionales o administrativos con ingresos más estables podrían estar más abiertos a este producto.\n",
    "\n",
    "Para el banco, este análisis ayuda a perfilar mejor a los clientes según su ocupación y a priorizar los segmentos donde hay mayor chance de éxito en la campaña."
   ],
   "metadata": {
    "id": "79Npk7GM4z4j"
   },
   "id": "79Npk7GM4z4j"
  },
  {
   "cell_type": "code",
   "source": [
    "data['contact'].value_counts().plot.pie(figsize=(5,5), autopct=\"%0.1f %%\");"
   ],
   "metadata": {
    "colab": {
     "base_uri": "https://localhost:8080/",
     "height": 422
    },
    "id": "Yde4rTUfvZnL",
    "outputId": "29b5e8d4-a6c8-4fc8-8fbd-77198a4f1b51",
    "executionInfo": {
     "status": "ok",
     "timestamp": 1756752064776,
     "user_tz": 240,
     "elapsed": 114,
     "user": {
      "displayName": "SERGIO . CARVALLO TAPIA",
      "userId": "10733440839390506501"
     }
    }
   },
   "id": "Yde4rTUfvZnL",
   "outputs": [],
   "execution_count": null
  },
  {
   "cell_type": "markdown",
   "source": [
    "Métodos de Contacto\n",
    "\n",
    "El gráfico indica qué porcentaje de clientes fue contactado por cada canal (por ejemplo, teléfono celular, teléfono fijo, etc.).\n",
    "\n",
    "Esto sirve para ver qué medio se utilizó más y también para analizar si el tipo de contacto influye en la probabilidad de que un cliente acepte la oferta. Quizás llamar al celular funciona mejor que al teléfono fijo, o al revés.\n",
    "\n",
    "Para el banco, esta información es útil porque permite enfocar recursos en el canal más efectivo y reducir costos en aquellos que no generan buenos resultados"
   ],
   "metadata": {
    "id": "ez7DKmmf44B8"
   },
   "id": "ez7DKmmf44B8"
  },
  {
   "cell_type": "code",
   "source": [
    "data['marital'].value_counts().plot.pie(figsize=(5,5), autopct=\"%0.1f %%\");"
   ],
   "metadata": {
    "colab": {
     "base_uri": "https://localhost:8080/",
     "height": 422
    },
    "id": "StBUm-nZxWsH",
    "outputId": "30eae45e-e81e-42d4-820f-0a4e17d15872",
    "executionInfo": {
     "status": "ok",
     "timestamp": 1756752064837,
     "user_tz": 240,
     "elapsed": 63,
     "user": {
      "displayName": "SERGIO . CARVALLO TAPIA",
      "userId": "10733440839390506501"
     }
    }
   },
   "id": "StBUm-nZxWsH",
   "outputs": [],
   "execution_count": null
  },
  {
   "cell_type": "markdown",
   "source": [
    "Estado Civil de los Clientes\n",
    "\n",
    "El gráfico muestra el porcentaje de clientes casados, solteros, divorciados, etc., dentro de la campaña.\n",
    "\n",
    "¿Por qué importa? Porque el estado civil puede influir en las decisiones financieras:\n",
    "\n",
    "Personas casadas podrían pensar más en ahorrar para la familia y ver atractivo un depósito a plazo.\n",
    "\n",
    "Solteros quizás tengan menos interés en comprometer dinero a largo plazo.\n",
    "\n",
    "Divorciados o viudos pueden tener un enfoque distinto según su situación económica.\n",
    "\n",
    "Para el banco, entender esta composición ayuda a ver qué grupo representa la mayor parte de los contactos y a pensar si la aceptación del producto varía según la situación familiar. Eso permitiría ajustar el enfoque de la campaña según cada perfil."
   ],
   "metadata": {
    "id": "92AHdNDP4-Lc"
   },
   "id": "92AHdNDP4-Lc"
  },
  {
   "metadata": {
    "id": "8fc25fdf4b848c80",
    "colab": {
     "base_uri": "https://localhost:8080/",
     "height": 175
    },
    "outputId": "8837a340-c0be-4bb6-9c39-e3fbfbd2e57c",
    "executionInfo": {
     "status": "ok",
     "timestamp": 1756752064842,
     "user_tz": 240,
     "elapsed": 4,
     "user": {
      "displayName": "SERGIO . CARVALLO TAPIA",
      "userId": "10733440839390506501"
     }
    }
   },
   "cell_type": "code",
   "source": [
    "# Estado Civil\n",
    "\n",
    "superviviente_por_genero = data[['loan', 'marital']].groupby(['marital'], as_index=False).count().sort_values(by='loan', ascending=False)\n",
    "superviviente_por_genero\n"
   ],
   "id": "8fc25fdf4b848c80",
   "outputs": [],
   "execution_count": null
  },
  {
   "metadata": {
    "id": "9c5d2ba8c47bc58f",
    "colab": {
     "base_uri": "https://localhost:8080/",
     "height": 234
    },
    "outputId": "79f75d94-320f-494b-84eb-eb3673f8ce06",
    "executionInfo": {
     "status": "ok",
     "timestamp": 1756752065022,
     "user_tz": 240,
     "elapsed": 135,
     "user": {
      "displayName": "SERGIO . CARVALLO TAPIA",
      "userId": "10733440839390506501"
     }
    }
   },
   "cell_type": "code",
   "source": [
    "plt.figure(figsize=(15,2))\n",
    "sns.boxplot(x=data[\"age\"], fliersize=5, width=0.5);"
   ],
   "id": "9c5d2ba8c47bc58f",
   "outputs": [],
   "execution_count": null
  },
  {
   "cell_type": "markdown",
   "source": [
    "Distribución de Edad\n",
    "\n",
    "Este boxplot permite ver de manera resumida cómo se distribuyen las edades:\n",
    "\n",
    "La caja central indica dónde está concentrada la mayoría de los clientes (mediana y cuartiles).\n",
    "\n",
    "Las “bigotes” muestran los rangos más comunes.\n",
    "\n",
    "Los puntitos fuera del rango son los outliers (clientes con edades muy distintas al resto, por ejemplo, muy jóvenes o muy mayores).\n",
    "\n",
    "¿Por qué es útil?\n",
    "Porque ayuda a identificar si la base de clientes está concentrada en ciertos rangos de edad y también si hay valores extremos que podrían afectar el análisis"
   ],
   "metadata": {
    "id": "SuF6dpRJ5EXd"
   },
   "id": "SuF6dpRJ5EXd"
  },
  {
   "cell_type": "markdown",
   "source": [
    "plt.figure(figsize=(15,2))\n",
    "sns.boxplot(x=data[\"age\"], fliersize=5, width=0.5);"
   ],
   "metadata": {
    "id": "aev549CNZwb6"
   },
   "id": "aev549CNZwb6"
  },
  {
   "cell_type": "code",
   "source": [
    "if 'jobs' in data.columns and 'job' not in data.columns: data = data.rename(columns={'jobs': 'job'})\n",
    "data['age'] = pd.to_numeric(data['age'], errors='coerce')\n",
    "\n",
    "sns.boxplot(x='job', y='age', data=data)\n",
    "plt.title('Diagrama de Caja: Edad por Trabajo')\n",
    "plt.xlabel('Job')\n",
    "plt.ylabel('Age')\n",
    "plt.xticks(rotation=45, ha='right')"
   ],
   "metadata": {
    "id": "GiJNpQj4T-PA",
    "colab": {
     "base_uri": "https://localhost:8080/",
     "height": 769
    },
    "outputId": "e44bda6a-4d6c-4fb2-b907-a44f26fdb9c5",
    "executionInfo": {
     "status": "ok",
     "timestamp": 1756752065689,
     "user_tz": 240,
     "elapsed": 668,
     "user": {
      "displayName": "SERGIO . CARVALLO TAPIA",
      "userId": "10733440839390506501"
     }
    }
   },
   "id": "GiJNpQj4T-PA",
   "outputs": [],
   "execution_count": null
  },
  {
   "cell_type": "markdown",
   "source": [
    "Diagrama de Caja: Edad por Trabajo\n",
    "\n",
    "Este gráfico muestra, para cada tipo de empleo, cómo se distribuyen las edades de los clientes.\n",
    "\n",
    "Cada caja resume el rango de edad más común en ese grupo laboral.\n",
    "\n",
    "La línea en el medio indica la edad promedio o típica (mediana).\n",
    "\n",
    "Los puntos fuera de la caja son casos extremos (clientes muy jóvenes o muy mayores en ese trabajo).\n",
    "\n",
    "¿Por qué es interesante?\n",
    "Porque permite ver si ciertos empleos concentran a clientes más jóvenes o más adultos. Por ejemplo:\n",
    "\n",
    "Trabajos técnicos o de servicios suelen tener clientes más jóvenes.\n",
    "\n",
    "Profesionales, administrativos o jubilados tienden a agrupar edades mayores.\n",
    "\n",
    "Para el banco, esto ayuda a perfilar mejor: no es lo mismo ofrecer un depósito a plazo a un estudiante o trabajador de servicios de 20 años que a un funcionario público o un jubilado de 60. Saber estas diferencias permite enfocar mejor las llamadas según la combinación de edad y ocupación"
   ],
   "metadata": {
    "id": "5zOeXfSn5OtO"
   },
   "id": "5zOeXfSn5OtO"
  },
  {
   "metadata": {
    "id": "be419eddebb842b7",
    "colab": {
     "base_uri": "https://localhost:8080/",
     "height": 843
    },
    "outputId": "1a572abf-07b9-4049-ba0d-f31cce15ee76",
    "executionInfo": {
     "status": "ok",
     "timestamp": 1756752066299,
     "user_tz": 240,
     "elapsed": 612,
     "user": {
      "displayName": "SERGIO . CARVALLO TAPIA",
      "userId": "10733440839390506501"
     }
    }
   },
   "cell_type": "code",
   "source": [
    "numeric_data = data.select_dtypes(include=np.number)\n",
    "corr = numeric_data.corr(method='pearson')\n",
    "\n",
    "plt.figure(figsize=(10,10))\n",
    "sns.heatmap(data=corr, square=True, annot=True, cmap=\"coolwarm\")\n",
    "plt.show()"
   ],
   "id": "be419eddebb842b7",
   "outputs": [],
   "execution_count": null
  },
  {
   "cell_type": "markdown",
   "source": [
    "Relación entre Variables Numéricas\n",
    "\n",
    "Este gráfico muestra cómo se relacionan las distintas variables numéricas entre sí. Por ejemplo, edad, saldo, duración de la llamada, etc.\n",
    "\n",
    "Los colores muestran si las variables suben o bajan juntas (positivo) o si una sube mientras la otra baja (negativo).\n",
    "\n",
    "Los números indican qué tan fuerte es esa relación.\n",
    "\n",
    "¿Por qué importa?\n",
    "Porque ayuda a ver qué cosas podrían influir más en que un cliente acepte el depósito:\n",
    "\n",
    "Si la duración de la llamada tiene una relación positiva fuerte con la aceptación, significa que llamadas más largas aumentan las chances.\n",
    "\n",
    "Lo mismo con el saldo o la edad: si se ve relación, son pistas de quién es más propenso a aceptar.\n",
    "\n",
    "Para el banco, esto sirve para entender mejor qué factores realmente importan y poder enfocar las campañas en los clientes que tienen más probabilidades de decir que sí."
   ],
   "metadata": {
    "id": "9io4THBH5nwp"
   },
   "id": "9io4THBH5nwp"
  },
  {
   "cell_type": "markdown",
   "source": [
    "##Variables importantes:\n",
    "\n",
    "-[previous , pdays ]\n",
    "\n",
    "##Variables con mayor correlación:\n",
    "\n",
    "-[emp.var.rate , eurinbor3m] (0.97)\n",
    "\n",
    "-[eurinbor3m , nr.employed] (0.94)\n",
    "\n",
    "-[emp.var.rate , nr.employed] (0.90)\n",
    "\n",
    "-[previous, pdays] (-0.59)\n",
    "\n"
   ],
   "metadata": {
    "id": "pm10tzF5FJH9"
   },
   "id": "pm10tzF5FJH9"
  },
  {
   "cell_type": "code",
   "source": [
    "plt.figure(figsize=(12,6))\n",
    "sns.boxplot(x=\"loan\", y=\"duration\", data=data, palette=\"Set3\")\n",
    "plt.xticks(rotation=45)\n",
    "plt.title(\"\")\n",
    "plt.show()"
   ],
   "metadata": {
    "id": "C0VUddbXbIPm",
    "colab": {
     "base_uri": "https://localhost:8080/",
     "height": 671
    },
    "outputId": "d310b4b2-23d9-4b89-d649-9d6f37b28d9c",
    "executionInfo": {
     "status": "ok",
     "timestamp": 1756752066519,
     "user_tz": 240,
     "elapsed": 219,
     "user": {
      "displayName": "SERGIO . CARVALLO TAPIA",
      "userId": "10733440839390506501"
     }
    }
   },
   "id": "C0VUddbXbIPm",
   "outputs": [],
   "execution_count": null
  },
  {
   "cell_type": "markdown",
   "source": [
    "Interpretación humana\n",
    "\n",
    "El eje y (500, 1000, 1500…) muestra la duración de la llamada en segundos (o la unidad que estén usando).\n",
    "\n",
    "El eje x (yes, no, unknown) indica el grupo de clientes según esa característica.\n",
    "\n",
    "La caja central muestra la duración típica de la llamada para cada grupo.\n",
    "\n",
    "Los puntitos fuera de la caja son llamadas mucho más cortas o largas que la mayoría.\n",
    "\n",
    "Qué nos dice:\n",
    "\n",
    "Permite ver si ciertos grupos requieren llamadas más largas o más cortas.\n",
    "\n",
    "Esto ayuda al banco a ajustar la estrategia según cada perfil y optimizar tiempo y recursos"
   ],
   "metadata": {
    "id": "Q4RXJxrY5qDI"
   },
   "id": "Q4RXJxrY5qDI"
  },
  {
   "cell_type": "code",
   "source": [
    "plt.figure(figsize=(12,6))\n",
    "sns.boxplot(x=\"month\", y=\"duration\", data=data, palette=\"Set3\")\n",
    "plt.xticks(rotation=45)\n",
    "plt.title(\"\")\n",
    "plt.show()"
   ],
   "metadata": {
    "colab": {
     "base_uri": "https://localhost:8080/",
     "height": 648
    },
    "id": "C6xe0m3umxld",
    "outputId": "b1f834e1-1130-4f02-ee5e-03ab4a267e7c",
    "executionInfo": {
     "status": "ok",
     "timestamp": 1756752066935,
     "user_tz": 240,
     "elapsed": 414,
     "user": {
      "displayName": "SERGIO . CARVALLO TAPIA",
      "userId": "10733440839390506501"
     }
    }
   },
   "id": "C6xe0m3umxld",
   "outputs": [],
   "execution_count": null
  },
  {
   "cell_type": "markdown",
   "source": [
    "Duración de la Llamada por Mes\n",
    "\n",
    "El eje y sigue mostrando la duración de la llamada (500, 1000, 1500, etc.).\n",
    "\n",
    "Cada caja indica cómo se distribuyen las duraciones de las llamadas en cada mes.\n",
    "\n",
    "La línea central es la mediana de duración, los bigotes muestran los rangos típicos y los puntos fuera son llamadas muy cortas o muy largas.\n",
    "\n",
    "Qué nos dice:\n",
    "\n",
    "Permite ver si hay meses en que las llamadas suelen ser más largas o más cortas, lo que puede indicar que los clientes están más o menos receptivos según la época del año.\n",
    "\n",
    "Por ejemplo, un mes con llamadas más largas podría significar que los clientes necesitan más tiempo para decidir, o que la campaña no es tan efectiva.\n",
    "\n",
    "Para el banco, esto ayuda a planificar mejor las campañas, ajustando la duración promedio de las llamadas según el mes y optimizando recursos"
   ],
   "metadata": {
    "id": "uCRP4AED5uCB"
   },
   "id": "uCRP4AED5uCB"
  },
  {
   "cell_type": "code",
   "source": [
    "plt.figure(figsize=(12,6))\n",
    "sns.boxplot(x=\"day_of_week\", y=\"duration\", data=data, palette=\"Set3\")\n",
    "plt.xticks(rotation=45)\n",
    "plt.title(\"Distribución de Edad por Tipo de Trabajo\")\n",
    "plt.show()"
   ],
   "metadata": {
    "colab": {
     "base_uri": "https://localhost:8080/",
     "height": 671
    },
    "id": "pHJANN-RoPhx",
    "outputId": "188435e8-98d8-4cdb-a62b-84fc0a7c3869",
    "executionInfo": {
     "status": "ok",
     "timestamp": 1756752067316,
     "user_tz": 240,
     "elapsed": 374,
     "user": {
      "displayName": "SERGIO . CARVALLO TAPIA",
      "userId": "10733440839390506501"
     }
    }
   },
   "id": "pHJANN-RoPhx",
   "outputs": [],
   "execution_count": null
  },
  {
   "cell_type": "markdown",
   "source": [
    "Duración de la Llamada por Día de la Semana\n",
    "\n",
    "El eje y sigue mostrando la duración de la llamada (por ejemplo, 500, 1000, 1500…).\n",
    "\n",
    "Cada caja indica cómo se distribuyen las duraciones de las llamadas según el día (lunes, martes, miércoles, etc.).\n",
    "\n",
    "La línea central es la mediana, los bigotes muestran el rango habitual y los puntos fuera son llamadas mucho más largas o cortas que la mayoría.\n",
    "\n",
    "Qué nos dice:\n",
    "\n",
    "Permite ver si ciertos días requieren llamadas más largas o más cortas.\n",
    "\n",
    "Por ejemplo, los lunes podrían ser más complicados porque la gente está ocupada, mientras que otros días podrían ser más efectivos.\n",
    "\n",
    "Para el banco, esto ayuda a planificar mejor las campañas, eligiendo los días más eficientes para llamar y optimizando tiempo y recursos"
   ],
   "metadata": {
    "id": "3SMMYx0c5y1h"
   },
   "id": "3SMMYx0c5y1h"
  },
  {
   "cell_type": "code",
   "source": [
    "plt.figure(figsize=(12,6))\n",
    "sns.boxplot(x=\"housing\", y=\"duration\", data=data, palette=\"Set3\")\n",
    "plt.xticks(rotation=45)\n",
    "plt.title(\"Distribución de Edad por Tipo de Trabajo\")\n",
    "plt.show()"
   ],
   "metadata": {
    "colab": {
     "base_uri": "https://localhost:8080/",
     "height": 694
    },
    "id": "HHnUUODVl9A7",
    "outputId": "5d527d18-ca85-49c9-ecc2-9c45de029100",
    "executionInfo": {
     "status": "ok",
     "timestamp": 1756752067603,
     "user_tz": 240,
     "elapsed": 284,
     "user": {
      "displayName": "SERGIO . CARVALLO TAPIA",
      "userId": "10733440839390506501"
     }
    }
   },
   "id": "HHnUUODVl9A7",
   "outputs": [],
   "execution_count": null
  },
  {
   "cell_type": "markdown",
   "source": [
    "\n",
    "\n",
    "\n",
    "Duración de la Llamada por Tipo de Vivienda\n",
    "\n",
    "El eje y muestra la duración de la llamada (500, 1000, 1500…).\n",
    "\n",
    "Cada caja indica cómo se distribuyen las duraciones de las llamadas según el tipo de vivienda.\n",
    "\n",
    "La línea central es la mediana, los bigotes muestran el rango más común y los puntos fuera son llamadas mucho más cortas o largas que la mayoría.\n",
    "\n",
    "Qué nos dice:\n",
    "\n",
    "Permite identificar si clientes con distintos tipos de vivienda requieren llamadas más largas o más cortas.\n",
    "\n",
    "Por ejemplo, clientes con hipoteca o vivienda propia podrían estar más interesados en productos de ahorro y responder más rápido, mientras que quienes alquilan podrían necesitar más explicación.\n",
    "\n",
    "Para el banco, esto ayuda a ajustar la estrategia de llamadas según el perfil de vivienda, optimizando tiempo y aumentando la probabilidad de éxito"
   ],
   "metadata": {
    "id": "WZijpCw450zC"
   },
   "id": "WZijpCw450zC"
  },
  {
   "cell_type": "code",
   "source": [
    "plt.figure(figsize=(12,6))\n",
    "sns.boxplot(x=\"campaign\", y=\"age\", data=data, palette=\"Set3\")\n",
    "plt.xticks(rotation=45)\n",
    "plt.title(\"Distribución de Edad por campaña\")\n",
    "plt.show()"
   ],
   "metadata": {
    "colab": {
     "base_uri": "https://localhost:8080/",
     "height": 662
    },
    "id": "hJgSuPt4pdQB",
    "outputId": "1c61334a-fe60-44a4-be77-cad1e4745977",
    "executionInfo": {
     "status": "ok",
     "timestamp": 1756752068426,
     "user_tz": 240,
     "elapsed": 825,
     "user": {
      "displayName": "SERGIO . CARVALLO TAPIA",
      "userId": "10733440839390506501"
     }
    }
   },
   "id": "hJgSuPt4pdQB",
   "outputs": [],
   "execution_count": null
  },
  {
   "cell_type": "markdown",
   "source": [
    "Distribución de Edad por Campaña\n",
    "\n",
    "El eje y muestra la edad de los clientes.\n",
    "\n",
    "El eje x indica las diferentes campañas realizadas.\n",
    "\n",
    "Cada caja representa cómo se distribuyen las edades dentro de cada campaña: la línea del medio es la mediana, los bigotes muestran el rango habitual y los puntos fuera son clientes con edades muy distintas al resto.\n",
    "\n",
    "Qué nos dice:\n",
    "\n",
    "Permite ver si ciertas campañas estuvieron más orientadas a clientes jóvenes o adultos.\n",
    "\n",
    "También ayuda a identificar patrones: algunas campañas podrían haber contactado principalmente a un rango etario que responde mejor a los depósitos a plazo.\n",
    "\n",
    "Para el banco, esto sirve para analizar qué campañas funcionaron mejor con qué grupos de edad, y así orientar futuras campañas hacia los clientes con más probabilidad de éxito."
   ],
   "metadata": {
    "id": "lJuIekXy7Web"
   },
   "id": "lJuIekXy7Web"
  },
  {
   "cell_type": "code",
   "source": [
    "plt.figure(figsize=(12,6))\n",
    "sns.boxplot(x=\"campaign\", y=\"duration\", data=data, palette=\"Set3\")\n",
    "plt.xticks(rotation=45)\n",
    "plt.title(\"Distribución de Edad por campaña\")\n",
    "plt.show()"
   ],
   "metadata": {
    "colab": {
     "base_uri": "https://localhost:8080/",
     "height": 662
    },
    "id": "u0B7fCQ1yT-T",
    "outputId": "c954c877-339f-4102-da0f-41d27721fed2",
    "executionInfo": {
     "status": "ok",
     "timestamp": 1756752069252,
     "user_tz": 240,
     "elapsed": 814,
     "user": {
      "displayName": "SERGIO . CARVALLO TAPIA",
      "userId": "10733440839390506501"
     }
    }
   },
   "id": "u0B7fCQ1yT-T",
   "outputs": [],
   "execution_count": null
  },
  {
   "metadata": {},
   "cell_type": "markdown",
   "source": [
    "Duración de la Llamada por Campaña\n",
    "\n",
    "El eje y muestra la duración de la llamada (por ejemplo, 500, 1000, 1500…).\n",
    "\n",
    "El eje x indica las diferentes campañas realizadas.\n",
    "\n",
    "Cada caja representa cómo se distribuyen las duraciones dentro de cada campaña: la línea central es la mediana, los bigotes muestran el rango típico y los puntos fuera son llamadas muy cortas o largas.\n",
    "\n",
    "Qué nos dice:\n",
    "\n",
    "Permite ver si ciertas campañas requerían llamadas más largas o más cortas.\n",
    "\n",
    "Esto puede indicar que algunos grupos de clientes necesitan más tiempo para decidir o que algunas campañas fueron más efectivas y lograron respuestas rápidas.\n",
    "\n",
    "Para el banco, esto ayuda a optimizar futuras campañas, enfocando recursos en las que generen resultados con menos tiempo de llamada y ajustando la duración según el tipo de cliente y la campaña."
   ],
   "id": "a2423e9d01824c08"
  },
  {
   "cell_type": "code",
   "source": [
    "plt.figure(figsize=(12,6))\n",
    "sns.boxplot(x=\"campaign\", y=\"y\", data=data, palette=\"Set3\")\n",
    "plt.xticks(rotation=45)\n",
    "plt.title(\"\")\n",
    "plt.show()"
   ],
   "metadata": {
    "id": "2ChOpeCey-gG",
    "outputId": "b47d8ff1-4c91-4c32-d192-f4f8e2e95641",
    "colab": {
     "base_uri": "https://localhost:8080/",
     "height": 639
    },
    "executionInfo": {
     "status": "ok",
     "timestamp": 1756752069408,
     "user_tz": 240,
     "elapsed": 155,
     "user": {
      "displayName": "SERGIO . CARVALLO TAPIA",
      "userId": "10733440839390506501"
     }
    }
   },
   "id": "2ChOpeCey-gG",
   "outputs": [],
   "execution_count": null
  },
  {
   "metadata": {},
   "cell_type": "markdown",
   "source": [
    "Resultado de la Campaña por Clientes\n",
    "\n",
    "El eje y muestra la variable y (generalmente codificada como 1 = sí aceptó, 0 = no aceptó).\n",
    "\n",
    "El eje x indica las diferentes campañas realizadas.\n",
    "\n",
    "Cada caja muestra cómo se distribuyen las respuestas dentro de cada campaña: la línea central indica la mediana de aceptación y los puntos fuera son casos atípicos.\n",
    "\n",
    "Qué nos dice:\n",
    "\n",
    "Permite ver qué campañas tuvieron más éxito en términos de aceptación.\n",
    "\n",
    "Si algunas campañas muestran medianas más altas, significa que fueron más efectivas en convencer a los clientes.\n",
    "\n",
    "También ayuda a identificar campañas donde los clientes rechazaron la oferta con más frecuencia.\n",
    "\n",
    "Para el banco, este gráfico sirve para evaluar y comparar la efectividad de cada campaña, y decidir en cuáles conviene invertir más tiempo y recursos en el futuro"
   ],
   "id": "31076d42fc3af50c"
  },
  {
   "cell_type": "code",
   "source": [
    "plt.figure(figsize=(12,6))\n",
    "sns.boxplot(x=\"education\", y=\"age\", data=data, palette=\"Set3\")\n",
    "plt.xticks(rotation=45)\n",
    "plt.title(\"Distribución de prestamo por edad\")\n",
    "plt.show()"
   ],
   "metadata": {
    "colab": {
     "base_uri": "https://localhost:8080/",
     "height": 745
    },
    "id": "pagWyaX_rUYX",
    "outputId": "c3834084-184d-4592-d8da-df1e564108ed",
    "executionInfo": {
     "status": "ok",
     "timestamp": 1756752069724,
     "user_tz": 240,
     "elapsed": 307,
     "user": {
      "displayName": "SERGIO . CARVALLO TAPIA",
      "userId": "10733440839390506501"
     }
    }
   },
   "id": "pagWyaX_rUYX",
   "outputs": [],
   "execution_count": null
  },
  {
   "cell_type": "markdown",
   "source": [
    "Distribución de Edad según Nivel Educativo\n",
    "\n",
    "El eje y muestra la edad de los clientes.\n",
    "\n",
    "El eje x indica el nivel de educación (primaria, secundaria, universitaria, etc.).\n",
    "\n",
    "Cada caja representa cómo se distribuyen las edades dentro de cada nivel educativo: la línea central es la mediana, los bigotes muestran el rango habitual y los puntos fuera son casos atípicos.\n",
    "\n",
    "Qué nos dice:\n",
    "\n",
    "Permite ver si ciertos niveles educativos concentran clientes más jóvenes o más adultos.\n",
    "\n",
    "Por ejemplo, clientes con estudios universitarios pueden ser más jóvenes en promedio que clientes con educación básica, dependiendo de la base de datos.\n",
    "\n",
    "Para el banco, esto ayuda a perfilar mejor a los clientes y entender cómo la edad y la educación podrían influir en la aceptación del depósito a plazo"
   ],
   "metadata": {
    "id": "jZiHnFxK7hQL"
   },
   "id": "jZiHnFxK7hQL"
  },
  {
   "cell_type": "code",
   "source": [
    "plt.figure(figsize=(12,6))\n",
    "sns.boxplot(x=\"marital\", y=\"age\", data=data, palette=\"Set3\")\n",
    "plt.xticks(rotation=45)\n",
    "plt.title(\"Distribución de prestamo por edad\")\n",
    "plt.show()"
   ],
   "metadata": {
    "colab": {
     "base_uri": "https://localhost:8080/",
     "height": 694
    },
    "id": "u0XRcfELsyxE",
    "outputId": "c755d0c1-0b07-4b40-8772-c244b315569f",
    "executionInfo": {
     "status": "ok",
     "timestamp": 1756752069943,
     "user_tz": 240,
     "elapsed": 101,
     "user": {
      "displayName": "SERGIO . CARVALLO TAPIA",
      "userId": "10733440839390506501"
     }
    }
   },
   "id": "u0XRcfELsyxE",
   "outputs": [],
   "execution_count": null
  },
  {
   "cell_type": "markdown",
   "source": [
    "Distribución de Edad según Estado Civil\n",
    "\n",
    "El eje y muestra la edad de los clientes.\n",
    "\n",
    "El eje x indica el estado civil (soltero, casado, divorciado, etc.).\n",
    "\n",
    "Cada caja representa cómo se distribuyen las edades dentro de cada grupo: la línea central es la mediana, los bigotes muestran el rango más común y los puntos fuera son clientes con edades muy distintas.\n",
    "\n",
    "Qué nos dice:\n",
    "\n",
    "Permite ver si ciertos estados civiles concentran clientes más jóvenes o más adultos.\n",
    "\n",
    "Por ejemplo, los casados podrían tender a un rango de edad más alto que los solteros.\n",
    "\n",
    "Para el banco, esto ayuda a perfilarlos mejor y a entender cómo la edad y el estado civil podrían influir en la decisión de aceptar un depósito a plazo"
   ],
   "metadata": {
    "id": "RA1G_o9j7llM"
   },
   "id": "RA1G_o9j7llM"
  },
  {
   "cell_type": "code",
   "source": [
    "plt.figure(figsize=(12,6))\n",
    "sns.boxplot(x=\"month\", y=\"campaign\", data=data, palette=\"Set3\")\n",
    "plt.xticks(rotation=45)\n",
    "plt.title(\"Distribución de prestamo por edad\")\n",
    "plt.show()"
   ],
   "metadata": {
    "colab": {
     "base_uri": "https://localhost:8080/",
     "height": 671
    },
    "id": "ZPY6dkZJuoib",
    "outputId": "a88fb9ea-1749-46c8-ac90-e72b36929c74",
    "executionInfo": {
     "status": "ok",
     "timestamp": 1756752070259,
     "user_tz": 240,
     "elapsed": 306,
     "user": {
      "displayName": "SERGIO . CARVALLO TAPIA",
      "userId": "10733440839390506501"
     }
    }
   },
   "id": "ZPY6dkZJuoib",
   "outputs": [],
   "execution_count": null
  },
  {
   "cell_type": "markdown",
   "source": [
    "Número de Contactos por Mes\n",
    "\n",
    "El eje y muestra la cantidad de veces que se contactó a un cliente en la campaña.\n",
    "\n",
    "El eje x indica los meses del año.\n",
    "\n",
    "Cada caja muestra cómo se distribuye la cantidad de contactos dentro de cada mes: la línea central es la mediana, los bigotes muestran el rango típico y los puntos fuera son casos con muchos más o menos contactos de lo habitual.\n",
    "\n",
    "Qué nos dice:\n",
    "\n",
    "Permite ver si en algunos meses se hicieron más llamadas por cliente que en otros.\n",
    "\n",
    "Esto ayuda a identificar campañas más intensivas o meses donde los clientes recibieron menos contactos.\n",
    "\n",
    "Para el banco, sirve para analizar la estrategia de contacto y ajustar la frecuencia de llamadas según el mes, optimizando recursos y aumentando la probabilidad de éxito"
   ],
   "metadata": {
    "id": "HvyyKQrF7q8E"
   },
   "id": "HvyyKQrF7q8E"
  },
  {
   "cell_type": "code",
   "source": [
    "vu_job = data['job'].unique()\n",
    "vu_job"
   ],
   "metadata": {
    "colab": {
     "base_uri": "https://localhost:8080/"
    },
    "id": "wSvA8CUAiRM_",
    "outputId": "716c377f-93e7-4fcc-aec6-78d563da480d",
    "executionInfo": {
     "status": "ok",
     "timestamp": 1756752070295,
     "user_tz": 240,
     "elapsed": 27,
     "user": {
      "displayName": "SERGIO . CARVALLO TAPIA",
      "userId": "10733440839390506501"
     }
    }
   },
   "id": "wSvA8CUAiRM_",
   "outputs": [],
   "execution_count": null
  },
  {
   "cell_type": "code",
   "source": [
    "vu_job = data['marital'].unique()\n",
    "vu_job"
   ],
   "metadata": {
    "colab": {
     "base_uri": "https://localhost:8080/"
    },
    "id": "4zdcnjjziogt",
    "outputId": "f9b19217-6759-4c18-d824-bab835d81dc5",
    "executionInfo": {
     "status": "ok",
     "timestamp": 1756752070307,
     "user_tz": 240,
     "elapsed": 11,
     "user": {
      "displayName": "SERGIO . CARVALLO TAPIA",
      "userId": "10733440839390506501"
     }
    }
   },
   "id": "4zdcnjjziogt",
   "outputs": [],
   "execution_count": null
  },
  {
   "cell_type": "code",
   "source": [
    "vu_job = data['education'].unique()\n",
    "vu_job"
   ],
   "metadata": {
    "colab": {
     "base_uri": "https://localhost:8080/"
    },
    "id": "15HInf9Giqum",
    "outputId": "b076a6f5-14d8-49c6-bc6e-ded2a65c4296",
    "executionInfo": {
     "status": "ok",
     "timestamp": 1756752070349,
     "user_tz": 240,
     "elapsed": 40,
     "user": {
      "displayName": "SERGIO . CARVALLO TAPIA",
      "userId": "10733440839390506501"
     }
    }
   },
   "id": "15HInf9Giqum",
   "outputs": [],
   "execution_count": null
  },
  {
   "cell_type": "code",
   "source": [
    "vu_job = data['default'].unique()\n",
    "vu_job"
   ],
   "metadata": {
    "colab": {
     "base_uri": "https://localhost:8080/"
    },
    "id": "YxSo1wG1i9wh",
    "outputId": "fec1bb15-0fc1-4715-87c2-e74204a2aa91",
    "executionInfo": {
     "status": "ok",
     "timestamp": 1756752070392,
     "user_tz": 240,
     "elapsed": 41,
     "user": {
      "displayName": "SERGIO . CARVALLO TAPIA",
      "userId": "10733440839390506501"
     }
    }
   },
   "id": "YxSo1wG1i9wh",
   "outputs": [],
   "execution_count": null
  },
  {
   "cell_type": "code",
   "source": [
    "vu_job = data['housing'].unique()\n",
    "vu_job"
   ],
   "metadata": {
    "colab": {
     "base_uri": "https://localhost:8080/"
    },
    "id": "hhGcbclki-IN",
    "outputId": "c70864ff-5936-4ba2-d5e3-75c1108a4841",
    "executionInfo": {
     "status": "ok",
     "timestamp": 1756752070397,
     "user_tz": 240,
     "elapsed": 4,
     "user": {
      "displayName": "SERGIO . CARVALLO TAPIA",
      "userId": "10733440839390506501"
     }
    }
   },
   "id": "hhGcbclki-IN",
   "outputs": [],
   "execution_count": null
  },
  {
   "cell_type": "code",
   "source": [
    "vu_job = data['loan'].unique()\n",
    "vu_job"
   ],
   "metadata": {
    "colab": {
     "base_uri": "https://localhost:8080/"
    },
    "id": "ZKBSO_jPjBeV",
    "outputId": "03c6cc12-f061-4b2b-8359-bd79c30d0f2f",
    "executionInfo": {
     "status": "ok",
     "timestamp": 1756752070862,
     "user_tz": 240,
     "elapsed": 464,
     "user": {
      "displayName": "SERGIO . CARVALLO TAPIA",
      "userId": "10733440839390506501"
     }
    }
   },
   "id": "ZKBSO_jPjBeV",
   "outputs": [],
   "execution_count": null
  },
  {
   "cell_type": "code",
   "source": [
    "vu_job = data['contact'].unique()\n",
    "vu_job"
   ],
   "metadata": {
    "colab": {
     "base_uri": "https://localhost:8080/"
    },
    "id": "28GbBj64jDQ7",
    "outputId": "c38c88b0-923a-4bee-c51d-f0d804fde2e3",
    "executionInfo": {
     "status": "ok",
     "timestamp": 1756752070867,
     "user_tz": 240,
     "elapsed": 6,
     "user": {
      "displayName": "SERGIO . CARVALLO TAPIA",
      "userId": "10733440839390506501"
     }
    }
   },
   "id": "28GbBj64jDQ7",
   "outputs": [],
   "execution_count": null
  },
  {
   "cell_type": "code",
   "source": [
    "vu_job = data['month'].unique()\n",
    "vu_job"
   ],
   "metadata": {
    "colab": {
     "base_uri": "https://localhost:8080/"
    },
    "id": "a-ciBi8yjDe0",
    "outputId": "a7da4afd-30f8-4d94-ec5f-0af5986f8478",
    "executionInfo": {
     "status": "ok",
     "timestamp": 1756752070873,
     "user_tz": 240,
     "elapsed": 5,
     "user": {
      "displayName": "SERGIO . CARVALLO TAPIA",
      "userId": "10733440839390506501"
     }
    }
   },
   "id": "a-ciBi8yjDe0",
   "outputs": [],
   "execution_count": null
  },
  {
   "cell_type": "code",
   "source": [
    "vu_job = data['day_of_week'].unique()\n",
    "vu_job"
   ],
   "metadata": {
    "colab": {
     "base_uri": "https://localhost:8080/"
    },
    "id": "647dyQYIjDp9",
    "outputId": "a832eb05-46a5-46ff-eb2f-f1508f8493c5",
    "executionInfo": {
     "status": "ok",
     "timestamp": 1756752070888,
     "user_tz": 240,
     "elapsed": 14,
     "user": {
      "displayName": "SERGIO . CARVALLO TAPIA",
      "userId": "10733440839390506501"
     }
    }
   },
   "id": "647dyQYIjDp9",
   "outputs": [],
   "execution_count": null
  },
  {
   "cell_type": "code",
   "source": [
    "vu_job = data['poutcome'].unique()\n",
    "vu_job"
   ],
   "metadata": {
    "colab": {
     "base_uri": "https://localhost:8080/"
    },
    "id": "32u0zYpJjDxz",
    "outputId": "172cc68b-fb4c-4371-ec53-a5bb1e9e5467",
    "executionInfo": {
     "status": "ok",
     "timestamp": 1756752070895,
     "user_tz": 240,
     "elapsed": 5,
     "user": {
      "displayName": "SERGIO . CARVALLO TAPIA",
      "userId": "10733440839390506501"
     }
    }
   },
   "id": "32u0zYpJjDxz",
   "outputs": [],
   "execution_count": null
  }
 ],
 "metadata": {
  "kernelspec": {
   "name": "python3",
   "language": "python",
   "display_name": "Python 3 (ipykernel)"
  },
  "colab": {
   "provenance": []
  }
 },
 "nbformat": 4,
 "nbformat_minor": 5
}
